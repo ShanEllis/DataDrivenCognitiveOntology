{
 "cells": [
  {
   "cell_type": "code",
   "execution_count": 1,
   "metadata": {},
   "outputs": [],
   "source": [
    "# Import cognitive atlas & relevent libraries\n",
    "from cognitiveatlas.api import search, get_disorder, get_concept, get_task\n",
    "import pandas as pd\n",
    "import numpy as np\n",
    "import matplotlib.mlab as mlab\n",
    "import matplotlib.pyplot as plt\n",
    "import collections"
   ]
  },
  {
   "cell_type": "code",
   "execution_count": 3,
   "metadata": {},
   "outputs": [
    {
     "name": "stdout",
     "output_type": "stream",
     "text": [
      "http://cognitiveatlas.org/api/v-alpha/disorder?\n",
      "Result Includes:<pandas:data frame><json:dict><txt:str><url:str>\n"
     ]
    }
   ],
   "source": [
    "# Goal number one was to look at all the weird fake entries under disorders\n",
    "# Getting the list for \"is_a_protocol\"—the field that indicates the fake entries\n",
    "# first attempt at filtering those\n",
    "disorder_id_prots = [disorder[\"is_a_protocol\"] for disorder in get_disorder().json]"
   ]
  },
  {
   "cell_type": "code",
   "execution_count": 4,
   "metadata": {
    "collapsed": true
   },
   "outputs": [],
   "source": [
    "# turning that list into a boolean for whether or not it's a real entry\n",
    "# i didn't wind up doing the filtering this way, but whatever\n",
    "\n",
    "doid_ind = []\n",
    "\n",
    "for id_prot in disorder_id_prots:\n",
    "    doid_ind.append(id_prot==\"DOID\")"
   ]
  },
  {
   "cell_type": "code",
   "execution_count": 5,
   "metadata": {},
   "outputs": [
    {
     "name": "stdout",
     "output_type": "stream",
     "text": [
      "http://cognitiveatlas.org/api/v-alpha/disorder?\n",
      "Result Includes:<pandas:data frame><json:dict><txt:str><url:str>\n"
     ]
    }
   ],
   "source": [
    "disorders = get_disorder().pandas\n",
    "\n",
    "# collecting all the definitions for the fake disorders\n",
    "# this was made a bit awkward because \"def\" is both  the name of \n",
    "# one of the fields in the set of disorders, and also a keyword in python\n",
    "# \n",
    "\n",
    "disorder_bads_descriptions = [disorders[\"def\"][ind] for ind in range(0,219) if disorders.is_a_protocol[ind]!=\"DOID\"]\n",
    "disorder_bads_names = [disorders.name[ind] for ind in range(0,219) if disorders.is_a_protocol[ind]!=\"DOID\"]"
   ]
  },
  {
   "cell_type": "code",
   "execution_count": 6,
   "metadata": {},
   "outputs": [
    {
     "data": {
      "text/plain": [
       "{'Flapjacks': 'Did I add this?',\n",
       " 'Letter position dyslexia': 'Letter position dyslexia is a type of reading disorder that results from an impairment in the encoding of letter positions within the word. It can be developmental or acquired. The main characteristic of this dyslexia is letter transpositions within the word (reading from as \"form\", parties as \"pirates). ',\n",
       " 'Wingnut': 'Vivamus vitae mollis justo. Sed auctor porta pretium. Cras ac consectetur sem. Phasellus nec ligula eu turpis adipiscing rhoncus mattis eget lacus. Cras posuere dictum aliquam. Vivamus tincidunt odio sed diam dictum tincidunt. Ut ante orci, vestibulum ac congue id, molestie eu mi. Phasellus fermentum dolor velit, vel tristique erat pulvinar eu.\\r\\n\\r\\nQuisque sodales mi ac auctor egestas. Nulla ullamcorper eu purus ultrices volutpat. Fusce condimentum, nisl a laoreet tempus, lacus massa mattis dolor, vel consectetur erat nulla non sem. Suspendisse ultrices ut turpis eget malesuada. Pellentesque habitant morbi tristique senectus et netus et malesuada fames ac turpis egestas. Proin id malesuada urna. Sed ornare, sem eget semper egestas, orci libero elementum odio, at aliquet urna massa a risus. Aenean scelerisque bibendum ultricies. Pellentesque ut purus rutrum eros eleifend hendrerit ut sit amet dui.\\r\\n\\r\\nNunc eu pulvinar eros. Nunc ac hendrerit est. Maecenas sed lectus quis velit sollicitudin consectetur. Curabitur et vestibulum diam. Nulla sollicitudin, sapien sed condimentum cursus, dolor tortor lobortis velit, at viverra ipsum lacus nec tortor. Duis rutrum felis leo, ut pharetra mi scelerisque eu. Pellentesque purus sem, euismod in tellus at, lacinia faucibus erat. Vestibulum ut est eu metus pulvinar scelerisque. Integer vel luctus velit, sit amet rutrum arcu. Mauris cursus quam mauris, vitae pharetra nisl vestibulum sed.',\n",
       " 'explorer deprecation disorder': 'the pathological fear of being beset by spam, the inability to move on to new, more secure browers.',\n",
       " 'formula creation disorder': 'A disorder of the brain which causes one to bungle simple Excel formulas.'}"
      ]
     },
     "execution_count": 6,
     "metadata": {},
     "output_type": "execute_result"
    }
   ],
   "source": [
    "# make a dictionary with the names & defs of all the fake entries\n",
    "bad_entries = {disorder_bads_names[ind]: disorder_bads_descriptions[ind] for ind in range(0,5)}\n",
    "bad_entries"
   ]
  },
  {
   "cell_type": "code",
   "execution_count": null,
   "metadata": {
    "collapsed": true,
    "scrolled": true
   },
   "outputs": [],
   "source": []
  },
  {
   "cell_type": "code",
   "execution_count": 7,
   "metadata": {},
   "outputs": [
    {
     "name": "stdout",
     "output_type": "stream",
     "text": [
      "http://cognitiveatlas.org/api/v-alpha/concept?\n",
      "Result Includes:<pandas:data frame><json:dict><txt:str><url:str>\n"
     ]
    }
   ],
   "source": [
    "# get all the concepts\n",
    "concepts = get_concept().pandas"
   ]
  },
  {
   "cell_type": "code",
   "execution_count": 8,
   "metadata": {
    "collapsed": true
   },
   "outputs": [],
   "source": [
    "# get all the concept names that have no connections & also the concepts that have connections\n",
    "\n",
    "# this was a bit weird, and there was probably a better way to do this\n",
    "# but the gist is that the relationships field contains a list if \n",
    "# there are relationships and it contains NaN if there are not.\n",
    "# NaN is a float, so I couldn't perform the same operation across \n",
    "# the whole column.\n",
    "# \n",
    "empty_relat = [concepts.name[ind] for ind in range(0,802) if isinstance(concepts.relationships[ind],float)]\n",
    "has_relat = [concepts.name[ind] for ind in range(0,802) if isinstance(concepts.relationships[ind],list)]\n",
    " \n",
    "\n",
    "# the collection of relationships\n",
    "relats = [concepts.relationships[ind] for ind in range(1,803) if isinstance(concepts.relationships[ind],list)]"
   ]
  },
  {
   "cell_type": "code",
   "execution_count": 9,
   "metadata": {
    "scrolled": true
   },
   "outputs": [
    {
     "name": "stdout",
     "output_type": "stream",
     "text": [
      "317\n",
      "485\n"
     ]
    },
    {
     "data": {
      "image/png": "[encoded data removed]",
      "text/plain": [
       "<matplotlib.figure.Figure at 0x10faaf588>"
      ]
     },
     "metadata": {},
     "output_type": "display_data"
    }
   ],
   "source": [
    "print(len(empty_relat))\n",
    "print(len(has_relat))\n",
    "relat_lens = [len(item) for item in relats]\n",
    "\n",
    "\n",
    "# given the type-whatthefuckery above, I just added zeros for each of the NaNs\n",
    "# so I could make a histogram of the lengths, including the empty ones\n",
    "# there's probably a more elegant way to do this but ¯\\_(ツ)_/¯\n",
    "\n",
    "forhist = np.array(relat_lens)\n",
    "forhist2 = np.zeros(318, dtype=np.int)\n",
    "all_relat_lens = np.append(forhist,forhist2)\n",
    "\n",
    "\n",
    "num_bins = 28\n",
    "n, bins, patches = plt.hist(all_relat_lens, num_bins, facecolor='blue', alpha=0.5)\n",
    "plt.show()\n",
    "\n"
   ]
  },
  {
   "cell_type": "code",
   "execution_count": 10,
   "metadata": {},
   "outputs": [
    {
     "name": "stdout",
     "output_type": "stream",
     "text": [
      "0.1793275217932752\n",
      "143\n",
      "341\n"
     ]
    },
    {
     "data": {
      "text/plain": [
       "789"
      ]
     },
     "execution_count": 10,
     "metadata": {},
     "output_type": "execute_result"
    }
   ],
   "source": [
    "# This is the percent of the concept terms that have 3 or more connections\n",
    "print(144/803)\n",
    "\n",
    "more_than_two = [relat_lens[ind] for ind in range(0,484) if relat_lens[ind]>2]\n",
    "less_than_two = [relat_lens[ind] for ind in range(0,484) if relat_lens[ind]<=2]\n",
    "print(len(more_than_two))\n",
    "print(len(less_than_two))\n",
    "sum(more_than_two)"
   ]
  },
  {
   "cell_type": "code",
   "execution_count": 11,
   "metadata": {},
   "outputs": [
    {
     "name": "stdout",
     "output_type": "stream",
     "text": [
      "http://cognitiveatlas.org/api/v-alpha/task?\n",
      "Result Includes:<pandas:data frame><json:dict><txt:str><url:str>\n"
     ]
    }
   ],
   "source": [
    "# hmm let's check out tasks\n",
    "tasks = get_task().pandas\n"
   ]
  },
  {
   "cell_type": "code",
   "execution_count": 12,
   "metadata": {},
   "outputs": [
    {
     "name": "stdout",
     "output_type": "stream",
     "text": [
      "http://cognitiveatlas.org/api/v-alpha/task?\n",
      "Result Includes:<pandas:data frame><json:dict><txt:str><url:str>\n"
     ]
    },
    {
     "data": {
      "text/plain": [
       "alias                                         two-stage decision task\n",
       "concept_class                                                        \n",
       "def_event_stamp                                   2015-12-08 21:01:54\n",
       "def_id                                              def_56674542a3c51\n",
       "def_id_user                                         usr_566738e285cfc\n",
       "definition_text     Subjects participate in a two-stage decision t...\n",
       "event_stamp                                       2015-12-08 21:01:13\n",
       "id                                                  trm_5667451917a34\n",
       "id_concept_class                                                     \n",
       "id_user                                             usr_566738e285cfc\n",
       "name                                            2-stage decision task\n",
       "type                                                             task\n",
       "Name: 1, dtype: object"
      ]
     },
     "execution_count": 12,
     "metadata": {},
     "output_type": "execute_result"
    }
   ],
   "source": [
    "# i thought to myself, gee i'll just do the same thing again with\n",
    "# the tasks to find out how those are all connected.\n",
    "# turns out, tasks don't have \"relationships\" because whoever made\n",
    "# this website doesn't go for that kind of consistency i guess.\n",
    "\n",
    "tasks = get_task().pandas\n",
    "# empty_relat_task = [tasks.name[ind] for ind in range(0,739) if isinstance(tasks.relationships[ind],float)]\n",
    "# has_relat_task = [tasks.name[ind] for ind in range(0,739) if isinstance(tasks.relationships[ind],list)]\n",
    "tasks.loc[1]"
   ]
  },
  {
   "cell_type": "code",
   "execution_count": 20,
   "metadata": {},
   "outputs": [
    {
     "data": {
      "text/plain": [
       "alias                                                                \n",
       "concept_class                                                        \n",
       "def_event_stamp                                   2012-03-28 15:36:11\n",
       "def_id                                              def_4f732feb3ba80\n",
       "def_id_user                                         usr_49a467bf4e0db\n",
       "definition_text     high-level analogy that retains general inform...\n",
       "event_stamp                                       2009-06-22 19:12:54\n",
       "id                                                  trm_4a3fd79d096e3\n",
       "id_concept_class                                               ctp_C3\n",
       "id_user                                                usr_0000000000\n",
       "name                                                 abstract analogy\n",
       "relationships       [{'relationship': 'kind of', 'id': 'trm_4a3fd7...\n",
       "type                                                          concept\n",
       "Name: 1, dtype: object"
      ]
     },
     "execution_count": 20,
     "metadata": {},
     "output_type": "execute_result"
    }
   ],
   "source": [
    "concepts.loc[1]"
   ]
  },
  {
   "cell_type": "code",
   "execution_count": 14,
   "metadata": {},
   "outputs": [
    {
     "name": "stdout",
     "output_type": "stream",
     "text": [
      "74\n"
     ]
    }
   ],
   "source": [
    "# oookay, well scratching that.\n",
    "\n",
    "# i also checked out the number of contributors to cognitive atlas in the\n",
    "# same fun, haphazard, can-you-tell-i've-never-used-python-before manner\n",
    "len(pd.unique(concepts.def_id_user))\n",
    "\n",
    "# it honestly isn't entirely clear what the difference is between the \n",
    "# \"def_id_user\" and the \"id_user\" fields. they use the same strings \n",
    "# to refer to users, so I just counted these all together\n",
    "#\n",
    "# also, why doesn't disorders have a def_id_user field???\n",
    "#\n",
    "\n",
    "all_users = [concepts.id_user, concepts.def_id_user, \n",
    "           tasks.id_user, tasks.def_id_user,\n",
    "           disorders.id_user]\n",
    "all_users = pd.concat(all_users)\n",
    "\n",
    "# number of contributors\n",
    "print(len(pd.unique(all_users)))\n",
    "userlist = list(all_users)\n",
    "    \n",
    "# make a dictionary of (users:number of contributions)\n",
    "user_contribs = dict((x,userlist.count(x)) for x in set(userlist))"
   ]
  },
  {
   "cell_type": "code",
   "execution_count": 15,
   "metadata": {},
   "outputs": [
    {
     "data": {
      "image/png": "[encoded data removed]",
      "text/plain": [
       "<matplotlib.figure.Figure at 0x112ebb5c0>"
      ]
     },
     "metadata": {},
     "output_type": "display_data"
    }
   ],
   "source": [
    "# histogram of contributions per user\n",
    "user_contrib_list = list(user_contribs.values())\n",
    "\n",
    "num_bins = 100\n",
    "n, bins, patches = plt.hist(user_contrib_list, num_bins, facecolor='blue', alpha=0.5)\n",
    "plt.show()"
   ]
  },
  {
   "cell_type": "code",
   "execution_count": 16,
   "metadata": {},
   "outputs": [
    {
     "data": {
      "text/plain": [
       "{'2009', '2010', '2011', '2012', '2013', '2014', '2015', '2016', '2017'}"
      ]
     },
     "execution_count": 16,
     "metadata": {},
     "output_type": "execute_result"
    }
   ],
   "source": [
    "# let's figure out contributions by year\n",
    "type(concepts.event_stamp[1])\n",
    "\n",
    "# okay, i just want to acknowledge that i know there has to be a cleaner way\n",
    "# to loop over all the items. like. i know.\n",
    "# i mean, hell, there is probably a better way to do most of this.\n",
    "# but i've only been using python for a week so this is what I'm going with.\n",
    "# i just have to believe that no person will ever look at this code.\n",
    "# y'know?\n",
    "# lowkey i honestly think the person who set up this api had a similar philosophy.\n",
    "\n",
    "\n",
    "concept_years = [concepts.event_stamp[ind][:4] for ind in range(0,802)]\n",
    "task_years = [tasks.event_stamp[ind][:4] for ind in range(0,739)]\n",
    "disorder_years = [disorders.event_stamp[ind][:4] for ind in range(0,219)]\n",
    "\n",
    "years = concept_years+task_years+disorder_years\n",
    "set(years)"
   ]
  },
  {
   "cell_type": "code",
   "execution_count": 17,
   "metadata": {},
   "outputs": [
    {
     "data": {
      "image/png": "[encoded data removed]",
      "text/plain": [
       "<matplotlib.figure.Figure at 0x112f0abe0>"
      ]
     },
     "metadata": {},
     "output_type": "display_data"
    }
   ],
   "source": [
    "# plot contributions by year\n",
    "year_freqs = dict((int(x),years.count(x)) for x in set(years))\n",
    "\n",
    "plt.bar(range(len(year_freqs)), year_freqs.values(), align='center', facecolor = 'blue', alpha = 0.5)\n",
    "plt.xticks(range(len(year_freqs)), year_freqs.keys())\n",
    "\n",
    "plt.show()\n"
   ]
  },
  {
   "cell_type": "code",
   "execution_count": 18,
   "metadata": {},
   "outputs": [
    {
     "data": {
      "image/png": "[encoded data removed]",
      "text/plain": [
       "<matplotlib.figure.Figure at 0x113162278>"
      ]
     },
     "metadata": {},
     "output_type": "display_data"
    }
   ],
   "source": [
    "# well that was great, but now the years aren't in order?\n",
    "# jfc, it seems like there has to be an easier ways to rearrange \n",
    "# the columns in a bar plot than bringing in a new data structure?\n",
    "# but I don't know of one\n",
    "# so OrderedDicts here we go\n",
    "\n",
    "sorted_years = collections.OrderedDict(sorted(year_freqs.items(), key=lambda t: t[0]))\n",
    "\n",
    "\n",
    "plt.bar(range(len(sorted_years)), sorted_years.values(), align='center', facecolor = 'blue', alpha = 0.5)\n",
    "plt.xticks(range(len(sorted_years)), sorted_years.keys())\n",
    "\n",
    "plt.show()"
   ]
  },
  {
   "cell_type": "code",
   "execution_count": 19,
   "metadata": {
    "collapsed": true
   },
   "outputs": [],
   "source": [
    "# well, i feel like we've all learned a lot here today, kids. thanks for dropping by"
   ]
  }
 ],
 "metadata": {
  "kernelspec": {
   "display_name": "Python 3",
   "language": "python",
   "name": "python3"
  },
  "language_info": {
   "codemirror_mode": {
    "name": "ipython",
    "version": 3
   },
   "file_extension": ".py",
   "mimetype": "text/x-python",
   "name": "python",
   "nbconvert_exporter": "python",
   "pygments_lexer": "ipython3",
   "version": "3.6.1"
  }
 },
 "nbformat": 4,
 "nbformat_minor": 2
}
