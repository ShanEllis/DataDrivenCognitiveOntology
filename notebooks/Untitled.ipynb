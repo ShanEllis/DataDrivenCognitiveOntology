{
 "cells": [
  {
   "cell_type": "code",
   "execution_count": 1,
   "metadata": {},
   "outputs": [],
   "source": [
    "from tt import *"
   ]
  },
  {
   "cell_type": "code",
   "execution_count": 2,
   "metadata": {},
   "outputs": [
    {
     "name": "stdout",
     "output_type": "stream",
     "text": [
      "http://eutils.ncbi.nlm.nih.gov/entrez/eutils/esearch.fcgi?db=pubmed&retmax=0&retmode=xml&field=TIAB&term=(\"brain\")NOT(\"not\")AND(\"head\")NOT(\"or\")\n",
      "http://eutils.ncbi.nlm.nih.gov/entrez/eutils/esearch.fcgi?db=pubmed&retmax=0&retmode=xml&field=TIAB&term=(\"brain\")NOT(\"not\")AND(\"case\")NOT(\"else\")\n",
      "http://eutils.ncbi.nlm.nih.gov/entrez/eutils/esearch.fcgi?db=pubmed&retmax=0&retmode=xml&field=TIAB&term=(\"body\")NOT(\"this\")AND(\"head\")NOT(\"or\")\n",
      "http://eutils.ncbi.nlm.nih.gov/entrez/eutils/esearch.fcgi?db=pubmed&retmax=0&retmode=xml&field=TIAB&term=(\"body\")NOT(\"this\")AND(\"case\")NOT(\"else\")\n"
     ]
    }
   ],
   "source": [
    "a, b = scrape_cooc([['brain'], ['body']], [['not'], ['this']], [['head'], ['case']], [['or'], ['else']],  db='pubmed')"
   ]
  },
  {
   "cell_type": "code",
   "execution_count": null,
   "metadata": {
    "collapsed": true
   },
   "outputs": [],
   "source": []
  }
 ],
 "metadata": {
  "kernelspec": {
   "display_name": "Python 3",
   "language": "python",
   "name": "python3"
  },
  "language_info": {
   "codemirror_mode": {
    "name": "ipython",
    "version": 3
   },
   "file_extension": ".py",
   "mimetype": "text/x-python",
   "name": "python",
   "nbconvert_exporter": "python",
   "pygments_lexer": "ipython3",
   "version": "3.6.1"
  }
 },
 "nbformat": 4,
 "nbformat_minor": 2
}
