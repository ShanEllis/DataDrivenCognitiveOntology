{
 "cells": [
  {
   "cell_type": "code",
   "execution_count": 1,
   "metadata": {
    "collapsed": true
   },
   "outputs": [],
   "source": [
    "# Add erpsc to path\n",
    "import sys\n",
    "sys.path.append('PATH/TO/ERPSC')\n",
    "# ^ Update the above with a link to the folder that has 'erpsc' in it"
   ]
  },
  {
   "cell_type": "code",
   "execution_count": 2,
   "metadata": {},
   "outputs": [
    {
     "ename": "ModuleNotFoundError",
     "evalue": "No module named 'erpsc'",
     "output_type": "error",
     "traceback": [
      "\u001b[0;31m---------------------------------------------------------------------------\u001b[0m",
      "\u001b[0;31mModuleNotFoundError\u001b[0m                       Traceback (most recent call last)",
      "\u001b[0;32m<ipython-input-2-270620893b2f>\u001b[0m in \u001b[0;36m<module>\u001b[0;34m()\u001b[0m\n\u001b[1;32m      1\u001b[0m \u001b[0;31m# Import erpsc\u001b[0m\u001b[0;34m\u001b[0m\u001b[0;34m\u001b[0m\u001b[0m\n\u001b[0;32m----> 2\u001b[0;31m \u001b[0;32mfrom\u001b[0m \u001b[0merpsc\u001b[0m\u001b[0;34m.\u001b[0m\u001b[0mbase\u001b[0m \u001b[0;32mimport\u001b[0m \u001b[0mBase\u001b[0m\u001b[0;34m\u001b[0m\u001b[0m\n\u001b[0m\u001b[1;32m      3\u001b[0m \u001b[0;32mfrom\u001b[0m \u001b[0merpsc\u001b[0m\u001b[0;34m.\u001b[0m\u001b[0mcore\u001b[0m\u001b[0;34m.\u001b[0m\u001b[0mdb\u001b[0m \u001b[0;32mimport\u001b[0m \u001b[0mERPDB\u001b[0m\u001b[0;34m\u001b[0m\u001b[0m\n\u001b[1;32m      4\u001b[0m \u001b[0;32mfrom\u001b[0m \u001b[0merpsc\u001b[0m\u001b[0;34m.\u001b[0m\u001b[0merp_data\u001b[0m \u001b[0;32mimport\u001b[0m \u001b[0mERPData\u001b[0m\u001b[0;34m\u001b[0m\u001b[0m\n\u001b[1;32m      5\u001b[0m \u001b[0;32mfrom\u001b[0m \u001b[0merpsc\u001b[0m\u001b[0;34m.\u001b[0m\u001b[0merp_data_all\u001b[0m \u001b[0;32mimport\u001b[0m \u001b[0mERPDataAll\u001b[0m\u001b[0;34m\u001b[0m\u001b[0m\n",
      "\u001b[0;31mModuleNotFoundError\u001b[0m: No module named 'erpsc'"
     ]
    }
   ],
   "source": [
    "# Import erpsc\n",
    "from erpsc.base import Base\n",
    "from erpsc.core.db import ERPDB\n",
    "from erpsc.erp_data import ERPData\n",
    "from erpsc.erp_data_all import ERPDataAll"
   ]
  },
  {
   "cell_type": "code",
   "execution_count": 1,
   "metadata": {},
   "outputs": [
    {
     "ename": "NameError",
     "evalue": "name 'ERPDB' is not defined",
     "output_type": "error",
     "traceback": [
      "\u001b[0;31m---------------------------------------------------------------------------\u001b[0m",
      "\u001b[0;31mNameError\u001b[0m                                 Traceback (most recent call last)",
      "\u001b[0;32m<ipython-input-1-dce71adcfeba>\u001b[0m in \u001b[0;36m<module>\u001b[0;34m()\u001b[0m\n\u001b[1;32m      1\u001b[0m \u001b[0;31m# Set the database paths\u001b[0m\u001b[0;34m\u001b[0m\u001b[0;34m\u001b[0m\u001b[0m\n\u001b[0;32m----> 2\u001b[0;31m \u001b[0mdb\u001b[0m \u001b[0;34m=\u001b[0m \u001b[0mERPDB\u001b[0m\u001b[0;34m(\u001b[0m\u001b[0;34m)\u001b[0m\u001b[0;34m\u001b[0m\u001b[0m\n\u001b[0m\u001b[1;32m      3\u001b[0m \u001b[0;31m#db.words_path = 'PATH/TO/WORDS/DATA'\u001b[0m\u001b[0;34m\u001b[0m\u001b[0;34m\u001b[0m\u001b[0m\n\u001b[1;32m      4\u001b[0m \u001b[0;31m# ^ Update the above with a link to the folder that has the 'raw' folder of data (downloaded from dropbox)\u001b[0m\u001b[0;34m\u001b[0m\u001b[0;34m\u001b[0m\u001b[0m\n",
      "\u001b[0;31mNameError\u001b[0m: name 'ERPDB' is not defined"
     ]
    }
   ],
   "source": [
    "# Set the database paths\n",
    "db = ERPDB()\n",
    "#db.words_path = 'PATH/TO/WORDS/DATA'\n",
    "# ^ Update the above with a link to the folder that has the 'raw' folder of data (downloaded from dropbox)"
   ]
  },
  {
   "cell_type": "code",
   "execution_count": 4,
   "metadata": {},
   "outputs": [],
   "source": [
    "# Base item keeps track of the ERP names\n",
    "base = Base()\n",
    "base.set_erps_file()\n",
    "\n",
    "# Labels is all the labels\n",
    "#print(base.labels)\n",
    "\n",
    "# ERPs is the full names of the ERPs\n",
    "#print(base.erps)"
   ]
  },
  {
   "cell_type": "code",
   "execution_count": 5,
   "metadata": {},
   "outputs": [],
   "source": [
    "# Load raw data from a particular ERP\n",
    "erp_dat = ERPData('P300')\n",
    "erp_dat.load()"
   ]
  },
  {
   "cell_type": "code",
   "execution_count": 6,
   "metadata": {},
   "outputs": [],
   "source": [
    "# Combine across all papers to a summary data object\n",
    "erp_dat_all = ERPDataAll(erp_dat)"
   ]
  },
  {
   "cell_type": "code",
   "execution_count": 7,
   "metadata": {},
   "outputs": [
    {
     "data": {
      "text/plain": [
       "[(1971, 2),\n",
       " (1975, 6),\n",
       " (1976, 2),\n",
       " (1977, 4),\n",
       " (1978, 9),\n",
       " (1979, 3),\n",
       " (1980, 22),\n",
       " (1981, 17),\n",
       " (1982, 11),\n",
       " (1983, 14),\n",
       " (1984, 32),\n",
       " (1985, 37),\n",
       " (1986, 38),\n",
       " (1987, 49),\n",
       " (1988, 57),\n",
       " (1989, 58),\n",
       " (1990, 72),\n",
       " (1991, 84),\n",
       " (1992, 85),\n",
       " (1993, 88),\n",
       " (1994, 101),\n",
       " (1995, 115),\n",
       " (1996, 111),\n",
       " (1997, 122),\n",
       " (1998, 112),\n",
       " (1999, 157),\n",
       " (2000, 140),\n",
       " (2001, 129),\n",
       " (2002, 121),\n",
       " (2003, 125),\n",
       " (2004, 151),\n",
       " (2005, 134),\n",
       " (2006, 154),\n",
       " (2007, 135),\n",
       " (2008, 170),\n",
       " (2009, 182),\n",
       " (2010, 192),\n",
       " (2011, 230),\n",
       " (2012, 231),\n",
       " (2013, 246),\n",
       " (2014, 257),\n",
       " (2015, 285),\n",
       " (2016, 292),\n",
       " (2017, 82)]"
      ]
     },
     "execution_count": 7,
     "metadata": {},
     "output_type": "execute_result"
    }
   ],
   "source": [
    "# The summary data object includes the number of papers (for this ERP) per year\n",
    "erp_dat_all.year_counts"
   ]
  },
  {
   "cell_type": "code",
   "execution_count": 8,
   "metadata": {
    "collapsed": true
   },
   "outputs": [],
   "source": [
    "# So - if you loop through all the erp labels, load the data into ERPData, \n",
    "#  then combine into ERPDataAll objects, you can them some across the 'year_counts'\n",
    "#  attributes for each ERP, and create the first graph of ERP research through the years"
   ]
  },
  {
   "cell_type": "code",
   "execution_count": null,
   "metadata": {
    "collapsed": true
   },
   "outputs": [],
   "source": []
  }
 ],
 "metadata": {
  "anaconda-cloud": {},
  "kernelspec": {
   "display_name": "Python 3",
   "language": "python",
   "name": "python3"
  },
  "language_info": {
   "codemirror_mode": {
    "name": "ipython",
    "version": 3
   },
   "file_extension": ".py",
   "mimetype": "text/x-python",
   "name": "python",
   "nbconvert_exporter": "python",
   "pygments_lexer": "ipython3",
   "version": "3.6.1"
  }
 },
 "nbformat": 4,
 "nbformat_minor": 1
}
