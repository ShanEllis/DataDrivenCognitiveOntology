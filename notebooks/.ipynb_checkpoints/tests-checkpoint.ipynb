{
 "cells": [
  {
   "cell_type": "markdown",
   "metadata": {},
   "source": [
    "## TEST CODE FOR ERP-SCANR"
   ]
  },
  {
   "cell_type": "code",
   "execution_count": 4,
   "metadata": {},
   "outputs": [],
   "source": [
    "%load_ext autoreload "
   ]
  },
  {
   "cell_type": "code",
   "execution_count": 12,
   "metadata": {},
   "outputs": [],
   "source": [
    "%autoreload 2\n",
    "\n",
    "# TEST IMPORTS\n",
    "import requests\n",
    "import nltk\n",
    "import bs4\n",
    "import os\n",
    "from bs4 import BeautifulSoup\n",
    "\n",
    "# Import required libraries\n",
    "from erpsc.words import _ids_to_str\n",
    "from erpsc.core.utils import comb_terms, extract\n",
    "from erpsc.erp_data import ERPData\n",
    "\n",
    "from erpsc.words import Words\n",
    "from erpsc.count import Count\n",
    "\n",
    "from erpsc.core.db import ERPDB\n",
    "from erpsc.core.db import WebDB as WDB\n",
    "from erpsc.core.urls import URLS\n",
    "from erpsc.core.requester import Requester"
   ]
  },
  {
   "cell_type": "code",
   "execution_count": 13,
   "metadata": {
    "collapsed": true
   },
   "outputs": [],
   "source": [
    "wdb = WDB()"
   ]
  },
  {
   "cell_type": "code",
   "execution_count": 15,
   "metadata": {},
   "outputs": [
    {
     "data": {
      "text/plain": [
       "'/Users/thomasdonoghue/Documents/GitCode/ERP_SCANR/docs/assets'"
      ]
     },
     "execution_count": 15,
     "metadata": {},
     "output_type": "execute_result"
    }
   ],
   "source": [
    "wdb.plt_path"
   ]
  },
  {
   "cell_type": "code",
   "execution_count": 14,
   "metadata": {},
   "outputs": [
    {
     "data": {
      "text/plain": [
       "'/Users/thomasdonoghue/Documents/GitCode/ERP_SCANR/docs/_data'"
      ]
     },
     "execution_count": 14,
     "metadata": {},
     "output_type": "execute_result"
    }
   ],
   "source": [
    "wdb.dat_path"
   ]
  },
  {
   "cell_type": "code",
   "execution_count": null,
   "metadata": {
    "collapsed": true
   },
   "outputs": [],
   "source": []
  },
  {
   "cell_type": "code",
   "execution_count": 31,
   "metadata": {},
   "outputs": [],
   "source": [
    "urls = URLS(db='pubmed', use_hist='y', retmax='5000', retmode='xml')\n",
    "urls.build_info(['db'])\n",
    "urls.build_search(['db', 'use_hist', 'retmax', 'retmode'])\n",
    "urls.build_fetch(['db', 'retmode'])"
   ]
  },
  {
   "cell_type": "code",
   "execution_count": 38,
   "metadata": {},
   "outputs": [
    {
     "data": {
      "text/plain": [
       "'http://eutils.ncbi.nlm.nih.gov/entrez/eutils/esearch.fcgi?email=tdonoghue@ucsd&tool=ERPscanr&db=pubmed&use_hist=y&retmax=5000&retmode=xml&term=\"N400\"'"
      ]
     },
     "execution_count": 38,
     "metadata": {},
     "output_type": "execute_result"
    }
   ],
   "source": [
    "urls.search + '\"N400\"'"
   ]
  },
  {
   "cell_type": "code",
   "execution_count": 39,
   "metadata": {},
   "outputs": [
    {
     "data": {
      "text/plain": [
       "'http://eutils.ncbi.nlm.nih.gov/entrez/eutils/efetch.fcgi?email=tdonoghue@ucsd&tool=ERPscanr&db=pubmed&retmode=xml'"
      ]
     },
     "execution_count": 39,
     "metadata": {},
     "output_type": "execute_result"
    }
   ],
   "source": [
    "urls.fetch"
   ]
  },
  {
   "cell_type": "code",
   "execution_count": 10,
   "metadata": {
    "collapsed": true
   },
   "outputs": [],
   "source": [
    "req = Requester()"
   ]
  },
  {
   "cell_type": "code",
   "execution_count": 11,
   "metadata": {},
   "outputs": [],
   "source": [
    "page = req.get_url(urls.search + '\"N400\"' + '&usehistory=7')"
   ]
  },
  {
   "cell_type": "code",
   "execution_count": 12,
   "metadata": {
    "collapsed": true
   },
   "outputs": [],
   "source": [
    "page_soup = BeautifulSoup(page.content, 'lxml')"
   ]
  },
  {
   "cell_type": "code",
   "execution_count": 13,
   "metadata": {
    "collapsed": true
   },
   "outputs": [],
   "source": [
    "cc = int(page_soup.find('count').text)\n",
    "we = page_soup.find('webenv').text\n",
    "qk = page_soup.find('querykey').text"
   ]
  },
  {
   "cell_type": "code",
   "execution_count": 14,
   "metadata": {},
   "outputs": [
    {
     "name": "stdout",
     "output_type": "stream",
     "text": [
      "1939\n",
      "NCID_1_107672191_130.14.22.215_9001_1490268568_209243154_0MetA0_S_MegaStore_F_1\n",
      "1\n"
     ]
    }
   ],
   "source": [
    "print(cc)\n",
    "print(we)\n",
    "print(qk)"
   ]
  },
  {
   "cell_type": "code",
   "execution_count": 19,
   "metadata": {},
   "outputs": [
    {
     "data": {
      "text/plain": [
       "'http://eutils.ncbi.nlm.nih.gov/entrez/eutils/efetch.fcgi?email=tdonoghue@ucsd&tool=ERPscanr&db=pubmed&retmax=5000&retmode=xml&WebEnv=NCID_1_107672191_130.14.22.215_9001_1490268568_209243154_0MetA0_S_MegaStore_F_1&query_key=1&retmax=20&retstart=0'"
      ]
     },
     "execution_count": 19,
     "metadata": {},
     "output_type": "execute_result"
    }
   ],
   "source": [
    "urls.fetch + '&WebEnv=' + we + '&query_key=' + qk + '&retmax=' + str(20) + '&retstart=' + str(0)"
   ]
  },
  {
   "cell_type": "code",
   "execution_count": 21,
   "metadata": {
    "collapsed": true
   },
   "outputs": [],
   "source": [
    "ids = page_soup.find_all('id')\n",
    "ids_str = _ids_to_str(ids)"
   ]
  },
  {
   "cell_type": "code",
   "execution_count": 23,
   "metadata": {},
   "outputs": [
    {
     "data": {
      "text/plain": [
       "'28315367,28300582,28287777,28259656,28257584,28255798,28253505,28242517,28240937,28240780,28237544,28232218,28229468,28224687,28216240,28210777,28194745,28160753,28129064,28126626,28124084,28119642,28119590,28101830,28083778,28059564,28050804,28041983,28039057,28032139,28011396,28000963,27998994,27994564,27989513,27965604,27916014,27895573,27893807,27871623,27868225,27868079,27845031,27814664,27814564,27808538,27796356,27790642,27788236,27778758,27774046,27616158,27609127,27520471,27422537,27423447,27751710,27737775,27732869,27722788,27713718,27711111,27680711,27671210,27668483,27664779,27647660,27636368,27632171,27630610,27629652,27628438,27622382,27597881,27595064,27588442,27573041,27570786,27559320,27559305,27558546,27543324,27524963,27513878,27466021,27463978,27461788,27432482,27379001,27346365,27337796,27315272,27307404,27303320,27291494,27289044,27268038,27254393,27242415,27233808,27228392,27213567,27199799,27197527,27194329,27180951,27174851,27160367,27155219,27150706,27148102,27144811,27138953,27117136,27110578,27108245,27106392,27095512,27088244,27072753,27072324,27028353,27020137,27007770,27006093,27003267,26988114,26985787,26971305,26928085,26926623,26925011,26921776,26903939,26887916,26878980,26866764,26858634,26833049,26825011,26820686,26820638,26818492,26812249,26796714,26792366,26790350,26787447,26776478,26774879,26774029,26747462,26740402,26734990,26732439,26720892,26700458,26699335,26697879,26696859,26686551,26683085,26672902,26667404,26656565,26656502,26654384,26648865,26635673,26635660,26621713,26620688,26589544,26569606,26562054,26557102,26540191,26516296,26509547,26505918,26483623,26482112,26477716,26476618,26476370,26441771,26441701,26441362,26431751,26418230,26412392,26399379,26396645,26394230,26359716,26351964,26346715,26338291,26337735,26311477,26311442,26291770,26289548,26284147,26283984,26282856,26277459,26265616,26257956,26254996,26244723,26244721,26244719,26236021,26227511,26222059,26219657,26203312,26197257,26185047,26176489,26175678,26168892,26161561,26160999,26148338,26146789,26143622,26125621,26124740,26119922,26119912,26116908,26115602,26102228,26067672,26055836,26053698,26047776,26032580,26029130,26014826,26011745,26010829,26005285,26004058,25997765,25989444,25987437,25984550,25966575,25963616,25932618,25914891,25911127,25903295,25901449,25890389,25889694,25864403,25859209,25821433,25816925,25813899,25813827,25809672,25804352,25797495,25795314,25767442,25762957,25758288,25725356,25717298,25713520,25709591,25709590,25701685,25698118,25688217,25688095,25681737,25673006,25657823,25656318,25650726,25634797,25633648,25628584,25624059,25622795,25621719,25621665,25619551,25615600,25607929,25605967,25576909,25575756,25566041,25566022,25556210,25528401,25521434,25497522,25490130,25490044,25477798,25477081,25463139,25461915,25451126,25451125,25450162,25449716,25448377,25447739,25447067,25447058,25446967,25445998,25445361,25438152,25436218,25407470,25390195,25378154,25376779,25371283,25364497,25326041,25316341,25309492,25306561,25304973,25282057,25278251,25278134,25275637,25272765,25269112,25266047,25258346,25250708,25242500,25234647,25234645,25222293,25221494,25218952,25194209,25182191,25179537,25172481,25172388,25164359,25161630,25151545,25151544,25136309,25131787,25129630,25124860,25113242,25112206,25111034,25092664,25088913,25070060,25061931,25047946,25041502,25039688,25025836,25020124,25018723,25015029,25014163,24992217,24953958,24953907,24937349,24936429,24930941,24925339,24918457,24910149,24910070,24905459,24884527,24878892,24871547,24854773,24846835,24844290,24830835,24829556,24828220,24825307,24824457,24808875,24797441,24782812,24762924,24755643,24751994,24751571,24747513,24726333,24713350,24709915,24702457,24702451,24686264,24678304,24675676,24672505,24666165,24660886,24655781,24642662,24639583,24622389,24621528,24614675,24611598,24611511,24608244,24607603,24593900,24566043,24565928,24550814,24548324,24531047,24530431,24530237,24516556,24505608,24502981,24495849,24492448,24480035,24462934,24451397,24447768,24436053,24416022,24411073,24405516,24395142,24391871,24378910,24349462,24348994,24348448,24315803,24313638,24310943,24299169,24273505,24269667,24227906,24223704,24223540,24220627,24220105,24212116,24210996,24183465,24182839,24182838,24168198,24161829,24144675,24144247,24135132,24115924,24109444,24104954,24102977,24086463,24069151,24068994,24064384,24060845,24060646,24056296,24053118,24026717,24025156,23994387,25708083,23990321,23966913,23948101,23942347,23936464,23933203,23916511,23909649,23896445,23894425,23889212,23872217,23856171,23850651,23842954,23825466,23816951,23802122,23800615,23797148,23797145,23796780,23792769,23778078,23774181,23773672,23770303,23769727,23735756,23711889,23707682,23685197,23677491,23666175,23654115,23653613,23648559,23647515,23630506,23629689,23583969,23583967,23572279,23559312,23557881,23540257,23536874,23531713,23523986,23511445,23506662,23489581,23489145,23461424,23459873,23454076,23454073,23454070,23453792,23450002,23445520,23443907,23435193,23427190,23422676,23419895,23416731,23415786,23407753,23386817,23386742,23378278,23377272,23376769,23376053,23355816,23340116,22374766,23333869,23292996,23287022,23284226,23281779,24605174,23271630,23263839,23262176,23249356,23238371,23236418,23226494,23220447,23219620,23189139,23183315,23181191,23179865,23165117,23163763,23163410,23158711,23153323,23142350,23141884,23141867,23137771,23133428,23125559,23122708,23116082,23115634,23108241,23103410,23098916,23094319,23087661,23063949,23063676,23049515,23044275,23036281,23036274,23024634,23022079,23016764,23010141,23002319,22995175,22982604,22975191,22973249,22966432,22960083,22944529,22942537,22934087,22933802,22928962,22897095,22884930,22875868,22850570,22842106,22825005,22820632,22820299,22819620,22819308,22803612,22797317,22784606,22782461,22768257,22763237,22750287,22748420,22748083,22744137,22715332,22711976,22701443,22698696,22694999,22694997,22692337,22690545,22686844,22683507,22682735,22659493,22642412,22615754,22595869,22565202,22564485,22564478,22563982,22561889,22561886,22560006,22554360,22521255,22518068,22504063,22498173,22492040,22484203,22483076,22483072,22482695,22479432,22461436,22460130,22434931,22425188,22406358,22404542,22401990,22401826,22391475,22387723,22387606,22387168,22361114,22360592,22347855,22347197,22341872,22341555,22332423,22325258,22305338,22303906,22296932,22276465,22266598,22245030,22245013,22245012,22226800,22221077,22220969,22218845,24961195,22200723,22199415,22178743,22176030,22169628,22146056,22138431,22133494,22100767,22099971,22085678,22082116,22055837,22044648,22041121,22022395,22020307,22019481,22018999,22018690,22005687,22005579,22000079,21998715,21993901,21988391,21986293,21981676,21981671,21979895,21978012,21971462,21962826,21961318,21960060,21958866,21958657,21940445,21939678,21934538,21930263,21928930,21925647,21915693,21913928,21911213,21898716,21893109,21888947,21884326,21876468,21868201,21861686,21855611,21845178,21840639,21818633,21816167,21812565,21803335,21798317,21798309,21798292,21787845,21787842,21779254,21747766,21744985,21741452,21737573,21722711,21715401,21713128,21684123,21680846,21656220,21643716,21642351,21616124,21612604,21609967,21601541,21574742,21573026,21565250,21541303,21517156,21481458,21479571,21473667,21469350,21461123,21458791,21458057,21457275,21452941,21449954,21439991,21382389,21377198,21359123,21358555,21353300,21330200,21316355,21310215,21300112,21281092,21281091,21272930,21262316,21256168,21236272,21195102,21184799,21175672,21172443,21171758,21167137,21166343,21156188,21148175,21147550,21147178,21145903,21143487,21130516,21129937,21129390,21122801,21096220,21073481,21057658,21056672,21035476,21029726,21029637,20971159,20970843,20965558,20961171,20957725,20950633,20938848,20936088,20883505,20883504,20858526,20849229,20845728,20831863,20809790,20805588,20805538,20804744,20802091,20717062,20708788,20701709,20691670,20678791,20677895,20676367,20674263,20666594,20659074,20638397,20637743,20627093,20624252,20621846,20621110,20620190,20617882,20614356,20603185,20602284,20602278,20601422,20580772,20557483,20549553,20542081,20542048,20536906,20512485,20498347,20489672,20478274,20476892,20456656,20452382,20438271,20431495,20430041,24771954,20410144,20409010,20403632,20403342,20394796,20382559,20375706,20368087,20363948,20360991,20359737,20354602,20352681,22043890,20350188,20350175,20307904,20307557,20307013,20305820,20303578,20298681,20298679,20230804,20226842,20211607,20210876,20201632,24168241,22399833,20175676,20161687,20161361,20161320,20161064,20160930,20146597,20146594,20145576,20138898,20138120,20138065,20138064,20136731,20121302,20121040,20117220,20117123,20109518,20109502,20102534,20083152,20079804,20060478,20051239,20046826,20044982,20044902,20044894,20044890,21833277,20026375,20026246,20025622,20016092,20006969,20006378,20004221,19995582,19958836,19948205,19944741,19933141,19929764,19929760,19929328,19925201,19925192,19925179,19901857,19897015,19896508,19884865,19861589,19840822,19837103,19833211,19819270,19819269,19818815,19815267,19803689,19796989,19781651,19781602,19776220,19774070,19765813,19757883,19754932,19738597,19702471,19702463,19702372,19700188,19698728,19680433,19665831,19665783,19664815,19664605,19650138,19642891,22029558,19640301,19640289,19631628,19631274,19623091,19618091,19585390,19583470,19583469,19583468,19580874,19580391,19580384,19560248,19543130,19520062,19505451,19505446,19501067,19497307,19493321,19465035,19446639,19445602,19433795,19430590,19428699,19428417,19428397,19428392,19427368,19413483,19413420,19413402,19400675,19386472,19386047,19386043,19383437,19368860,19368839,19362541,19358866,19357546,19356603,19345610,19307049,19306846,19300294,19298629,19285966,19270040,19246343,19218866,19214833,19200632,19199401,19158063,19135034,19121125,19085877,19059223,19026592,19024437,19023701,19020511,19003488,18992069,18983862,18976746,18975106,18955904,18952145,18952072,18951624,18948089,18930155,18929465,18855555,18855552,18855550,18840418,18824201,18823240,18823236,18804457,18797301,18793621,18792500,18778320,18778318,18763903,18760961,18752393,18722356,18703147,18689240,18678064,18675957,18675257,18674626,18674588,18664690,18652811,18640667,18636754,18628670,18608334,18602933,18592042,18589511,18589508,18588672,18585687,18584936,18580575,18579438,18579215,18556057,18539265,18538306,18524453,18514637,18513360,18511302,18510451,18505335,18493611,18489240,18467079,18466400,18450179,18416681,18405079,18387601,18382290,18378166,18378076,18333985,18329547,18303972,18303571,18291436,18287942,18284352,18284350,18284347,18282200,18255228,18221447,18221445,18221443,18215505,18215243,18211232,18207426,18201132,18201125,18191445,18185103,18177699,18163911,18163770,19621125,19590754,18163153,18090325,18077800,18064894,18061152,18056222,18051348,18035336,18007194,18007180,18001839,18000546,17996287,17990124,17977578,17967682,17950262,17950260,17950000,17943005,17942677,17936727,17904537,17892389,17890190,17886018,17868263,17855126,17764809,17708767,17688964,17666031,17664000,17663008,17659768,17659309,17651001,17640332,17608667,17597591,17583994,17583993,17560965,17558286,17558284,17546731,17517429,17507160,17499223,17498223,17488210,17471059,17466281,17462610,17448556,17433893,17433892,17428685,17428526,17425530,17411424,17400197,17391654,17383161,17382308,17381251,17343710,17336145,17334908,17331265,17328874,17319587,17314669,17303093,17301680,17282642,17264253,17252957,17250885,17239944,17222897,17222476,17207563,17204368,17201780,17201561,17201554,17196536,17188346,17173887,17166662,17150298,17146559,17141414,17119789,17116651,17113962,17113571,17094562,17092491,17076812,17076811,17073169,17069477,17064672,17062152,17030012,17027933,17014380,17014373,17014368,17011692,17005322,16997367,16997288,16996688,16989787,16972075,16965607,16965605,16962567,16957599,16952338,16945505,16944493,16939639,16936900,16908058,16901469,16873199,16872582,16865545,16859414,16844545,16843443,16839291,16839284,16793186,16791104,16782185,16769041,16765335,16737390,16725188,16678138,16644278,16629682,16629680,16617677,16580765,16579173,16569152,16555216,16546247,16545344,16533668,16516169,16516111,16515142,16503377,16494680,16487499,16442085,16441895,16417688,16412999,16412501,16393047,16388782,16383654,16383175,16376316,16375868,16364061,16350976,16343606,16307871,16283934,16277647,16269115,16269114,16269099,16269097,16237330,16226804,16202570,16199084,16197680,16197679,16194567,16176372,16165200,16139955,16139489,16099362,16099360,16099357,16083953,16078728,16023332,16021682,16012657,16009248,16008767,15993568,15986408,15975647,15968921,15967649,15967560,15922167,15920943,15919182,15905078,15896394,15894468,15894426,15893383,15891588,15885876,15866325,15862479,21038256,15820637,15820624,15817175,15814008,15812327,15811235,15811233,15787850,15787719,15784418,15773703,15763168,15736080,15725489,15722211,15701246,15701245,15671587,15669753,15653300,15653294,15653292,15652298,15630076,21038285,15625629,15620230,15618881,15601526,15601521,15570158,15563331,15561499,15555767,15542236,15531091,15531087,15511654,15511652,15509448,15509391,15493322,15488912,15482576,15477539,15474911,15453981,15453979,15450686,15381025,15355133,15327931,15325417,15325409,15311822,15298793,15287285,15268920,15268912,15248594,15232282,15223192,15218618,15200700,15193945,15177821,15172566,15168895,15165350,15165347,15134702,15129176,15120549,15120547,15108298,15106851,15102121,15098511,15094520,15094493,15083525,15069463,15037053,15032991,15029906,15010257,15010235,14997536,14983184,14980582,14972359,14757312,14744584,14738286,14736576,14709232,14693001,14693000,14692997,14692871,14656562,14652107,14643080,14631882,14622062,14622057,14613679,14607174,14607133,14597293,14585298,14570171,14561458,14561457,14561443,14511541,14507438,13680459,12972369,12965102,12965038,12956233,12921771,12921770,12921763,12919906,12918093,12880916,12880902,12880901,12870823,12858053,12853110,12838450,12838440,12833239,12820864,12763198,12763190,12757816,12751813,12751809,12738049,12735945,12713204,12711128,12694896,12681346,12686275,12676064,12668221,12663066,12661861,12661103,12641317,12640594,12638581,12634517,12627750,12625237,12606016,12597082,12590848,12590847,12589887,12582828,12581840,12570931,12527096,12468394,12462512,12450098,12448183,12445951,12421657,12417459,12417224,12414253,12405510,12385677,12377158,12374643,12369267,12359685,12270588,12235303,12212662,12192660,12191460,12151800,12140015,12110351,12090817,12031296,12031295,12030448,12027815,12002347,11985836,11970803,11958830,11919001,11918999,11900725,11897539,11896654,11867248,11827446,11827443,11809518,11803121,11790442,11776369,11742718,11733196,11711892,11711169,11689310,11677407,11595099,11523274,11521774,11446583,11438748,11437301,11433788,11403927,11347875,11347861,11339988,11318457,11305879,11303776,11302364,11280964,11275539,11275482,11263508,11247656,11240115,11240108,11219964,11224913,11209929,11177422,11167062,11162755,11115658,11115760,11098796,11086586,11035221,10978693,10960058,10946374,10943693,10936910,10934904,10912657,10906377,10906374,10894207,10881320,10860414,10857666,10821505,10790867,10742567,10729697,10727921,10704952,10699417,10654112,20945170,10642523,10601747,10593455,10576638,10574555,10556607,10556606,10554591,10554585,10544413,10518580,10510866,10500274,10474064,10471850,10442024,10432793,10408645,10408163,10407205,10407198,10401451,10400194,10394485,10368929,10363765,10356057,10355234,10352554,10349041,10321815,10321814,10098388,10098380,10093207,10092840,10087594,10080509,10076091,10021503,9879843,9869713,9861716,9859154,9855283,9845977,9844432,9838186,9838144,9784274,9780016,9761151,9751439,9745301,9745231,9743549,9738672,9700017,9675044,9672763,9654384,9647684,9641247,9638736,9555111,9622187,9607517,9593613,9500885,9564746,9576822,9576820,9572577,9554184,9539277,9479073,9514136,9492270,9451579,9450605,9401421,9394217,23964599,9376456,9299074,9262155,9395848,9193737,9255429,9159185,9185681,9195887,9186236,9153028,9137119,9126424,9078597,9101728,9198781,9134414,9103720,23968179,9498923,9059755,8975680,8954602,8933843,8893657,8883926,8883923,8862113,8830952,8817512,8760706,23968150,8936391,8805968,23971421,23971417,8800953,8851241,8697750,8811966,8884760,8777159,8684896,8524990,8547597,8551475,8584205,7673565,7593475,7666761,7652115,7580396,7607100,7784536,7784530,7617157,7558990,7537200,7630983,7869085,7869084,7707033,7608306,8793125,7712148,7865770,7986490,7984136,7948852,23964975,23964974,23964972,10690915,8064248,7812177,8179498,8185897,23962331,8123261,8079644,8268329,8260443,8257874,8416076,8244839,23972222,23972221,8502377,8083018,7685267,7684969,7684968,8513242,8434079,23972118,8467378,8416062,1431739,1483196,1461957,1280198,1382946,1643505,1642862,1525293,23967889,16348689,1635962,23967854,1609026,1609022,1778960,1790265,1804037,1884171,23972090,23972089,1946885,2039762,2018820,1864247,1704835,2017035,1814275,2286653,2285513,2225145,2224497,2224493,2381317,2381316,2113458,2375978,2338402,2247545,23968409,2926696,2771030,3179703,3251558,3382912,3410644,3359171,3359170,3350919,2450003,3362336,3356500,3620905,3570742,3480153,3480145,3477442,3790646,3951743,4084767,4048609,4048608,2579801,6518354,6209115,6690995,6483170,7145083,7272388,7272384,7350657'"
      ]
     },
     "execution_count": 23,
     "metadata": {},
     "output_type": "execute_result"
    }
   ],
   "source": [
    "ids_str"
   ]
  },
  {
   "cell_type": "code",
   "execution_count": null,
   "metadata": {
    "collapsed": true
   },
   "outputs": [],
   "source": [
    "counts = extract(page_soup, 'count', 'all')"
   ]
  },
  {
   "cell_type": "code",
   "execution_count": null,
   "metadata": {},
   "outputs": [],
   "source": [
    "int(counts[0].text)"
   ]
  },
  {
   "cell_type": "code",
   "execution_count": null,
   "metadata": {},
   "outputs": [],
   "source": [
    "comb_terms(['N400', 'P100'], 'or')"
   ]
  },
  {
   "cell_type": "code",
   "execution_count": null,
   "metadata": {},
   "outputs": [],
   "source": [
    "aa.add_results(ERPData(['test']))\n",
    "aa['test']"
   ]
  },
  {
   "cell_type": "code",
   "execution_count": null,
   "metadata": {
    "collapsed": true
   },
   "outputs": [],
   "source": []
  },
  {
   "cell_type": "code",
   "execution_count": null,
   "metadata": {},
   "outputs": [],
   "source": [
    "aa = ERPData(['test'])"
   ]
  },
  {
   "cell_type": "code",
   "execution_count": null,
   "metadata": {
    "collapsed": true
   },
   "outputs": [],
   "source": [
    "history = ['Initialized']"
   ]
  },
  {
   "cell_type": "code",
   "execution_count": null,
   "metadata": {},
   "outputs": [],
   "source": [
    "history.append('Scraped')"
   ]
  },
  {
   "cell_type": "code",
   "execution_count": null,
   "metadata": {},
   "outputs": [],
   "source": [
    "history"
   ]
  },
  {
   "cell_type": "code",
   "execution_count": null,
   "metadata": {
    "collapsed": true
   },
   "outputs": [],
   "source": [
    "# Set up e-utils\n",
    "eutils_url = 'http://eutils.ncbi.nlm.nih.gov/entrez/eutils/'\n",
    "\n",
    "db_arg = '&db=pubmed'\n",
    "retmax_arg = '&retmax=5'\n",
    "retmode_arg = '&retmode=xml'\n",
    "field_arg = '&field='\n",
    "rettype_arg = '&rettype=count'\n",
    "usehist_arg = '&usehistory=y'\n",
    "\n",
    "eutils_fetch = eutils_url + 'efetch.fcgi?' + db_arg + retmode_arg + '&id='\n",
    "eutils_search = eutils_url + 'esearch.fcgi?' + db_arg  + '&term='"
   ]
  },
  {
   "cell_type": "code",
   "execution_count": null,
   "metadata": {},
   "outputs": [],
   "source": [
    "# Get an article\n",
    "art_url = eutils_fetch + '28017522,28017522'\n",
    "art_page = requests.get(art_url)\n",
    "art_page_soup = BeautifulSoup(art_page.content, \"xml\")\n",
    "\n",
    "articles = art_page_soup.findAll('PubmedArticle')\n",
    "art = art_page_soup.findAll('PubmedArticle')[0]"
   ]
  },
  {
   "cell_type": "code",
   "execution_count": null,
   "metadata": {},
   "outputs": [],
   "source": [
    "# Set up urls\n",
    "#erp = 'P50'\n",
    "#term = 'language'\n",
    "#exclude = 'protein'\n",
    "#url = eutils_search + '\"' + erp + '\"' + retmax_arg\n",
    "\n",
    "#url = eutils_search + '\"P100\"' + 'NOT' + '\"protein\"' + 'NOT' + '\"heart\"'+ 'NOT' + '\"bacteria\"' + retmax_arg\n",
    "url = eutils_search + '\"P100\"' + 'AND' + '\"language\"' + retmax_arg + usehist_arg\n",
    "\n",
    "erps = ['P100', 'P1']\n",
    "excludes = ['protein', 'cancer']\n",
    "\n",
    "search_url = eutils_search + comb_terms(erps, 'or') + comb_terms(excludes, 'not')\n",
    "\n",
    "#\n",
    "page = requests.get(search_url)\n",
    "page_soup = BeautifulSoup(page.content, 'lxml')\n",
    "ids = page_soup.find_all('id')"
   ]
  },
  {
   "cell_type": "code",
   "execution_count": null,
   "metadata": {},
   "outputs": [],
   "source": [
    "url"
   ]
  },
  {
   "cell_type": "code",
   "execution_count": null,
   "metadata": {},
   "outputs": [],
   "source": [
    "ids_str = _ids_to_str(ids)"
   ]
  },
  {
   "cell_type": "code",
   "execution_count": null,
   "metadata": {},
   "outputs": [],
   "source": [
    "fetch_url = eutils_fetch + ids_str\n",
    "\n",
    "page = requests.get(fetch_url)\n",
    "page_soup = BeautifulSoup(page.content, 'xml')"
   ]
  },
  {
   "cell_type": "code",
   "execution_count": null,
   "metadata": {},
   "outputs": [],
   "source": [
    "print(fetch_url)"
   ]
  },
  {
   "cell_type": "code",
   "execution_count": null,
   "metadata": {},
   "outputs": [],
   "source": [
    "#page_soup"
   ]
  },
  {
   "cell_type": "code",
   "execution_count": null,
   "metadata": {
    "collapsed": true
   },
   "outputs": [],
   "source": [
    "# Pull out articles\n",
    "articles = page_soup.findAll('PubmedArticle')"
   ]
  },
  {
   "cell_type": "code",
   "execution_count": null,
   "metadata": {},
   "outputs": [],
   "source": [
    "len(articles)"
   ]
  },
  {
   "cell_type": "code",
   "execution_count": null,
   "metadata": {},
   "outputs": [],
   "source": [
    "#articles[0]\n",
    "aa = articles[2]"
   ]
  },
  {
   "cell_type": "code",
   "execution_count": null,
   "metadata": {},
   "outputs": [],
   "source": [
    "#for ch in aa.children:\n",
    "#    print(ch)"
   ]
  },
  {
   "cell_type": "code",
   "execution_count": null,
   "metadata": {
    "collapsed": true
   },
   "outputs": [],
   "source": [
    "yy = extract(extract(aa, 'DateCreated', 'raw'), 'Year', 'str')"
   ]
  },
  {
   "cell_type": "code",
   "execution_count": null,
   "metadata": {
    "collapsed": true
   },
   "outputs": [],
   "source": [
    "tt = extract(aa, 'Journal', 'raw')"
   ]
  },
  {
   "cell_type": "code",
   "execution_count": null,
   "metadata": {
    "collapsed": true
   },
   "outputs": [],
   "source": [
    "t1 = extract(aa, 'PubDate', 'raw')"
   ]
  },
  {
   "cell_type": "code",
   "execution_count": null,
   "metadata": {},
   "outputs": [],
   "source": [
    "t2 = extract(tt, 'PubDate', 'raw')"
   ]
  },
  {
   "cell_type": "code",
   "execution_count": null,
   "metadata": {
    "collapsed": true
   },
   "outputs": [],
   "source": [
    "pub_date = extract(extract(aa, 'Journal', 'raw'), 'PubDate', 'raw')"
   ]
  },
  {
   "cell_type": "code",
   "execution_count": null,
   "metadata": {
    "collapsed": true
   },
   "outputs": [],
   "source": [
    "mm = extract(pub_date, 'Month', 'txt')"
   ]
  },
  {
   "cell_type": "code",
   "execution_count": null,
   "metadata": {},
   "outputs": [],
   "source": [
    "yy = int(extract(pub_date, 'Year', 'str'))"
   ]
  },
  {
   "cell_type": "code",
   "execution_count": null,
   "metadata": {},
   "outputs": [],
   "source": [
    "a = extract(aa, 'AbstractText', 'txt')"
   ]
  },
  {
   "cell_type": "code",
   "execution_count": null,
   "metadata": {},
   "outputs": [],
   "source": [
    "a"
   ]
  },
  {
   "cell_type": "code",
   "execution_count": null,
   "metadata": {},
   "outputs": [],
   "source": [
    "qqq = _extract(aa, 'Initials', 'raw')\n",
    "print(qqq)\n",
    "\n",
    "rrr = _extract(qqq, 'Initials', 'raw')"
   ]
  },
  {
   "cell_type": "code",
   "execution_count": null,
   "metadata": {},
   "outputs": [],
   "source": [
    "cc = articles[0].find('Title')\n",
    "print(type(cc))"
   ]
  },
  {
   "cell_type": "code",
   "execution_count": null,
   "metadata": {},
   "outputs": [],
   "source": [
    "articles[0].find('ISOAbbreviation')"
   ]
  },
  {
   "cell_type": "code",
   "execution_count": null,
   "metadata": {},
   "outputs": [],
   "source": [
    "bb = articles[0].find('AuthorList')"
   ]
  },
  {
   "cell_type": "code",
   "execution_count": null,
   "metadata": {},
   "outputs": [],
   "source": [
    "l_names = bb.findAll('LastName')\n",
    "f_names = bb.findAll('ForeName')\n",
    "ini = bb.findAll('Initials')\n",
    "aff = bb.findAll('Affiliation')"
   ]
  },
  {
   "cell_type": "code",
   "execution_count": null,
   "metadata": {},
   "outputs": [],
   "source": [
    "len(l_names) == len(f_names) == len(ini) == len(aff)"
   ]
  },
  {
   "cell_type": "code",
   "execution_count": null,
   "metadata": {
    "collapsed": true
   },
   "outputs": [],
   "source": []
  },
  {
   "cell_type": "markdown",
   "metadata": {},
   "source": [
    "## TAGS!"
   ]
  },
  {
   "cell_type": "code",
   "execution_count": null,
   "metadata": {
    "collapsed": true
   },
   "outputs": [],
   "source": [
    "from erpsc.core.utils import extract"
   ]
  },
  {
   "cell_type": "code",
   "execution_count": null,
   "metadata": {},
   "outputs": [],
   "source": [
    "aa = bs4.element.Tag(name='Greg', parent=bs4.element.Tag(name='Daddy'))\n",
    "aa.append('stuff')\n",
    "print(aa)"
   ]
  },
  {
   "cell_type": "code",
   "execution_count": null,
   "metadata": {},
   "outputs": [],
   "source": [
    "out = bs4.element.Tag(name='Out')\n",
    "inn1 = bs4.element.Tag(name='Inn')\n",
    "inn2 = bs4.element.Tag(name='Inn')\n",
    "\n",
    "inn1.append('words words')\n",
    "inn2.append('more words')\n",
    "\n",
    "out.append(inn1)\n",
    "out.append(inn2)\n",
    "\n",
    "print(out)"
   ]
  },
  {
   "cell_type": "code",
   "execution_count": null,
   "metadata": {},
   "outputs": [],
   "source": [
    "dd = extract(out, 'Inn', 'txt')\n",
    "print(type(dd))\n",
    "print(dd)\n",
    "\n",
    "ee = extract(out, 'Inn', 'str')\n",
    "print(type(ee))\n",
    "print(ee)\n",
    "\n",
    "ff = extract(out, 'Inn', 'all')\n",
    "print(type(ff))\n",
    "print(ff)\n",
    "\n",
    "gg = extract(out, 'Inn', 'raw')\n",
    "print(gg)"
   ]
  },
  {
   "cell_type": "code",
   "execution_count": null,
   "metadata": {},
   "outputs": [],
   "source": [
    "type(gg) is bs4.element.Tag"
   ]
  },
  {
   "cell_type": "code",
   "execution_count": null,
   "metadata": {},
   "outputs": [],
   "source": [
    "from types import UnicodeType"
   ]
  },
  {
   "cell_type": "code",
   "execution_count": null,
   "metadata": {
    "collapsed": true
   },
   "outputs": [],
   "source": [
    "top = bs4.element.Tag(name='Top')\n",
    "top.append('Weeee')\n",
    "bottom = bs4.element.Tag(name=top)"
   ]
  },
  {
   "cell_type": "code",
   "execution_count": null,
   "metadata": {},
   "outputs": [],
   "source": [
    "bottom.find('Bottom')"
   ]
  },
  {
   "cell_type": "code",
   "execution_count": null,
   "metadata": {
    "collapsed": true
   },
   "outputs": [],
   "source": [
    "test_tag = bs4.element.Tag(name='Greg')\n",
    "test_tag.append('data!')"
   ]
  },
  {
   "cell_type": "code",
   "execution_count": null,
   "metadata": {
    "collapsed": true
   },
   "outputs": [],
   "source": [
    "test_tag.find('Greg')"
   ]
  },
  {
   "cell_type": "code",
   "execution_count": null,
   "metadata": {},
   "outputs": [],
   "source": [
    "top.insert(0, test_tag)"
   ]
  },
  {
   "cell_type": "code",
   "execution_count": null,
   "metadata": {},
   "outputs": [],
   "source": [
    "top.find('Greg')"
   ]
  },
  {
   "cell_type": "code",
   "execution_count": null,
   "metadata": {
    "collapsed": true
   },
   "outputs": [],
   "source": [
    "idd = bs4.element.Tag(name='id')\n",
    "idd.append('1111')"
   ]
  },
  {
   "cell_type": "code",
   "execution_count": null,
   "metadata": {},
   "outputs": [],
   "source": [
    "ids = bs4.element.ResultSet(source=None, result=(idd, idd))"
   ]
  },
  {
   "cell_type": "code",
   "execution_count": null,
   "metadata": {
    "collapsed": true
   },
   "outputs": [],
   "source": [
    "# Initialize id ResultSet\n",
    "idd = bs4.element.Tag(name='id')\n",
    "idd.append('1111')\n",
    "ids = bs4.element.ResultSet(source=None, result=(idd, idd))"
   ]
  },
  {
   "cell_type": "code",
   "execution_count": null,
   "metadata": {},
   "outputs": [],
   "source": [
    "a = 1\n",
    "\n",
    "try:\n",
    "    a.pop()\n",
    "except AttributeError:\n",
    "    pass"
   ]
  },
  {
   "cell_type": "code",
   "execution_count": null,
   "metadata": {
    "collapsed": true
   },
   "outputs": [],
   "source": []
  },
  {
   "cell_type": "code",
   "execution_count": null,
   "metadata": {
    "collapsed": true
   },
   "outputs": [],
   "source": []
  },
  {
   "cell_type": "code",
   "execution_count": null,
   "metadata": {
    "collapsed": true
   },
   "outputs": [],
   "source": [
    "def tt():\n",
    "    return 1, 2"
   ]
  },
  {
   "cell_type": "code",
   "execution_count": null,
   "metadata": {},
   "outputs": [],
   "source": [
    "sum(tt())"
   ]
  },
  {
   "cell_type": "code",
   "execution_count": null,
   "metadata": {
    "collapsed": true
   },
   "outputs": [],
   "source": []
  },
  {
   "cell_type": "code",
   "execution_count": null,
   "metadata": {
    "collapsed": true
   },
   "outputs": [],
   "source": []
  },
  {
   "cell_type": "code",
   "execution_count": null,
   "metadata": {},
   "outputs": [],
   "source": [
    "data = ERPData(erp='aa')\n",
    "for d in data:\n",
    "    print(d)"
   ]
  },
  {
   "cell_type": "code",
   "execution_count": null,
   "metadata": {
    "collapsed": true
   },
   "outputs": [],
   "source": [
    "class MyClass:\n",
    "    def __getitem__(self, key):\n",
    "        return key * 2"
   ]
  },
  {
   "cell_type": "code",
   "execution_count": null,
   "metadata": {},
   "outputs": [],
   "source": [
    "myobj = MyClass()\n",
    "myobj[2]"
   ]
  },
  {
   "cell_type": "code",
   "execution_count": null,
   "metadata": {},
   "outputs": [],
   "source": [
    "class TO(object):\n",
    "    def __init__(self):\n",
    "        self.n = 3\n",
    "        self.aa = ['a', 'b', 'c']\n",
    "        self.bb = [1, 2, 3]\n",
    "        \n",
    "    def __iter__(self):\n",
    "        for ind in range(self.n):\n",
    "            yield {\n",
    "                'aa' : self.aa[ind],\n",
    "                'bb' : self.bb[ind]\n",
    "            }\n",
    "            \n",
    "    def __getitem__(self, key):\n",
    "       \n",
    "        try:\n",
    "            ind = self.aa.index(key)\n",
    "        except ValueError:\n",
    "            raise ValueError('Requested item not in TO')\n",
    "        \n",
    "        return {\n",
    "            'aa' : self.aa[ind],\n",
    "            'bb' : self.bb[ind]\n",
    "        }           \n",
    "\n",
    "            \n",
    "    def do_things(self):\n",
    "        for i, d in enumerate(self):\n",
    "            #print(i)\n",
    "            \n",
    "            with open('data' + str(i) + '.json', 'w') as outfile:\n",
    "                json.dump(d, outfile)"
   ]
  },
  {
   "cell_type": "code",
   "execution_count": null,
   "metadata": {},
   "outputs": [],
   "source": [
    "aa = TO()\n",
    "aa['a']"
   ]
  },
  {
   "cell_type": "code",
   "execution_count": null,
   "metadata": {},
   "outputs": [],
   "source": [
    "aa = TO()\n",
    "data = [dat for dat in aa]"
   ]
  },
  {
   "cell_type": "code",
   "execution_count": null,
   "metadata": {},
   "outputs": [],
   "source": [
    "aa.do_things()"
   ]
  },
  {
   "cell_type": "code",
   "execution_count": null,
   "metadata": {
    "collapsed": true
   },
   "outputs": [],
   "source": []
  },
  {
   "cell_type": "code",
   "execution_count": null,
   "metadata": {},
   "outputs": [],
   "source": [
    "for d in aa:\n",
    "    print(d)"
   ]
  },
  {
   "cell_type": "code",
   "execution_count": null,
   "metadata": {
    "collapsed": true
   },
   "outputs": [],
   "source": [
    "import json"
   ]
  },
  {
   "cell_type": "code",
   "execution_count": null,
   "metadata": {},
   "outputs": [],
   "source": [
    "with open('data.json', 'w') as outfile:\n",
    "    json.dump(data[0], outfile)"
   ]
  },
  {
   "cell_type": "code",
   "execution_count": null,
   "metadata": {
    "collapsed": true
   },
   "outputs": [],
   "source": [
    "with open('data.json', 'w') as outfile:\n",
    "    json.dump(data[0], outfile)\n",
    "    outfile.write('\\n')\n",
    "    json.dump(data[1], outfile)\n",
    "    outfile.write('\\n')"
   ]
  },
  {
   "cell_type": "code",
   "execution_count": null,
   "metadata": {
    "collapsed": true
   },
   "outputs": [],
   "source": [
    "def parseData(fname):\n",
    "    for l in open(fname):\n",
    "        yield eval(l)"
   ]
  },
  {
   "cell_type": "code",
   "execution_count": null,
   "metadata": {},
   "outputs": [],
   "source": [
    "def parse_jsdat(f_name):\n",
    "    for l in open(f_name):\n",
    "        yield json.loads(l)"
   ]
  },
  {
   "cell_type": "code",
   "execution_count": null,
   "metadata": {
    "collapsed": true
   },
   "outputs": [],
   "source": [
    "from erpsc.core.db import ERPDB\n",
    "db = ERPDB()"
   ]
  },
  {
   "cell_type": "code",
   "execution_count": null,
   "metadata": {},
   "outputs": [],
   "source": [
    "dat = list(parse_jsdat(db.words_path + '/raw/' + 'P100.json'))"
   ]
  },
  {
   "cell_type": "code",
   "execution_count": null,
   "metadata": {},
   "outputs": [],
   "source": [
    "dat[0].keys()"
   ]
  },
  {
   "cell_type": "code",
   "execution_count": null,
   "metadata": {},
   "outputs": [],
   "source": [
    "print(dat[4]['month'])"
   ]
  },
  {
   "cell_type": "code",
   "execution_count": null,
   "metadata": {},
   "outputs": [],
   "source": [
    "dat[5].keys()"
   ]
  },
  {
   "cell_type": "code",
   "execution_count": null,
   "metadata": {},
   "outputs": [],
   "source": [
    "dat = list(parseData('P100.json'))"
   ]
  },
  {
   "cell_type": "code",
   "execution_count": null,
   "metadata": {},
   "outputs": [],
   "source": [
    "dat"
   ]
  },
  {
   "cell_type": "code",
   "execution_count": null,
   "metadata": {},
   "outputs": [],
   "source": [
    "#json.load(open('data.json'))"
   ]
  },
  {
   "cell_type": "code",
   "execution_count": null,
   "metadata": {},
   "outputs": [],
   "source": [
    "bb = json.load(open('data.json'))"
   ]
  },
  {
   "cell_type": "code",
   "execution_count": null,
   "metadata": {},
   "outputs": [],
   "source": [
    "json.loads?"
   ]
  },
  {
   "cell_type": "code",
   "execution_count": null,
   "metadata": {
    "collapsed": true
   },
   "outputs": [],
   "source": [
    "json.dump()"
   ]
  },
  {
   "cell_type": "code",
   "execution_count": null,
   "metadata": {},
   "outputs": [],
   "source": [
    "data"
   ]
  },
  {
   "cell_type": "code",
   "execution_count": null,
   "metadata": {
    "collapsed": true
   },
   "outputs": [],
   "source": []
  }
 ],
 "metadata": {
  "anaconda-cloud": {},
  "kernelspec": {
   "display_name": "Python 3",
   "language": "python",
   "name": "python3"
  },
  "language_info": {
   "codemirror_mode": {
    "name": "ipython",
    "version": 3
   },
   "file_extension": ".py",
   "mimetype": "text/x-python",
   "name": "python",
   "nbconvert_exporter": "python",
   "pygments_lexer": "ipython3",
   "version": "3.6.1"
  }
 },
 "nbformat": 4,
 "nbformat_minor": 1
}
