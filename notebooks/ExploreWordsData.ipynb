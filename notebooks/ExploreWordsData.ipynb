{
 "cells": [
  {
   "cell_type": "code",
   "execution_count": 4,
   "metadata": {
    "collapsed": true
   },
   "outputs": [],
   "source": [
    "import os\n",
    "import sys\n",
    "import nltk\n",
    "import itertools "
   ]
  },
  {
   "cell_type": "code",
   "execution_count": 5,
   "metadata": {
    "collapsed": false
   },
   "outputs": [],
   "source": [
    "# stupid way to access the data\n",
    "my_path = '/Users/vassiki/Desktop/nhw17/DataDrivenCognitiveOntology/'\n",
    "sys.path.append(my_path)"
   ]
  },
  {
   "cell_type": "code",
   "execution_count": 6,
   "metadata": {
    "collapsed": false
   },
   "outputs": [],
   "source": [
    "# Import core functions\n",
    "from lisc.base import Base\n",
    "from lisc.core.db import SCDB\n",
    "from lisc.data import Data\n",
    "from lisc.data_all import DataAll"
   ]
  },
  {
   "cell_type": "code",
   "execution_count": 7,
   "metadata": {
    "collapsed": true
   },
   "outputs": [],
   "source": [
    "# Add data to path\n",
    "db = SCDB(False)\n",
    "db.project_path = os.path.join(os.getcwd(), 'dat')\n",
    "db.gen_paths()"
   ]
  },
  {
   "cell_type": "code",
   "execution_count": 8,
   "metadata": {
    "collapsed": false
   },
   "outputs": [],
   "source": [
    "# Using a single case, for autobiographical recall\n",
    "# Need associated .json file to run this!\n",
    "dat = Data('autobiographical recall')\n",
    "dat.load(db)"
   ]
  },
  {
   "cell_type": "code",
   "execution_count": 9,
   "metadata": {
    "collapsed": true
   },
   "outputs": [],
   "source": [
    "def get_corpus(ds):\n",
    "    \"\"\"\n",
    "    To flatten all abstract words into a long list, and make a corpus out of it \n",
    "    \n",
    "    TO DO: Generalize to making a corpus of authors, or any metric the author wants\n",
    "    \n",
    "    Attributes\n",
    "    ----------\n",
    "    ds : Data structure returned by lisc when a query is submitted\n",
    "    \"\"\"\n",
    "    aPreCorpus = []\n",
    "    \n",
    "    numArticles = ds.n_articles\n",
    "    print('Iterating over %d articles for extracting words') %(ds.n_articles)\n",
    "    for AIdx in xrange(numArticles):\n",
    "        if ds.words[AIdx] != None:\n",
    "            aPreCorpus.append(ds.words[AIdx])\n",
    "        \n",
    "    \n",
    "    PreText = list(itertools.chain.from_iterable(aPreCorpus))\n",
    "    \n",
    "    Corpus = nltk.Text(PreText)\n",
    "    \n",
    "    return Corpus\n",
    "        \n",
    "\n",
    "def get_common_words(Corpus,NumWords):\n",
    "    \"\"\"\n",
    "    Return the most common words in the concatenated article text corpus\n",
    "    \n",
    "    Attributes\n",
    "    ----------\n",
    "    Corpus: generated from keyword arguments from cognitive atlas\n",
    "    NumWords: Top N words to return\n",
    "    \"\"\"\n",
    "    \n",
    "    assert(NumWords <= len(Corpus))\n",
    "    \n",
    "    fdist = nltk.FreqDist(Corpus)\n",
    "    common_words = fdist.most_common(NumWords)\n",
    "    header = [('Term', 'Frequency'),('-'*len('Term'),'-'*len('Frequency'))]\n",
    "    wordList = header + common_words\n",
    "    \n",
    "    width = max(len(e) for t in wordList for e in t[:-1]) + 1 \n",
    "    format=('%%-%ds' % width) * len(wordList[0])\n",
    "    print '\\n'.join(format % tuple(t) for t in wordList)\n",
    "    print('\\n Total Word Count : %d') %(len(Corpus))\n",
    "    \n",
    "\n",
    "def get_similarity(Corpus,ds,keyword='memory'):\n",
    "    \"\"\"\n",
    "    Returns the most similar words, determined by neighborhood in corpus\n",
    "    \n",
    "    Attributes\n",
    "    ----------\n",
    "    \n",
    "    Corpus : concatenated list of abstracts\n",
    "    ds : ouptut of lisc\n",
    "    keyword : query\n",
    "    \n",
    "    NOTE: There is a bug in text.similarity in NLTK2.0, we want to use this function to return similar \n",
    "    words in a ranked fashion \n",
    "    \"\"\"\n",
    "    #similar_words = Corpus.similar(keyword)\n",
    "    #return similar_words\n",
    "    #similar_words = Corpus._word_contex_index.similar_words(keyword)\n",
    "    #if similar_words != None:\n",
    "     #   print '\\n'.join(word for word in similar_words)\n",
    "    #else: \n",
    "     #   print 'No matches.'\n",
    "        \n",
    "    idx = nltk.text.ContextIndex([word.lower() for word in Corpus])\n",
    "    simWords = []\n",
    "    for word in nltk.word_tokenize(keyword):\n",
    "        simWords.append(idx.similar_words(word))\n",
    "        if word != None:\n",
    "            print '\\n'.join(idx.similar_words(word))\n",
    "    return list(itertools.chain.from_iterable(simWords))"
   ]
  },
  {
   "cell_type": "code",
   "execution_count": 16,
   "metadata": {
    "collapsed": true
   },
   "outputs": [],
   "source": [
    "# See how many terms from Cognitive Atlas exist in given Corpus, don't run this now\n",
    "CA_words = ['abstract reasoning','attention','arousal']\n",
    "def CA_word_presence(Corpus,CA_terms):\n",
    "    \"\"\"\n",
    "    Returns the words from CA that are present in the CA\n",
    "    \n",
    "    TO DO: Generalize to entering tasks \n",
    "    \n",
    "    Attributes\n",
    "    ----------\n",
    "    \n",
    "    Corpus : concatenated list of abstracts\n",
    "    \"\"\"    \n",
    "    mask = []\n",
    "    for ca_idx in xrange(len(CA_terms)):\n",
    "        if CA_terms[ca_idx] in Corpus:\n",
    "            mask.append(True)\n",
    "        else:\n",
    "            mask.append(False)\n",
    "            \n",
    "    PresentTerms = list(compress(CA_words, mask))\n",
    "    print '\\n'.join(word for word in PresentTerms)\n",
    "    \n",
    "    return PresentTerms\n",
    "   "
   ]
  },
  {
   "cell_type": "markdown",
   "metadata": {},
   "source": [
    "### Scratchpad"
   ]
  },
  {
   "cell_type": "code",
   "execution_count": null,
   "metadata": {
    "collapsed": false
   },
   "outputs": [],
   "source": [
    "Corpus = get_corpus(dat)"
   ]
  },
  {
   "cell_type": "code",
   "execution_count": null,
   "metadata": {
    "collapsed": false
   },
   "outputs": [],
   "source": [
    "get_common_words(Corpus,10)"
   ]
  },
  {
   "cell_type": "code",
   "execution_count": null,
   "metadata": {
    "collapsed": false
   },
   "outputs": [],
   "source": [
    "sim = get_similarity(Corpus,dat,'autobiographical recall')"
   ]
  },
  {
   "cell_type": "code",
   "execution_count": null,
   "metadata": {
    "collapsed": false
   },
   "outputs": [],
   "source": [
    "def test_neighbors(Corpus,keyword)\n",
    "    \n",
    "    plain_list = list(Corpus)\n",
    "    max_instances = 10\n",
    "\n",
    "    indices = [i for i, x in enumerate(plain_list) if x == \"p300\"]\n",
    "\n",
    "    check_first = indices[:max_instances]\n",
    "\n",
    "    for i in range(max_instances):\n",
    "        print('Occurence %d of p300 preceded by %s and followed by %s.') \\\n",
    "        %(check_first[i],plain_list[i-1],plain_list[i+1])"
   ]
  },
  {
   "cell_type": "markdown",
   "metadata": {},
   "source": [
    "### Visualization with Gensim"
   ]
  },
  {
   "cell_type": "code",
   "execution_count": 27,
   "metadata": {
    "collapsed": false
   },
   "outputs": [],
   "source": [
    "import gensim\n",
    "from gensim import corpora\n",
    "import pandas as pd\n",
    "from gensim.models import LdaModel\n",
    "import pyLDAvis.gensim"
   ]
  },
  {
   "cell_type": "code",
   "execution_count": 28,
   "metadata": {
    "collapsed": false
   },
   "outputs": [],
   "source": [
    "textList = []\n",
    "    \n",
    "numArticles = dat.n_articles\n",
    "for AIdx in xrange(numArticles):\n",
    "    if dat.words[AIdx] != None:\n",
    "        textList.append(dat.words[AIdx])\n",
    "        "
   ]
  },
  {
   "cell_type": "code",
   "execution_count": 29,
   "metadata": {
    "collapsed": false
   },
   "outputs": [],
   "source": [
    "dictionary = corpora.Dictionary(textList)\n",
    "dictionary.save('dictionary.dict')"
   ]
  },
  {
   "cell_type": "code",
   "execution_count": 30,
   "metadata": {
    "collapsed": false
   },
   "outputs": [],
   "source": [
    "doc_term_matrix = [dictionary.doc2bow(doc) for doc in textList]\n",
    "corpora.MmCorpus.serialize('corpus.mm', doc_term_matrix)"
   ]
  },
  {
   "cell_type": "code",
   "execution_count": 31,
   "metadata": {
    "collapsed": false
   },
   "outputs": [],
   "source": [
    "Lda = gensim.models.ldamodel.LdaModel\n",
    "\n",
    "ldamodel = Lda(doc_term_matrix, num_topics=3, id2word = dictionary, passes=50)\n",
    "\n",
    "ldamodel.save('topic.model')"
   ]
  },
  {
   "cell_type": "code",
   "execution_count": 32,
   "metadata": {
    "collapsed": false
   },
   "outputs": [
    {
     "name": "stdout",
     "output_type": "stream",
     "text": [
      "[(0, u'0.026*\"autobiographical\" + 0.021*\"memory\" + 0.015*\"recall\" + 0.010*\"memories\"'), (1, u'0.018*\"mood\" + 0.012*\"induction\" + 0.009*\"study\" + 0.009*\"j\"')]\n"
     ]
    }
   ],
   "source": [
    "loading = LdaModel.load('topic.model')\n",
    "print(loading.print_topics(num_topics=2, num_words=4))"
   ]
  },
  {
   "cell_type": "code",
   "execution_count": 33,
   "metadata": {
    "collapsed": false
   },
   "outputs": [],
   "source": [
    "pyLDAvis.enable_notebook()"
   ]
  },
  {
   "cell_type": "code",
   "execution_count": 34,
   "metadata": {
    "collapsed": true
   },
   "outputs": [],
   "source": [
    "d = gensim.corpora.Dictionary.load('dictionary.dict')\n",
    "c = gensim.corpora.MmCorpus('corpus.mm')\n",
    "lda = gensim.models.LdaModel.load('topic.model')"
   ]
  },
  {
   "cell_type": "code",
   "execution_count": 35,
   "metadata": {
    "collapsed": false
   },
   "outputs": [],
   "source": [
    "data = pyLDAvis.gensim.prepare(lda, c, d)"
   ]
  },
  {
   "cell_type": "code",
   "execution_count": 36,
   "metadata": {
    "collapsed": false
   },
   "outputs": [
    {
     "data": {
      "text/html": [
       "\n",
       "<link rel=\"stylesheet\" type=\"text/css\" href=\"https://cdn.rawgit.com/bmabey/pyLDAvis/files/ldavis.v1.0.0.css\">\n",
       "\n",
       "\n",
       "<div id=\"ldavis_el2006847449659684105342954\"></div>\n",
       "<script type=\"text/javascript\">\n",
       "\n",
       "var ldavis_el2006847449659684105342954_data = {\"plot.opts\": {\"xlab\": \"PC1\", \"ylab\": \"PC2\"}, \"topic.order\": [1, 3, 2], \"token.table\": {\"Topic\": [3, 3, 1, 1, 2, 1, 3, 1, 3, 1, 2, 1, 2, 3, 1, 2, 3, 2, 3, 1, 3, 1, 2, 3, 2, 1, 2, 3, 2, 3, 3, 1, 1, 2, 3, 1, 1, 2, 1, 2, 3, 1, 2, 1, 3, 1, 2, 3, 2, 1, 2, 2, 3, 2, 3, 1, 2, 2, 1, 2, 3, 1, 2, 3, 1, 2, 3, 1, 2, 3, 1, 2, 3, 2, 1, 2, 3, 1, 2, 3, 1, 2, 3, 1, 2, 3, 1, 2, 3, 1, 1, 3, 1, 3, 3, 3, 3, 1, 2, 3, 2, 1, 2, 2, 3, 1, 1, 2, 3, 2, 1, 2, 3, 1, 1, 2, 1, 2, 3, 1, 3, 1, 2, 3, 2, 1, 3, 2, 2, 1, 2, 1, 2, 1, 1, 2, 3, 1, 1, 2, 3, 1, 2, 3, 1, 2, 3, 1, 2, 3, 3, 3, 1, 1, 3, 3, 1, 2, 3, 2, 1, 2, 3, 3, 1, 2, 3, 1, 1, 2, 3, 1, 2, 3, 1, 1, 2, 1, 2, 1, 2, 3, 1, 2, 3, 1, 3, 3, 3, 1, 2, 3, 1, 3, 1, 3, 1, 2, 3, 1, 2, 1, 2, 3, 1, 2, 3, 3, 1, 2, 2, 3, 1, 3, 2, 1, 2, 1, 2, 2, 1, 1, 2, 1, 2, 3, 1, 2, 3, 2, 1, 3, 2, 1, 2, 3, 1, 2, 3, 1, 2, 3, 2, 3, 1, 2, 3, 1, 2, 3, 1, 2, 3, 1, 3, 2, 2, 3, 1, 2, 3, 2, 3, 1, 2, 3, 1, 2, 3, 2, 3, 2, 3, 1, 1, 2, 3, 3, 2, 2, 2, 1, 2, 1, 2, 3, 1], \"Freq\": [0.8517160743790516, 0.9500597465827456, 0.8760802494850669, 0.3338692826737789, 0.6677385653475578, 0.9593093792224061, 0.1370441970317723, 0.9520136861760112, 0.9563053256205235, 0.11365473525477754, 0.7955831467834428, 0.5655204744836454, 0.2610094497616825, 0.17400629984112165, 0.5159949193207819, 0.4242624892193096, 0.06306604569476223, 0.7983036250204562, 0.15966072500409123, 0.9848231946678138, 0.8517160529125203, 0.10786498834872713, 0.10786498834872713, 0.7550549184410899, 0.975563707395617, 0.9848229775324526, 0.8379636492723057, 0.8166227897436116, 0.8379581914241642, 0.8618075485492684, 0.8166227971450649, 0.9848233964513389, 0.414026955682742, 0.2957335397733871, 0.2957335397733871, 0.8198382839283238, 0.6911705453004439, 0.2303901817668146, 0.4156342275670753, 0.5343868640148111, 0.0593763182238679, 0.9848235245598802, 0.7551164074178875, 0.818926698078513, 0.9150247838895293, 0.8589279138368836, 0.12270398769098337, 0.8127261187464937, 0.8379580876643263, 0.20754967875244168, 0.7610154887589529, 0.9109622618507411, 0.0792141097261514, 0.8776619680499352, 0.9500597389877222, 0.8189269474059772, 0.9412163967100098, 0.9755633594273859, 0.8461565493155231, 0.14102609155258716, 0.9494517998865842, 0.3133060829702636, 0.36552376346530746, 0.3133060829702636, 0.18462988873860245, 0.3692597774772049, 0.4061857552249254, 0.596128226172355, 0.36684813918298764, 0.045856017397873455, 0.28635847460162445, 0.34363016952194936, 0.4009018644422742, 0.7551164066047312, 0.9149800034093669, 0.07624833361744725, 0.8517160543337368, 0.7301365863744653, 0.2246574111921432, 0.0561643527980358, 0.76613863784487, 0.17680122411804694, 0.05893374137268231, 0.746041566744071, 0.16578701483201577, 0.08289350741600789, 0.5970709290720146, 0.3256750522210989, 0.1085583507403663, 0.8189266627303049, 0.8370893937893927, 0.13951489896489877, 0.8705065777174541, 0.12435808253106487, 0.8517153381248109, 0.9500590953510948, 0.8517151058550544, 0.4920421784692447, 0.4025799642021093, 0.0894622142671354, 0.9412163004682165, 0.7256022335361204, 0.2790777821292771, 0.37410298451323676, 0.623504974188728, 0.9848231417592865, 0.17993785261569684, 0.7197514104627873, 0.08996892630784842, 0.9755022313188684, 0.5451348683483924, 0.2935341598799036, 0.1258003542342444, 0.8189271471962134, 0.8372206214337132, 0.12880317252826357, 0.38774282102193863, 0.5600729636983558, 0.0430825356691043, 0.23530126357395587, 0.7059037907218676, 0.17776154354237053, 0.10665692612542231, 0.7110461741694821, 0.7551164651096548, 0.9520143260851799, 0.9856984678614955, 0.9755633154825967, 0.8379376186949985, 0.8585230339142993, 0.12264614770204275, 0.7906938900847506, 0.1757097533521668, 0.9785174587556238, 0.30827905815149254, 0.5009534694961754, 0.15413952907574627, 0.8760803203116826, 0.26757795004398927, 0.6020503875989759, 0.13378897502199463, 0.617994032801502, 0.33708765425536474, 0.037454183806151634, 0.5719752389337949, 0.39176386228342114, 0.03917638622834212, 0.15342658116923025, 0.26849651704615296, 0.5753496793846135, 0.9558732453866712, 0.9563055005117469, 0.8760802292231582, 0.6752218207122532, 0.30691900941466055, 0.8166227939362641, 0.17998349200038927, 0.35996698400077853, 0.43196038080093424, 0.8970025382248883, 0.24529256694974047, 0.5519082756369161, 0.24529256694974047, 0.8517156022028132, 0.43041788208223686, 0.5260663003227339, 0.04782420912024854, 0.9520136679893318, 0.7200868299045855, 0.23042778556946736, 0.05760694639236684, 0.20217977078825677, 0.6065393123647703, 0.20217977078825677, 0.8189643738954852, 0.6413744958487261, 0.32068724792436304, 0.9848230772628308, 0.9755636699967949, 0.2860324963423351, 0.14301624817116754, 0.5720649926846701, 0.08232517248628715, 0.1646503449725743, 0.7409265523765843, 0.9848230707132875, 0.9635453199789382, 0.85171559028343, 0.9500593525195672, 0.49063390884113944, 0.42583320389985685, 0.0833151920673633, 0.8108533147977378, 0.1801896255106084, 0.37249476626560446, 0.6208246104426741, 0.366225533766561, 0.4120037254873811, 0.2288909586041006, 0.9786666733459596, 0.9412161475910104, 0.3676242723146539, 0.5514364084719808, 0.07352485446293078, 0.8346532242630673, 0.1304145662911043, 0.026082913258220854, 0.8517160558506643, 0.710698149913321, 0.2584356908775713, 0.9437169711011323, 0.05242872061672957, 0.9848233692990519, 0.9498856081069923, 0.8379581948902645, 0.11365491153945263, 0.7955843807761684, 0.9076258386758049, 0.0850899223758567, 0.9411369638300816, 0.8760806104598405, 0.9848229612099768, 0.8776868901684188, 0.5054246157100547, 0.4665457991169736, 0.03887881659308113, 0.3124690973248022, 0.703055468980805, 0.07811727433120055, 0.8379583063374705, 0.1297349285386947, 0.9081444997708629, 0.8970031502368159, 0.3878554724318778, 0.4848193405398472, 0.09696386810796945, 0.2012386953856379, 0.6707956512854597, 0.13415913025709195, 0.15052806480474748, 0.6773762916213637, 0.15052806480474748, 0.17548883748242838, 0.7019553499297135, 0.1397320955938345, 0.7685265257660898, 0.06986604779691725, 0.4968524231338738, 0.38219417164144137, 0.15287766865657654, 0.25285515922041096, 0.413762987815218, 0.34480248984601497, 0.8897940211580532, 0.9150243248809867, 0.9755633170786443, 0.3814118790681289, 0.6102590065090063, 0.373239448762404, 0.4478873385148848, 0.1492957795049616, 0.17549925576121528, 0.7019970230448611, 0.8714836389846213, 0.07262363658205177, 0.07262363658205177, 0.19354732660727178, 0.6774156431254512, 0.09677366330363589, 0.7551164436104117, 0.8517160437163682, 0.8379581303935368, 0.851657154403495, 0.8189269048496315, 0.22689061417277487, 0.4084031055109948, 0.3630249826764398, 0.9500591009483087, 0.897059059419805, 0.755116238126144, 0.8970030057639381, 0.7013985428158863, 0.29224939283995266, 0.3894026444799563, 0.4867533055999454, 0.14602599167998362, 0.9848233960203069], \"Term\": [\"1982\", \"26\", \"ab\", \"ad\", \"ad\", \"affected\", \"affected\", \"amci\", \"anticipated\", \"anxiety\", \"anxiety\", \"associated\", \"associated\", \"associated\", \"autobiographical\", \"autobiographical\", \"autobiographical\", \"awareness\", \"awareness\", \"ba\", \"behav\", \"behavior\", \"behavior\", \"behavior\", \"behaviour\", \"bilaterally\", \"bpd\", \"br\", \"brooding\", \"children\", \"clin\", \"clomipramine\", \"cognitive\", \"cognitive\", \"cognitive\", \"comparative\", \"condition\", \"condition\", \"controls\", \"controls\", \"controls\", \"cues\", \"cyberball\", \"damage\", \"de\", \"deficits\", \"deficits\", \"demand\", \"depletion\", \"depressed\", \"depressed\", \"depression\", \"depression\", \"depressive\", \"des\", \"diary\", \"dmn\", \"eating\", \"effect\", \"effect\", \"effectiveness\", \"effects\", \"effects\", \"effects\", \"emotion\", \"emotion\", \"emotion\", \"emotional\", \"emotional\", \"emotional\", \"emotions\", \"emotions\", \"emotions\", \"enhancement\", \"episodic\", \"episodic\", \"eur\", \"event\", \"event\", \"event\", \"events\", \"events\", \"events\", \"evidence\", \"evidence\", \"evidence\", \"examined\", \"examined\", \"examined\", \"excisions\", \"experiment\", \"experiment\", \"facial\", \"facial\", \"fair\", \"fairness\", \"film\", \"findings\", \"findings\", \"findings\", \"food\", \"frontal\", \"frontal\", \"gender\", \"gender\", \"generated\", \"history\", \"history\", \"history\", \"identity\", \"imagery\", \"imagery\", \"imagery\", \"images\", \"impaired\", \"impaired\", \"individuals\", \"individuals\", \"individuals\", \"inducing\", \"inducing\", \"induction\", \"induction\", \"induction\", \"intake\", \"irritability\", \"j\", \"judgment\", \"language\", \"learning\", \"learning\", \"left\", \"left\", \"lobe\", \"may\", \"may\", \"may\", \"meams\", \"measures\", \"measures\", \"measures\", \"memories\", \"memories\", \"memories\", \"memory\", \"memory\", \"memory\", \"mood\", \"mood\", \"mood\", \"moods\", \"moral\", \"mtl\", \"music\", \"music\", \"nantes\", \"negative\", \"negative\", \"negative\", \"offspring\", \"one\", \"one\", \"one\", \"outrage\", \"participants\", \"participants\", \"participants\", \"passages\", \"patients\", \"patients\", \"patients\", \"performance\", \"performance\", \"performance\", \"periods\", \"personal\", \"personal\", \"preservation\", \"problem\", \"procedure\", \"procedure\", \"procedure\", \"procedures\", \"procedures\", \"procedures\", \"processing\", \"psychol\", \"punishers\", \"punishment\", \"recall\", \"recall\", \"recall\", \"recent\", \"recent\", \"recollection\", \"recollection\", \"research\", \"research\", \"research\", \"response\", \"resting\", \"results\", \"results\", \"results\", \"retrieval\", \"retrieval\", \"retrieval\", \"rev\", \"role\", \"role\", \"rumination\", \"rumination\", \"salient\", \"schizophrenic\", \"scores\", \"self\", \"self\", \"semantic\", \"semantic\", \"sense\", \"sensecam\", \"severe\", \"shame\", \"showed\", \"showed\", \"showed\", \"significant\", \"significant\", \"significant\", \"situations\", \"soc\", \"soc\", \"solving\", \"specific\", \"specific\", \"specific\", \"specificity\", \"specificity\", \"specificity\", \"state\", \"state\", \"state\", \"story\", \"story\", \"strategies\", \"strategies\", \"strategies\", \"studies\", \"studies\", \"studies\", \"study\", \"study\", \"study\", \"support\", \"surprise\", \"survival\", \"symptoms\", \"symptoms\", \"task\", \"task\", \"task\", \"techniques\", \"techniques\", \"temporal\", \"temporal\", \"temporal\", \"test\", \"test\", \"test\", \"text\", \"ther\", \"training\", \"traumatic\", \"trial\", \"two\", \"two\", \"two\", \"unfair\", \"variables\", \"ventral\", \"vicarious\", \"visual\", \"visual\", \"whether\", \"whether\", \"whether\", \"written\"]}, \"mdsDat\": {\"y\": [0.07017687934462444, -0.08406101468537554, 0.01388413534075096], \"cluster\": [1, 1, 1], \"Freq\": [42.782743060930365, 36.953804573419745, 20.263452365649897], \"topics\": [1, 2, 3], \"x\": [-0.07918525704190488, -0.045510731285335095, 0.12469598832724002]}, \"R\": 30, \"lambda.step\": 0.01, \"tinfo\": {\"Category\": [\"Default\", \"Default\", \"Default\", \"Default\", \"Default\", \"Default\", \"Default\", \"Default\", \"Default\", \"Default\", \"Default\", \"Default\", \"Default\", \"Default\", \"Default\", \"Default\", \"Default\", \"Default\", \"Default\", \"Default\", \"Default\", \"Default\", \"Default\", \"Default\", \"Default\", \"Default\", \"Default\", \"Default\", \"Default\", \"Default\", \"Topic1\", \"Topic1\", \"Topic1\", \"Topic1\", \"Topic1\", \"Topic1\", \"Topic1\", \"Topic1\", \"Topic1\", \"Topic1\", \"Topic1\", \"Topic1\", \"Topic1\", \"Topic1\", \"Topic1\", \"Topic1\", \"Topic1\", \"Topic1\", \"Topic1\", \"Topic1\", \"Topic1\", \"Topic1\", \"Topic1\", \"Topic1\", \"Topic1\", \"Topic1\", \"Topic1\", \"Topic1\", \"Topic1\", \"Topic1\", \"Topic1\", \"Topic1\", \"Topic1\", \"Topic1\", \"Topic1\", \"Topic1\", \"Topic1\", \"Topic1\", \"Topic1\", \"Topic1\", \"Topic1\", \"Topic1\", \"Topic1\", \"Topic1\", \"Topic1\", \"Topic1\", \"Topic1\", \"Topic1\", \"Topic1\", \"Topic1\", \"Topic1\", \"Topic1\", \"Topic1\", \"Topic1\", \"Topic1\", \"Topic1\", \"Topic1\", \"Topic1\", \"Topic1\", \"Topic1\", \"Topic1\", \"Topic1\", \"Topic1\", \"Topic1\", \"Topic1\", \"Topic2\", \"Topic2\", \"Topic2\", \"Topic2\", \"Topic2\", \"Topic2\", \"Topic2\", \"Topic2\", \"Topic2\", \"Topic2\", \"Topic2\", \"Topic2\", \"Topic2\", \"Topic2\", \"Topic2\", \"Topic2\", \"Topic2\", \"Topic2\", \"Topic2\", \"Topic2\", \"Topic2\", \"Topic2\", \"Topic2\", \"Topic2\", \"Topic2\", \"Topic2\", \"Topic2\", \"Topic2\", \"Topic2\", \"Topic2\", \"Topic2\", \"Topic2\", \"Topic2\", \"Topic2\", \"Topic2\", \"Topic2\", \"Topic2\", \"Topic2\", \"Topic2\", \"Topic2\", \"Topic2\", \"Topic2\", \"Topic2\", \"Topic2\", \"Topic2\", \"Topic2\", \"Topic2\", \"Topic2\", \"Topic2\", \"Topic2\", \"Topic2\", \"Topic2\", \"Topic2\", \"Topic2\", \"Topic2\", \"Topic2\", \"Topic2\", \"Topic2\", \"Topic2\", \"Topic2\", \"Topic2\", \"Topic2\", \"Topic2\", \"Topic2\", \"Topic3\", \"Topic3\", \"Topic3\", \"Topic3\", \"Topic3\", \"Topic3\", \"Topic3\", \"Topic3\", \"Topic3\", \"Topic3\", \"Topic3\", \"Topic3\", \"Topic3\", \"Topic3\", \"Topic3\", \"Topic3\", \"Topic3\", \"Topic3\", \"Topic3\", \"Topic3\", \"Topic3\", \"Topic3\", \"Topic3\", \"Topic3\", \"Topic3\", \"Topic3\", \"Topic3\", \"Topic3\", \"Topic3\", \"Topic3\", \"Topic3\", \"Topic3\", \"Topic3\", \"Topic3\", \"Topic3\", \"Topic3\", \"Topic3\", \"Topic3\", \"Topic3\", \"Topic3\", \"Topic3\", \"Topic3\", \"Topic3\", \"Topic3\", \"Topic3\", \"Topic3\", \"Topic3\", \"Topic3\", \"Topic3\", \"Topic3\", \"Topic3\", \"Topic3\", \"Topic3\"], \"Term\": [\"mood\", \"induction\", \"j\", \"psychol\", \"semantic\", \"depression\", \"rumination\", \"episodic\", \"procedures\", \"negative\", \"retrieval\", \"study\", \"symptoms\", \"emotion\", \"de\", \"surprise\", \"soc\", \"children\", \"behavior\", \"procedure\", \"temporal\", \"moral\", \"anticipated\", \"moods\", \"effect\", \"memory\", \"music\", \"recollection\", \"two\", \"clin\", \"support\", \"lobe\", \"response\", \"amci\", \"passages\", \"irritability\", \"episodic\", \"semantic\", \"mtl\", \"ab\", \"meams\", \"sensecam\", \"excisions\", \"damage\", \"trial\", \"diary\", \"images\", \"periods\", \"comparative\", \"affected\", \"severe\", \"bilaterally\", \"preservation\", \"processing\", \"generated\", \"ba\", \"clomipramine\", \"salient\", \"written\", \"cues\", \"temporal\", \"effect\", \"impaired\", \"retrieval\", \"facial\", \"experiment\", \"learning\", \"events\", \"left\", \"deficits\", \"patients\", \"memory\", \"memories\", \"autobiographical\", \"recent\", \"visual\", \"event\", \"role\", \"recall\", \"frontal\", \"evidence\", \"personal\", \"music\", \"associated\", \"condition\", \"imagery\", \"emotional\", \"participants\", \"studies\", \"showed\", \"examined\", \"findings\", \"results\", \"study\", \"task\", \"rumination\", \"depressive\", \"shame\", \"judgment\", \"survival\", \"eating\", \"behaviour\", \"problem\", \"identity\", \"resting\", \"food\", \"dmn\", \"sense\", \"offspring\", \"vicarious\", \"solving\", \"variables\", \"depression\", \"depletion\", \"training\", \"scores\", \"brooding\", \"situations\", \"bpd\", \"language\", \"ventral\", \"cyberball\", \"enhancement\", \"intake\", \"text\", \"self\", \"anxiety\", \"strategies\", \"depressed\", \"awareness\", \"ad\", \"autobiographical\", \"recall\", \"participants\", \"history\", \"specificity\", \"memory\", \"state\", \"results\", \"individuals\", \"may\", \"significant\", \"study\", \"memories\", \"task\", \"test\", \"showed\", \"specific\", \"performance\", \"mood\", \"controls\", \"one\", \"whether\", \"emotion\", \"negative\", \"measures\", \"studies\", \"research\", \"two\", \"j\", \"psychol\", \"de\", \"surprise\", \"children\", \"moral\", \"anticipated\", \"moods\", \"clin\", \"nantes\", \"br\", \"soc\", \"26\", \"des\", \"punishment\", \"unfair\", \"fairness\", \"schizophrenic\", \"effectiveness\", \"demand\", \"1982\", \"rev\", \"eur\", \"behav\", \"ther\", \"outrage\", \"punishers\", \"fair\", \"film\", \"traumatic\", \"induction\", \"procedures\", \"behavior\", \"mood\", \"inducing\", \"techniques\", \"story\", \"symptoms\", \"procedure\", \"negative\", \"emotion\", \"study\", \"recollection\", \"two\", \"gender\", \"emotions\", \"effects\", \"autobiographical\", \"recall\", \"cognitive\", \"music\", \"research\", \"memory\"], \"loglift\": [30.0, 29.0, 28.0, 27.0, 26.0, 25.0, 24.0, 23.0, 22.0, 21.0, 20.0, 19.0, 18.0, 17.0, 16.0, 15.0, 14.0, 13.0, 12.0, 11.0, 10.0, 9.0, 8.0, 7.0, 6.0, 5.0, 4.0, 3.0, 2.0, 1.0, 0.7876, 0.7864, 0.7824, 0.7792, 0.7792, 0.7792, 0.7622, 0.7583, 0.7581, 0.7581, 0.7581, 0.7581, 0.7419, 0.7419, 0.7419, 0.7419, 0.7419, 0.7401, 0.7354, 0.7353, 0.7187, 0.7187, 0.7187, 0.7187, 0.7187, 0.7187, 0.7187, 0.7187, 0.7187, 0.7187, 0.6999, 0.7009, 0.6967, 0.6735, 0.6901, 0.641, 0.6763, 0.5687, 0.6235, 0.6558, 0.5104, 0.2888, 0.3801, 0.1838, 0.6087, 0.5243, 0.5055, 0.5319, 0.1418, 0.4985, 0.5615, 0.4346, 0.4528, 0.3037, 0.5112, 0.268, 0.302, 0.0063, 0.1325, 0.1371, 0.3235, 0.1748, -0.1185, -0.5527, -0.1308, 0.9312, 0.9301, 0.9299, 0.9227, 0.9227, 0.9227, 0.9227, 0.9227, 0.9202, 0.9132, 0.9132, 0.9132, 0.9098, 0.9008, 0.9008, 0.9008, 0.9001, 0.8866, 0.884, 0.884, 0.884, 0.884, 0.884, 0.8839, 0.883, 0.86, 0.86, 0.8599, 0.8599, 0.8599, 0.833, 0.8329, 0.7753, 0.7389, 0.7847, 0.5748, 0.1405, 0.1338, 0.3531, 0.6779, 0.6013, 0.0513, 0.6165, 0.4033, 0.4329, 0.3232, 0.5914, 0.1137, -0.0977, 0.2302, 0.6679, 0.2026, 0.2801, 0.4766, -0.3138, 0.3896, 0.4095, 0.2634, 0.0387, 0.0206, 0.4572, 0.0053, 0.1459, 0.1306, 1.5601, 1.5584, 1.523, 1.523, 1.5154, 1.5062, 1.5061, 1.5031, 1.4793, 1.4793, 1.4793, 1.4729, 1.4588, 1.4588, 1.4588, 1.4588, 1.4588, 1.4575, 1.4536, 1.4466, 1.4295, 1.4295, 1.4295, 1.4295, 1.4295, 1.4295, 1.4295, 1.4295, 1.4295, 1.429, 1.2421, 1.3094, 1.3328, 1.0447, 1.3924, 1.3292, 1.3286, 1.1022, 1.059, 0.7658, 0.7387, 0.5169, 1.1294, 0.5824, 1.1009, 0.6354, 0.4725, -1.2073, -0.8744, 0.4651, 0.4136, 0.0749, -1.6248], \"Freq\": [52.0, 28.0, 15.0, 14.0, 35.0, 25.0, 19.0, 26.0, 12.0, 27.0, 38.0, 43.0, 13.0, 27.0, 7.0, 7.0, 7.0, 6.0, 9.0, 13.0, 27.0, 6.0, 6.0, 6.0, 21.0, 127.0, 16.0, 8.0, 22.0, 4.0, 8.45551078466306, 7.6794004804786455, 7.647421024369481, 6.856605828767726, 6.856603930131667, 6.856557547103023, 24.047575958025682, 32.1997012133592, 5.211010034446897, 5.211008910655577, 5.211004728266433, 5.210985599306862, 4.388214788699441, 4.388214192850124, 4.388203533503834, 4.388198718323248, 4.388187346242982, 4.379981575943899, 4.355055103421939, 6.5123128645499255, 3.565412532598185, 3.5654119316565103, 3.565408110779953, 3.565406762258998, 3.5654051463156935, 3.5654045018744442, 3.5653979574740458, 3.5653960010850314, 3.565395078055513, 3.5653934101176934, 23.724748667750337, 18.34356622672513, 13.333197518132902, 32.167004830337596, 6.859620532536463, 11.643466480170177, 6.860162338853363, 25.639748390195983, 9.084087009570021, 6.718030543915969, 24.745885041162424, 72.8861760922143, 33.410205303466796, 89.67691302409348, 8.728593482383902, 12.364246682878596, 12.628248857548707, 11.271438221123622, 53.25861584460908, 12.618810739908316, 9.049217665627639, 12.361354107985344, 10.96112243230968, 13.325291323024532, 9.288748109896865, 13.338371645327355, 12.618681356137207, 18.004995674091088, 12.779709542451247, 12.621622068690488, 10.892046889479643, 11.390746332563213, 10.336724025320724, 10.708750973032497, 10.05696302742855, 17.886126163280764, 7.4706821929439196, 7.469000567024472, 6.671712172595694, 6.671712159439076, 6.671710753961356, 6.671681583944659, 6.671679268932014, 6.655054943616381, 5.871112643413162, 5.871100058895585, 5.871090339486832, 5.851584196524532, 5.070493753050843, 5.070471274402181, 5.070449399809744, 5.066583669584635, 22.641988336048758, 4.269882413394877, 4.269877652668001, 4.269873850592092, 4.269873419555162, 4.269864511743551, 4.269606142351545, 4.265545473155326, 3.4692807420154628, 3.469271351887242, 3.4692677642912497, 3.469267392521257, 3.4692627406529217, 7.478733257272435, 7.478305703545712, 11.484323229804799, 11.182639219073698, 5.07294240258369, 13.766146391822152, 74.17560351164781, 45.634240097773564, 21.998236537882015, 8.090782025304529, 10.051143322913001, 49.64825812967815, 9.09539033925714, 15.046154991974673, 13.224264693147218, 13.249102460983977, 8.545728526053642, 18.012762530348247, 17.895683374476018, 12.463542284379718, 7.447098871792795, 11.64004564765019, 10.086610676161923, 8.83173273349591, 14.078879928535915, 9.188697712795161, 9.075932727494568, 9.880132782013437, 10.402561034095514, 10.479437848130754, 8.726041414013489, 9.720403649756992, 9.340172087686984, 9.280072072658934, 14.676469176385512, 13.988509867261012, 7.108912482829363, 7.108891366271564, 6.420917557153335, 5.73298559893224, 5.732979214912303, 5.717939912148025, 4.35707533139996, 4.357075117338071, 4.357074973252547, 6.812842756233295, 3.6691150675758255, 3.6691148929807302, 3.669105293955887, 3.669099129878864, 3.6690990036397877, 3.6651745858361786, 3.65265504709303, 4.237248955293435, 2.981155975262821, 2.981155557865857, 2.9811555138511547, 2.9811555020162457, 2.981155278551696, 2.9811450737028795, 2.981144869744698, 2.981138986459599, 2.9811336059442826, 2.9796715589944553, 19.738031231921184, 9.116597630212059, 7.123156689104609, 30.032769508458365, 3.4658417168239777, 4.361986506608065, 4.359922052404357, 7.997517359867503, 8.170838117663079, 12.106330626229946, 11.48617542151784, 14.781652632974119, 5.0489706003112484, 7.994648846184151, 4.886124383933649, 6.678929734536341, 6.224551557382627, 10.567805506323442, 9.130660257678194, 5.454760812244252, 4.992251765758884, 4.770722741157211, 5.093468230803811], \"Total\": [52.0, 28.0, 15.0, 14.0, 35.0, 25.0, 19.0, 26.0, 12.0, 27.0, 38.0, 43.0, 13.0, 27.0, 7.0, 7.0, 7.0, 6.0, 9.0, 13.0, 27.0, 6.0, 6.0, 6.0, 21.0, 127.0, 16.0, 8.0, 22.0, 4.0, 8.990844858215752, 8.175633381312954, 8.17438686519163, 7.3528354703777, 7.352835610841715, 7.352830528070947, 26.230081434099137, 35.25681909484519, 5.707239854543484, 5.707239722546932, 5.707239261145774, 5.707237370971583, 4.884442260878384, 4.884442050045983, 4.884440816771634, 4.884440562946854, 4.884439371310288, 4.884217345100867, 4.879010993282315, 7.296916043575053, 4.061643724355802, 4.061643657038037, 4.061643245726334, 4.061643272738199, 4.061642979727717, 4.0616427615204795, 4.061641929317877, 4.061642041300259, 4.061641931095553, 4.06164140096837, 27.539243339051964, 21.27265931411941, 15.527567844348985, 38.33927560545095, 8.041294780740916, 14.335386505947222, 8.153537789294496, 33.9364166166288, 11.382407418167016, 8.14969438905597, 34.718035328201466, 127.62790245269625, 53.39857385095417, 174.42032204206475, 11.09941815092042, 17.108675407028812, 17.804887801270496, 15.477738335665562, 108.02351620006084, 17.916152127380215, 12.063670981870965, 18.70981786408655, 16.290942713309715, 22.987673455801563, 13.021388224939193, 23.847309638046813, 21.807388795311613, 41.81982382544429, 26.164710877332748, 25.720947488354362, 18.423271782963084, 22.355807045284756, 27.201685941566133, 43.503166136354864, 26.792451958543587, 19.073515207634273, 7.975735824070401, 7.975509351241163, 7.1753415579563935, 7.175341546217344, 7.175341234739178, 7.175338675407811, 7.17533895047875, 7.175790864707789, 6.37473126163067, 6.374730226213939, 6.374729574381405, 6.375267607790268, 5.574120235930086, 5.574117330567605, 5.574116432790633, 5.573769026126187, 25.248027238002635, 4.773508435427073, 4.773508192016048, 4.773507824604333, 4.7735078443493, 4.7735071897349055, 4.773476753405272, 4.773625041718008, 3.972898275164416, 3.9728973844687974, 3.97289738874706, 3.9728970809348634, 3.9728971940489144, 8.798563884789735, 8.798577531840799, 14.313103882829388, 14.45437072238642, 6.263281091667193, 20.966289393084555, 174.42032204206475, 108.02351620006084, 41.81982382544429, 11.114948694377885, 14.907669691711316, 127.62790245269625, 13.286558905771054, 27.201685941566133, 23.211261465214275, 25.950513953071347, 12.801265898759008, 43.503166136354864, 53.39857385095417, 26.792451958543587, 10.33338995199977, 25.720947488354362, 20.626239846093974, 14.838279756197297, 52.14220338505726, 16.841731348678053, 16.30705752620537, 20.544287804423945, 27.08120572546605, 27.780325542240206, 14.948914883840047, 26.164710877332748, 21.84446266682036, 22.037050841567872, 15.217635503221368, 14.529674639804199, 7.6500660126874855, 7.650069850230987, 6.962111216245616, 6.274145654071032, 6.274146801500603, 6.27698288340822, 4.898222305309265, 4.8982223245561185, 4.898222349704259, 7.708024440786895, 4.210261527643429, 4.210261561301349, 4.210263273964894, 4.2102643888231475, 4.210264413627658, 4.211033376925795, 4.212957414455179, 4.921707211981068, 3.5223005532532268, 3.522300629877999, 3.5223006361513045, 3.5223006420287932, 3.522300680059793, 3.5223025059550697, 3.5223025552481357, 3.5223035980601045, 3.5223045586214394, 3.522544235656912, 28.127568541326376, 12.146952988972714, 9.270848820443975, 52.14220338505726, 4.249870930615284, 5.698029861508942, 5.698368137518317, 13.109187926228394, 13.984425025653872, 27.780325542240206, 27.08120572546605, 43.503166136354864, 8.053804433485311, 22.037050841567872, 8.019182215034833, 17.460632191716655, 19.15060168356026, 174.42032204206475, 108.02351620006084, 16.90711173251221, 16.290942713309715, 21.84446266682036, 127.62790245269625], \"logprob\": [30.0, 29.0, 28.0, 27.0, 26.0, 25.0, 24.0, 23.0, 22.0, 21.0, 20.0, 19.0, 18.0, 17.0, 16.0, 15.0, 14.0, 13.0, 12.0, 11.0, 10.0, 9.0, 8.0, 7.0, 6.0, 5.0, 4.0, 3.0, 2.0, 1.0, -6.0299, -6.1261, -6.1303, -6.2395, -6.2395, -6.2395, -4.9846, -4.6927, -6.5139, -6.5139, -6.5139, -6.5139, -6.6858, -6.6858, -6.6858, -6.6858, -6.6858, -6.6876, -6.6933, -6.291, -6.8934, -6.8934, -6.8934, -6.8934, -6.8934, -6.8934, -6.8934, -6.8934, -6.8934, -6.8934, -4.9982, -5.2554, -5.5744, -4.6937, -6.239, -5.7099, -6.239, -4.9205, -5.9582, -6.2599, -4.956, -3.8758, -4.6558, -3.6685, -5.9981, -5.6499, -5.6287, -5.7424, -4.1895, -5.6295, -5.962, -5.6501, -5.7703, -5.575, -5.9359, -5.574, -5.6295, -5.274, -5.6168, -5.6293, -5.7766, -5.7319, -5.829, -5.7936, -5.8564, -5.1342, -6.0072, -6.0075, -6.1203, -6.1203, -6.1203, -6.1203, -6.1203, -6.1228, -6.2482, -6.2482, -6.2482, -6.2515, -6.3948, -6.3948, -6.3948, -6.3955, -4.8984, -6.5666, -6.5666, -6.5666, -6.5666, -6.5666, -6.5667, -6.5676, -6.7743, -6.7743, -6.7743, -6.7743, -6.7743, -6.0062, -6.0062, -5.5772, -5.6039, -6.3943, -5.396, -3.7118, -4.1976, -4.9273, -5.9275, -5.7105, -4.1133, -5.8104, -5.3071, -5.4362, -5.4343, -5.8728, -5.1271, -5.1337, -5.4954, -6.0104, -5.5638, -5.707, -5.8399, -5.3735, -5.8002, -5.8126, -5.7277, -5.6762, -5.6688, -5.8519, -5.744, -5.7839, -5.7903, -4.7311, -4.7791, -5.456, -5.456, -5.5578, -5.6711, -5.6711, -5.6738, -5.9456, -5.9456, -5.9456, -5.4986, -6.1174, -6.1174, -6.1174, -6.1174, -6.1174, -6.1185, -6.1219, -5.9735, -6.3251, -6.3251, -6.3251, -6.3251, -6.3251, -6.3251, -6.3251, -6.3251, -6.3251, -6.3256, -4.4348, -5.2073, -5.454, -4.0151, -6.1744, -5.9444, -5.9449, -5.3382, -5.3168, -4.9236, -4.9762, -4.724, -5.7982, -5.3386, -5.831, -5.5184, -5.5889, -5.0596, -5.2057, -5.7209, -5.8095, -5.8549, -5.7894]}};\n",
       "\n",
       "function LDAvis_load_lib(url, callback){\n",
       "  var s = document.createElement('script');\n",
       "  s.src = url;\n",
       "  s.async = true;\n",
       "  s.onreadystatechange = s.onload = callback;\n",
       "  s.onerror = function(){console.warn(\"failed to load library \" + url);};\n",
       "  document.getElementsByTagName(\"head\")[0].appendChild(s);\n",
       "}\n",
       "\n",
       "if(typeof(LDAvis) !== \"undefined\"){\n",
       "   // already loaded: just create the visualization\n",
       "   !function(LDAvis){\n",
       "       new LDAvis(\"#\" + \"ldavis_el2006847449659684105342954\", ldavis_el2006847449659684105342954_data);\n",
       "   }(LDAvis);\n",
       "}else if(typeof define === \"function\" && define.amd){\n",
       "   // require.js is available: use it to load d3/LDAvis\n",
       "   require.config({paths: {d3: \"https://cdnjs.cloudflare.com/ajax/libs/d3/3.5.5/d3.min\"}});\n",
       "   require([\"d3\"], function(d3){\n",
       "      window.d3 = d3;\n",
       "      LDAvis_load_lib(\"https://cdn.rawgit.com/bmabey/pyLDAvis/files/ldavis.v1.0.0.js\", function(){\n",
       "        new LDAvis(\"#\" + \"ldavis_el2006847449659684105342954\", ldavis_el2006847449659684105342954_data);\n",
       "      });\n",
       "    });\n",
       "}else{\n",
       "    // require.js not available: dynamically load d3 & LDAvis\n",
       "    LDAvis_load_lib(\"https://cdnjs.cloudflare.com/ajax/libs/d3/3.5.5/d3.min.js\", function(){\n",
       "         LDAvis_load_lib(\"https://cdn.rawgit.com/bmabey/pyLDAvis/files/ldavis.v1.0.0.js\", function(){\n",
       "                 new LDAvis(\"#\" + \"ldavis_el2006847449659684105342954\", ldavis_el2006847449659684105342954_data);\n",
       "            })\n",
       "         });\n",
       "}\n",
       "</script>"
      ],
      "text/plain": [
       "PreparedData(topic_coordinates=            Freq  cluster  topics         x         y\n",
       "topic                                                \n",
       "0      42.782743        1       1 -0.079185  0.070177\n",
       "2      36.953805        1       2 -0.045511 -0.084061\n",
       "1      20.263452        1       3  0.124696  0.013884, topic_info=     Category        Freq              Term       Total  loglift  logprob\n",
       "term                                                                     \n",
       "1050  Default   52.000000              mood   52.000000  30.0000  30.0000\n",
       "1911  Default   28.000000         induction   28.000000  29.0000  29.0000\n",
       "2230  Default   15.000000                 j   15.000000  28.0000  28.0000\n",
       "1789  Default   14.000000           psychol   14.000000  27.0000  27.0000\n",
       "1140  Default   35.000000          semantic   35.000000  26.0000  26.0000\n",
       "1755  Default   25.000000        depression   25.000000  25.0000  25.0000\n",
       "839   Default   19.000000        rumination   19.000000  24.0000  24.0000\n",
       "430   Default   26.000000          episodic   26.000000  23.0000  23.0000\n",
       "2018  Default   12.000000        procedures   12.000000  22.0000  22.0000\n",
       "81    Default   27.000000          negative   27.000000  21.0000  21.0000\n",
       "1276  Default   38.000000         retrieval   38.000000  20.0000  20.0000\n",
       "60    Default   43.000000             study   43.000000  19.0000  19.0000\n",
       "1291  Default   13.000000          symptoms   13.000000  18.0000  18.0000\n",
       "788   Default   27.000000           emotion   27.000000  17.0000  17.0000\n",
       "299   Default    7.000000                de    7.000000  16.0000  16.0000\n",
       "198   Default    7.000000          surprise    7.000000  15.0000  15.0000\n",
       "513   Default    7.000000               soc    7.000000  14.0000  14.0000\n",
       "1149  Default    6.000000          children    6.000000  13.0000  13.0000\n",
       "246   Default    9.000000          behavior    9.000000  12.0000  12.0000\n",
       "396   Default   13.000000         procedure   13.000000  11.0000  11.0000\n",
       "1867  Default   27.000000          temporal   27.000000  10.0000  10.0000\n",
       "76    Default    6.000000             moral    6.000000   9.0000   9.0000\n",
       "1301  Default    6.000000       anticipated    6.000000   8.0000   8.0000\n",
       "1842  Default    6.000000             moods    6.000000   7.0000   7.0000\n",
       "2116  Default   21.000000            effect   21.000000   6.0000   6.0000\n",
       "664   Default  127.000000            memory  127.000000   5.0000   5.0000\n",
       "82    Default   16.000000             music   16.000000   4.0000   4.0000\n",
       "2139  Default    8.000000      recollection    8.000000   3.0000   3.0000\n",
       "1220  Default   22.000000               two   22.000000   2.0000   2.0000\n",
       "1962  Default    4.000000              clin    4.000000   1.0000   1.0000\n",
       "...       ...         ...               ...         ...      ...      ...\n",
       "643    Topic3    2.981156             behav    3.522301   1.4295  -6.3251\n",
       "172    Topic3    2.981155              ther    3.522301   1.4295  -6.3251\n",
       "880    Topic3    2.981145           outrage    3.522303   1.4295  -6.3251\n",
       "399    Topic3    2.981145         punishers    3.522303   1.4295  -6.3251\n",
       "316    Topic3    2.981139              fair    3.522304   1.4295  -6.3251\n",
       "1119   Topic3    2.981134              film    3.522305   1.4295  -6.3251\n",
       "2255   Topic3    2.979672         traumatic    3.522544   1.4290  -6.3256\n",
       "1911   Topic3   19.738031         induction   28.127569   1.2421  -4.4348\n",
       "2018   Topic3    9.116598        procedures   12.146953   1.3094  -5.2073\n",
       "246    Topic3    7.123157          behavior    9.270849   1.3328  -5.4540\n",
       "1050   Topic3   30.032770              mood   52.142203   1.0447  -4.0151\n",
       "652    Topic3    3.465842          inducing    4.249871   1.3924  -6.1744\n",
       "327    Topic3    4.361987        techniques    5.698030   1.3292  -5.9444\n",
       "1336   Topic3    4.359922             story    5.698368   1.3286  -5.9449\n",
       "1291   Topic3    7.997517          symptoms   13.109188   1.1022  -5.3382\n",
       "396    Topic3    8.170838         procedure   13.984425   1.0590  -5.3168\n",
       "81     Topic3   12.106331          negative   27.780326   0.7658  -4.9236\n",
       "788    Topic3   11.486175           emotion   27.081206   0.7387  -4.9762\n",
       "60     Topic3   14.781653             study   43.503166   0.5169  -4.7240\n",
       "2139   Topic3    5.048971      recollection    8.053804   1.1294  -5.7982\n",
       "1220   Topic3    7.994649               two   22.037051   0.5824  -5.3386\n",
       "1742   Topic3    4.886124            gender    8.019182   1.1009  -5.8310\n",
       "1182   Topic3    6.678930          emotions   17.460632   0.6354  -5.5184\n",
       "168    Topic3    6.224552           effects   19.150602   0.4725  -5.5889\n",
       "1316   Topic3   10.567806  autobiographical  174.420322  -1.2073  -5.0596\n",
       "610    Topic3    9.130660            recall  108.023516  -0.8744  -5.2057\n",
       "1605   Topic3    5.454761         cognitive   16.907112   0.4651  -5.7209\n",
       "82     Topic3    4.992252             music   16.290943   0.4136  -5.8095\n",
       "1326   Topic3    4.770723          research   21.844463   0.0749  -5.8549\n",
       "664    Topic3    5.093468            memory  127.627902  -1.6248  -5.7894\n",
       "\n",
       "[212 rows x 6 columns], token_table=      Topic      Freq              Term\n",
       "term                                   \n",
       "2211      3  0.851716              1982\n",
       "1284      3  0.950060                26\n",
       "1108      1  0.876080                ab\n",
       "1109      1  0.333869                ad\n",
       "1109      2  0.667739                ad\n",
       "161       1  0.959309          affected\n",
       "161       3  0.137044          affected\n",
       "1103      1  0.952014              amci\n",
       "1301      3  0.956305       anticipated\n",
       "235       1  0.113655           anxiety\n",
       "235       2  0.795583           anxiety\n",
       "1678      1  0.565520        associated\n",
       "1678      2  0.261009        associated\n",
       "1678      3  0.174006        associated\n",
       "1316      1  0.515995  autobiographical\n",
       "1316      2  0.424262  autobiographical\n",
       "1316      3  0.063066  autobiographical\n",
       "881       2  0.798304         awareness\n",
       "881       3  0.159661         awareness\n",
       "1634      1  0.984823                ba\n",
       "643       3  0.851716             behav\n",
       "246       1  0.107865          behavior\n",
       "246       2  0.107865          behavior\n",
       "246       3  0.755055          behavior\n",
       "1190      2  0.975564         behaviour\n",
       "117       1  0.984823       bilaterally\n",
       "475       2  0.837964               bpd\n",
       "1641      3  0.816623                br\n",
       "1557      2  0.837958          brooding\n",
       "1149      3  0.861808          children\n",
       "...     ...       ...               ...\n",
       "1291      3  0.610259          symptoms\n",
       "1565      1  0.373239              task\n",
       "1565      2  0.447887              task\n",
       "1565      3  0.149296              task\n",
       "327       2  0.175499        techniques\n",
       "327       3  0.701997        techniques\n",
       "1867      1  0.871484          temporal\n",
       "1867      2  0.072624          temporal\n",
       "1867      3  0.072624          temporal\n",
       "561       1  0.193547              test\n",
       "561       2  0.677416              test\n",
       "561       3  0.096774              test\n",
       "1996      2  0.755116              text\n",
       "172       3  0.851716              ther\n",
       "781       2  0.837958          training\n",
       "2255      3  0.851657         traumatic\n",
       "641       1  0.818927             trial\n",
       "1220      1  0.226891               two\n",
       "1220      2  0.408403               two\n",
       "1220      3  0.363025               two\n",
       "446       3  0.950059            unfair\n",
       "791       2  0.897059         variables\n",
       "11        2  0.755116           ventral\n",
       "605       2  0.897003         vicarious\n",
       "669       1  0.701399            visual\n",
       "669       2  0.292249            visual\n",
       "2229      1  0.389403           whether\n",
       "2229      2  0.486753           whether\n",
       "2229      3  0.146026           whether\n",
       "2043      1  0.984823           written\n",
       "\n",
       "[287 rows x 3 columns], R=30, lambda_step=0.01, plot_opts={'xlab': 'PC1', 'ylab': 'PC2'}, topic_order=[1, 3, 2])"
      ]
     },
     "execution_count": 36,
     "metadata": {},
     "output_type": "execute_result"
    }
   ],
   "source": [
    "data"
   ]
  },
  {
   "cell_type": "code",
   "execution_count": null,
   "metadata": {
    "collapsed": true
   },
   "outputs": [],
   "source": []
  }
 ],
 "metadata": {
  "kernelspec": {
   "display_name": "Python 2",
   "language": "python",
   "name": "python2"
  },
  "language_info": {
   "codemirror_mode": {
    "name": "ipython",
    "version": 2
   },
   "file_extension": ".py",
   "mimetype": "text/x-python",
   "name": "python",
   "nbconvert_exporter": "python",
   "pygments_lexer": "ipython2",
   "version": "2.7.13"
  }
 },
 "nbformat": 4,
 "nbformat_minor": 2
}
