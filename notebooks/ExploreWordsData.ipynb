{
 "cells": [
  {
   "cell_type": "code",
   "execution_count": 1,
   "metadata": {
    "collapsed": true
   },
   "outputs": [],
   "source": [
    "# Add erpsc to path\n",
    "import os\n",
    "import sys"
   ]
  },
  {
   "cell_type": "code",
   "execution_count": 2,
   "metadata": {
    "collapsed": true
   },
   "outputs": [],
   "source": [
    "import nltk\n",
    "import itertools "
   ]
  },
  {
   "cell_type": "code",
   "execution_count": 3,
   "metadata": {
    "collapsed": true
   },
   "outputs": [],
   "source": [
    "my_path = '/Users/vassiki/Desktop/nhw17/DataDrivenCognitiveOntology/'\n",
    "#sys.path.append(os.getcwd)\n",
    "sys.path.append(my_path)\n",
    "# ^ Update the above with a link to the folder that has 'erpsc' in it, if not currently in path"
   ]
  },
  {
   "cell_type": "code",
   "execution_count": 4,
   "metadata": {
    "collapsed": false
   },
   "outputs": [],
   "source": [
    "# Import erpsc\n",
    "from lisc.base import Base\n",
    "from lisc.core.db import SCDB\n",
    "from lisc.data import Data\n",
    "from lisc.data_all import DataAll"
   ]
  },
  {
   "cell_type": "code",
   "execution_count": 5,
   "metadata": {
    "collapsed": true
   },
   "outputs": [],
   "source": [
    "# Add data to path\n",
    "db = SCDB(False)\n",
    "#fake_path = '/Users/vassiki/Desktop/nhw17/ERPSC_NLP/notebooks'\n",
    "db.project_path = os.path.join(os.getcwd(), 'dat')\n",
    "#db.project_path = fake_path\n",
    "db.gen_paths()"
   ]
  },
  {
   "cell_type": "code",
   "execution_count": 6,
   "metadata": {
    "collapsed": false
   },
   "outputs": [],
   "source": [
    "# Load raw data from a particular ERP\n",
    "dat = Data('p300')\n",
    "dat.load(db)"
   ]
  },
  {
   "cell_type": "code",
   "execution_count": 7,
   "metadata": {
    "collapsed": false
   },
   "outputs": [],
   "source": [
    "def get_corpus(ds):\n",
    "    \"\"\"\n",
    "    To flatten all abstract words into a long list \n",
    "    \n",
    "    TO DO: Generalize to making a corpus of authors, or any metric the author wants\n",
    "    \n",
    "    Attributes\n",
    "    ----------\n",
    "    ds : Data structure returned by ERFSC when a query is submitted\n",
    "    \"\"\"\n",
    "    aPreCorpus = []\n",
    "    \n",
    "    numArticles = ds.n_articles\n",
    "    print('Iterating over %d articles for extracting words') %(ds.n_articles)\n",
    "    for AIdx in xrange(numArticles):\n",
    "        if ds.words[AIdx] != None:\n",
    "            aPreCorpus.append(ds.words[AIdx])\n",
    "        \n",
    "    \n",
    "    PreText = list(itertools.chain.from_iterable(aPreCorpus))\n",
    "    \n",
    "    Corpus = nltk.Text(PreText)\n",
    "    \n",
    "    return Corpus\n",
    "        "
   ]
  },
  {
   "cell_type": "code",
   "execution_count": 8,
   "metadata": {
    "collapsed": false
   },
   "outputs": [],
   "source": [
    "def get_common_words(Corpus,NumWords):\n",
    "    \"\"\"\n",
    "    Return the most common words in the concatenated article text corpus\n",
    "    \n",
    "    Attributes\n",
    "    ----------\n",
    "    Corpus: generated from keyword arguments from cognitive atlas\n",
    "    NumWords: Top N words to return\n",
    "    \"\"\"\n",
    "    \n",
    "    assert(NumWords <= len(Corpus))\n",
    "    \n",
    "    fdist = nltk.FreqDist(Corpus)\n",
    "    common_words = fdist.most_common(NumWords)\n",
    "    header = [('Term', 'Frequency'),('-'*len('Term'),'-'*len('Frequency'))]\n",
    "    wordList = header + common_words\n",
    "    \n",
    "    width = max(len(e) for t in wordList for e in t[:-1]) + 1 \n",
    "    format=('%%-%ds' % width) * len(wordList[0])\n",
    "    print '\\n'.join(format % tuple(t) for t in wordList)\n",
    "    print('\\n Total Word Count : %d') %(len(Corpus))\n",
    "    "
   ]
  },
  {
   "cell_type": "code",
   "execution_count": 9,
   "metadata": {
    "collapsed": true
   },
   "outputs": [],
   "source": [
    "def get_similarity(Corpus,ds,keyword='cognition'):\n",
    "    \"\"\"\n",
    "    Returns the most similar words, determined by neighborhood in corpus\n",
    "    \n",
    "    Attributes\n",
    "    ----------\n",
    "    \n",
    "    Corpus : concatenated list of abstracts\n",
    "    ds : ouptut of lisc\n",
    "    keyword : query\n",
    "    \n",
    "    NOTE: There is a bug in text.similarity in NLTK2.0, we want to use this function to return similar \n",
    "    words in a ranked fashion \n",
    "    \"\"\"\n",
    "    #similar_words = Corpus.similar(keyword)\n",
    "    #return similar_words\n",
    "    #similar_words = Corpus._word_contex_index.similar_words(keyword)\n",
    "    #if similar_words != None:\n",
    "     #   print '\\n'.join(word for word in similar_words)\n",
    "    #else: \n",
    "     #   print 'No matches.'\n",
    "        \n",
    "    idx = nltk.text.ContextIndex([word.lower() for word in Corpus])\n",
    "    simWords = []\n",
    "    for word in nltk.word_tokenize(keyword):\n",
    "        simWords.append(idx.similar_words(word))\n",
    "        if word != None:\n",
    "            print '\\n'.join(idx.similar_words(word))\n",
    "    return list(itertools.chain.from_iterable(simWords))"
   ]
  },
  {
   "cell_type": "code",
   "execution_count": 16,
   "metadata": {
    "collapsed": true
   },
   "outputs": [],
   "source": [
    "# just a toy example for now \n",
    "CA_words = ['abstract reasoning','attention','arousal']\n",
    "def CA_word_presence(Corpus,CA_terms):\n",
    "    \"\"\"\n",
    "    Returns the words from CA that are present in the CA\n",
    "    \n",
    "    TO DO: Generalize to entering tasks \n",
    "    \n",
    "    Attributes\n",
    "    ----------\n",
    "    \n",
    "    Corpus : concatenated list of abstracts\n",
    "    \"\"\"    \n",
    "    mask = []\n",
    "    for ca_idx in xrange(len(CA_terms)):\n",
    "        if CA_terms[ca_idx] in Corpus:\n",
    "            mask.append(True)\n",
    "        else:\n",
    "            mask.append(False)\n",
    "            \n",
    "    PresentTerms = list(compress(CA_words, mask))\n",
    "    print '\\n'.join(word for word in PresentTerms)\n",
    "    \n",
    "    return PresentTerms\n",
    "    "
   ]
  },
  {
   "cell_type": "markdown",
   "metadata": {},
   "source": [
    "### Scratchpad"
   ]
  },
  {
   "cell_type": "code",
   "execution_count": null,
   "metadata": {
    "collapsed": true
   },
   "outputs": [],
   "source": [
    "\"\"\"\n",
    "TO DO:\n",
    "\n",
    "1. Test functions with lisc instead of erpsc\n",
    "2. Find out the CA terms can be checked within the corpus\n",
    "3. Submit a pull request to add a version of this notebook to NHW repo\n",
    "\"\"\""
   ]
  },
  {
   "cell_type": "code",
   "execution_count": 10,
   "metadata": {
    "collapsed": false
   },
   "outputs": [
    {
     "name": "stdout",
     "output_type": "stream",
     "text": [
      "Iterating over 4992 articles for extracting words\n"
     ]
    }
   ],
   "source": [
    "Corpus = get_corpus(dat)"
   ]
  },
  {
   "cell_type": "code",
   "execution_count": 11,
   "metadata": {
    "collapsed": false
   },
   "outputs": [
    {
     "name": "stdout",
     "output_type": "stream",
     "text": [
      "Term       Frequency  \n",
      "----       ---------  \n",
      "p300       9910       \n",
      "patients   3650       \n",
      "amplitude  3050       \n",
      "stimuli    2503       \n",
      "subjects   2444       \n",
      "latency    2436       \n",
      "study      2431       \n",
      "potentials 2408       \n",
      "auditory   2286       \n",
      "task       2268       \n",
      "\n",
      " Total Word Count : 442877\n"
     ]
    }
   ],
   "source": [
    "get_common_words(Corpus,10)"
   ]
  },
  {
   "cell_type": "code",
   "execution_count": 19,
   "metadata": {
    "collapsed": false
   },
   "outputs": [
    {
     "name": "stdout",
     "output_type": "stream",
     "text": [
      "cognitive\n",
      "working\n",
      "plus\n",
      "integration\n",
      "structure\n",
      "effects\n",
      "potentials\n",
      "age\n",
      "stimuli\n",
      "abilities\n",
      "followed\n",
      "findings\n",
      "p3b\n",
      "executive\n",
      "brain\n",
      "signs\n",
      "morphology\n",
      "curcumin\n",
      "children\n",
      "prodromal\n"
     ]
    }
   ],
   "source": [
    "sim = get_similarity(Corpus,dat)"
   ]
  },
  {
   "cell_type": "code",
   "execution_count": null,
   "metadata": {
    "collapsed": false
   },
   "outputs": [],
   "source": [
    "type(Corpus)"
   ]
  },
  {
   "cell_type": "code",
   "execution_count": 20,
   "metadata": {
    "collapsed": false
   },
   "outputs": [
    {
     "ename": "SyntaxError",
     "evalue": "invalid syntax (<ipython-input-20-e5f0dd8527dc>, line 1)",
     "output_type": "error",
     "traceback": [
      "\u001b[0;36m  File \u001b[0;32m\"<ipython-input-20-e5f0dd8527dc>\"\u001b[0;36m, line \u001b[0;32m1\u001b[0m\n\u001b[0;31m    def test_neighbors(Corpus,keyword)\u001b[0m\n\u001b[0m                                      ^\u001b[0m\n\u001b[0;31mSyntaxError\u001b[0m\u001b[0;31m:\u001b[0m invalid syntax\n"
     ]
    }
   ],
   "source": [
    "def test_neighbors(Corpus,keyword)\n",
    "    \n",
    "    plain_list = list(Corpus)\n",
    "    max_instances = 10\n",
    "\n",
    "    indices = [i for i, x in enumerate(plain_list) if x == \"p300\"]\n",
    "\n",
    "    check_first = indices[:max_instances]\n",
    "\n",
    "    for i in range(max_instances):\n",
    "        print('Occurence %d of p300 preceded by %s and followed by %s.') \\\n",
    "        %(check_first[i],plain_list[i-1],plain_list[i+1])"
   ]
  },
  {
   "cell_type": "markdown",
   "metadata": {},
   "source": [
    "### Visualization with Gensim"
   ]
  },
  {
   "cell_type": "code",
   "execution_count": 32,
   "metadata": {
    "collapsed": false
   },
   "outputs": [],
   "source": [
    "import gensim\n",
    "from gensim import corpora\n",
    "import pandas as pd\n",
    "from gensim.models import LdaModel\n",
    "import pyLDAvis.gensim"
   ]
  },
  {
   "cell_type": "code",
   "execution_count": 13,
   "metadata": {
    "collapsed": false
   },
   "outputs": [],
   "source": [
    "textList = []\n",
    "    \n",
    "numArticles = dat.n_articles\n",
    "for AIdx in xrange(numArticles):\n",
    "    if dat.words[AIdx] != None:\n",
    "        textList.append(dat.words[AIdx])\n",
    "        "
   ]
  },
  {
   "cell_type": "code",
   "execution_count": 14,
   "metadata": {
    "collapsed": false
   },
   "outputs": [],
   "source": [
    "dictionary = corpora.Dictionary(textList)\n",
    "dictionary.save('dictionary.dict')"
   ]
  },
  {
   "cell_type": "code",
   "execution_count": 15,
   "metadata": {
    "collapsed": false
   },
   "outputs": [],
   "source": [
    "doc_term_matrix = [dictionary.doc2bow(doc) for doc in textList]\n",
    "corpora.MmCorpus.serialize('corpus.mm', doc_term_matrix)"
   ]
  },
  {
   "cell_type": "code",
   "execution_count": 16,
   "metadata": {
    "collapsed": false
   },
   "outputs": [],
   "source": [
    "Lda = gensim.models.ldamodel.LdaModel\n",
    "\n",
    "ldamodel = Lda(doc_term_matrix, num_topics=3, id2word = dictionary, passes=50)\n",
    "\n",
    "ldamodel.save('topic.model')"
   ]
  },
  {
   "cell_type": "code",
   "execution_count": 17,
   "metadata": {
    "collapsed": false
   },
   "outputs": [
    {
     "name": "stdout",
     "output_type": "stream",
     "text": [
      "[(0, u'0.012*\"p300\" + 0.008*\"bci\" + 0.005*\"eeg\" + 0.005*\"system\"'), (1, u'0.030*\"p300\" + 0.022*\"patients\" + 0.012*\"latency\" + 0.010*\"cognitive\"')]\n"
     ]
    }
   ],
   "source": [
    "loading = LdaModel.load('topic.model')\n",
    "print(loading.print_topics(num_topics=2, num_words=4))"
   ]
  },
  {
   "cell_type": "code",
   "execution_count": 27,
   "metadata": {
    "collapsed": false
   },
   "outputs": [
    {
     "data": {
      "text/plain": [
       "0    0.012*\"p300\" + 0.008*\"bci\" + 0.005*\"eeg\" + 0.0...\n",
       "1    0.030*\"p300\" + 0.022*\"patients\" + 0.012*\"laten...\n",
       "2    0.020*\"p300\" + 0.012*\"stimuli\" + 0.010*\"task\" ...\n",
       "Name: topic, dtype: object"
      ]
     },
     "execution_count": 27,
     "metadata": {},
     "output_type": "execute_result"
    }
   ],
   "source": [
    "new['topic']"
   ]
  },
  {
   "cell_type": "code",
   "execution_count": 28,
   "metadata": {
    "collapsed": false
   },
   "outputs": [],
   "source": [
    "pyLDAvis.enable_notebook()\n",
    "import gensim"
   ]
  },
  {
   "cell_type": "code",
   "execution_count": 29,
   "metadata": {
    "collapsed": true
   },
   "outputs": [],
   "source": [
    "d = gensim.corpora.Dictionary.load('dictionary.dict')\n",
    "c = gensim.corpora.MmCorpus('corpus.mm')\n",
    "lda = gensim.models.LdaModel.load('topic.model')"
   ]
  },
  {
   "cell_type": "code",
   "execution_count": 33,
   "metadata": {
    "collapsed": false
   },
   "outputs": [],
   "source": [
    "data = pyLDAvis.gensim.prepare(lda, c, d)"
   ]
  },
  {
   "cell_type": "code",
   "execution_count": 34,
   "metadata": {
    "collapsed": false
   },
   "outputs": [
    {
     "data": {
      "text/html": [
       "\n",
       "<link rel=\"stylesheet\" type=\"text/css\" href=\"https://cdn.rawgit.com/bmabey/pyLDAvis/files/ldavis.v1.0.0.css\">\n",
       "\n",
       "\n",
       "<div id=\"ldavis_el1911648463583524387668685\"></div>\n",
       "<script type=\"text/javascript\">\n",
       "\n",
       "var ldavis_el1911648463583524387668685_data = {\"plot.opts\": {\"xlab\": \"PC1\", \"ylab\": \"PC2\"}, \"topic.order\": [3, 2, 1], \"token.table\": {\"Topic\": [2, 2, 1, 3, 3, 1, 2, 3, 1, 2, 3, 2, 3, 2, 2, 2, 2, 2, 3, 1, 2, 3, 2, 1, 2, 1, 2, 1, 2, 3, 3, 1, 3, 1, 2, 3, 1, 2, 1, 2, 1, 2, 3, 3, 3, 3, 1, 2, 3, 1, 3, 3, 3, 3, 1, 2, 3, 2, 3, 1, 2, 3, 3, 2, 3, 1, 2, 3, 3, 1, 2, 3, 1, 2, 3, 1, 2, 3, 1, 2, 1, 2, 3, 1, 2, 3, 1, 2, 1, 2, 3, 2, 2, 2, 1, 1, 2, 3, 2, 3, 2, 2, 3, 3, 2, 3, 1, 2, 3, 1, 2, 3, 1, 2, 1, 2, 2, 1, 2, 3, 1, 2, 1, 2, 3, 1, 3, 1, 3, 1, 1, 1, 3, 1, 1, 2, 3, 3, 1, 2, 3, 1, 2, 3, 1, 2, 3, 3, 2, 3, 1, 2, 3, 2, 3, 1, 2, 3, 1, 3, 3, 1, 1, 2, 1, 2, 3, 1, 2, 1, 2, 1, 3, 1, 2, 3, 1, 2, 3, 1, 2, 3, 2, 3, 2, 2, 1, 1, 2, 2, 1, 2, 3, 1, 1, 2, 3, 3, 1, 2, 1, 2, 3, 1, 2, 3, 3, 1, 2, 3, 2, 1, 2, 3, 1, 3, 2, 3, 2, 3, 3, 2, 1, 1, 2, 3, 3, 1, 2, 1, 2, 3, 1, 1, 2, 3, 1, 2, 3, 1, 2, 3, 1, 1, 1, 1, 2, 2, 1, 2, 1, 2, 3, 3, 2, 1, 1, 2, 3, 1, 2, 3, 1, 2, 3, 1, 2, 3, 1, 1, 2, 1, 1, 1, 2, 2, 2, 1, 2, 1, 2, 3, 1, 2, 3, 3, 1, 2, 3, 1, 2, 3, 3, 3, 1, 1, 2, 1, 2, 1, 2, 3, 1, 2, 3, 2, 1, 2, 3, 1, 2, 3, 1, 3, 1, 2, 1, 2, 3, 1, 2, 3, 1, 2, 3, 2, 3, 1, 3, 1, 2, 3, 1, 2, 3, 1, 2, 3, 3, 3, 1, 2, 3, 1, 2, 3, 1, 1, 3, 1, 2, 3, 2, 3], \"Freq\": [0.9979647611361009, 0.9961163300514779, 0.34945477804831054, 0.6493247565086852, 0.9967342198995254, 0.9337871935452807, 0.050474983434880036, 0.015773432323400012, 0.49861887836583896, 0.1641361076471178, 0.33714443732921495, 0.9820673173643123, 0.016187922813697457, 0.9917302320767637, 0.9985758408628008, 0.995853009797975, 0.9973997958642781, 0.9965931632283969, 0.9954499983280566, 0.44326134458787375, 0.3468232476615699, 0.20968650432600017, 0.9976751333933516, 0.5616274852579304, 0.43795469054733055, 0.5230720228879288, 0.47683862051828513, 0.42718195757025323, 0.2701122684357869, 0.30224015939510956, 0.9966184774636122, 0.16175636484152192, 0.8357412183478632, 0.7068303200773773, 0.27736379648605947, 0.01590616754041918, 0.8969015004383409, 0.10300549444810078, 0.4312647389559551, 0.5682811403950866, 0.23773035621341776, 0.14883987519448766, 0.6118972646884492, 0.9991466605682786, 0.9924385064685963, 0.9960860981227793, 0.47548407744908894, 0.3725271060806017, 0.1516677965320726, 0.9980355411393658, 0.005670656483746397, 0.9920543803911179, 0.9991246864388633, 0.9973353260436154, 0.1042548633211348, 0.895153826446985, 0.9870605017893558, 0.9873802203683545, 0.00873787805635712, 0.0961337755332758, 0.038453510213310324, 0.8652039797994823, 0.9938207811439534, 0.9230856647633321, 0.07509228622082662, 0.23440367087784053, 0.7632224557247849, 0.0025645915850967234, 0.9964007952392828, 0.3673777317964439, 0.5573735115452486, 0.0748946019756699, 0.7383243758802929, 0.2433428654586733, 0.018665503884614146, 0.7995394940114493, 0.19212594125968283, 0.008128405207140428, 0.9765672898955837, 0.022910669557667653, 0.8872675085431725, 0.07428286118035862, 0.038517039130556326, 0.25142041730240944, 0.48113547483770447, 0.26769943712774535, 0.004399492462550604, 0.9951651950289466, 0.43980919811142427, 0.22036755610635572, 0.3398104751724057, 0.9957216865773099, 0.999369503431735, 0.9980822569349717, 0.9944952628171988, 0.6179043691713783, 0.25504988855159016, 0.12708671422673737, 0.9315516393454945, 0.06893088240400065, 0.9977069936948808, 0.9096547714873271, 0.09096547714873271, 0.9956553873353505, 0.9835815466539622, 0.015993195880552234, 0.30862129670808747, 0.33752797463666867, 0.35368170642028757, 0.5253517513955258, 0.3678976241761175, 0.1067357304708489, 0.8833778315866945, 0.11630270267931332, 0.9959375171943816, 0.0033646537743053434, 0.9895214141427097, 0.6824677184244307, 0.3118664364468076, 0.005717551334858139, 0.6672433980394451, 0.33261782229248166, 0.4192542199272699, 0.5190383336911499, 0.06196271580498999, 0.9742629513767124, 0.02456125087504317, 0.03316021581711284, 0.9649622802779837, 0.9950136911536853, 0.9960556933352382, 0.9967895923812365, 0.002708667370601186, 0.9984420700266646, 0.19628914879952059, 0.6480230802833488, 0.15595576205989306, 0.9946160082097676, 0.18425848911935433, 0.8029941938275363, 0.012905263829371119, 0.23300561921701762, 0.7659576985310801, 0.9912583685730518, 0.25376054700327216, 0.6513187373083985, 0.09546230101551666, 0.9970894345572675, 0.9895804219430087, 0.005654745268245763, 0.9841667681473871, 0.01352806554154484, 0.00338201638538621, 0.9644845576304522, 0.03645817915441572, 0.7736018911990976, 0.15233087432877984, 0.07367637059039024, 0.9963343418618394, 0.9976395053257108, 0.9893456411030048, 0.9949107206263017, 0.9271116894255612, 0.07301429055915591, 0.9049418540867801, 0.08562890662326521, 0.009730557570825592, 0.23398717615082482, 0.7649991695159387, 0.34516625147889435, 0.6546748323504649, 0.9889620840574691, 0.9946655628270669, 0.364292202317827, 0.4884455986234541, 0.1470237587829795, 0.15197133631065818, 0.1784011339299031, 0.6673523898859338, 0.0033505309537677254, 0.2948467239315598, 0.7036115002912223, 0.9927528541148376, 0.9931649846643789, 0.9896680765652643, 0.9910806625948073, 0.9929420958314054, 0.9101112193588446, 0.08891891223620896, 0.9959077955893159, 0.994028244534592, 0.010099626234908813, 0.9897633710210638, 0.9978979244579643, 0.1284282027792154, 0.8520348676919589, 0.019168388474509763, 0.9889523375248228, 0.9953310029450981, 0.9906175659200521, 0.08453175407549912, 0.9126563956964906, 0.0028654831889999705, 0.42151363845251405, 0.4758178380424213, 0.10265310591623726, 0.9972809295638608, 0.12386749175694244, 0.06193374587847122, 0.8095625354114452, 0.9964634400160332, 0.8901730147141421, 0.022536025688965622, 0.08638809847436822, 0.990754261775168, 0.011724902506215006, 0.9827128861821299, 0.01472229042969483, 0.9985109396628692, 0.0014496384141446997, 0.9936305740454708, 0.9943476665082709, 0.996016485546229, 0.48966818943940704, 0.24258791036447688, 0.2672959382719699, 0.9922631074039447, 0.9975415520726326, 0.9978773124807349, 0.7989889217886876, 0.19943754481857165, 0.0012387425144010662, 0.9944088088199177, 0.510149674779648, 0.37893721840622735, 0.1110678053949287, 0.4910903247117079, 0.4754740633401222, 0.03369824822289544, 0.9280371658476247, 0.03377136702502274, 0.03647307638702455, 0.9950711298045991, 0.9978995924389524, 0.9990936667049373, 0.8596421387825078, 0.1400898300238161, 0.9920162151475282, 0.06207954963786011, 0.9377279340034659, 0.19664352299676105, 0.06554784099892035, 0.7385056752545026, 0.9979729709089535, 0.9924435050934374, 0.9958486128598446, 0.6742273184970586, 0.323016911251279, 0.0024165853709571996, 0.8037181950299965, 0.14517269655312393, 0.05151289232530203, 0.7638480595544914, 0.17918563912160984, 0.0581891508487702, 0.5601446164144932, 0.2780242474525318, 0.16179679962246787, 0.9971382141826906, 0.8998983112642804, 0.09846215619431058, 0.9913762411553473, 0.9913160162877903, 0.9918687439014773, 0.9985657812239965, 0.9983957114201315, 0.9986202825919154, 0.9933461638402051, 0.9900849312172569, 0.3324301905252141, 0.24670919799984442, 0.42024193896583667, 0.47842658526124027, 0.4619291168039561, 0.05939088644622293, 0.992670286310387, 0.23336538309489546, 0.7334340611553857, 0.03333791187069935, 0.24568895036678964, 0.6742349228098458, 0.07974821667643336, 0.9968369626444119, 0.9953436333073742, 0.9896457798999075, 0.9787701888570407, 0.02109081811583408, 0.9994428018490575, 0.0005711101724851758, 0.4233918938408129, 0.4361328536091707, 0.14015055745193575, 0.5550039253045214, 0.40472136107997264, 0.04017454687190905, 0.9973347355496741, 0.14548087314325336, 0.2854196177858114, 0.5708392355716227, 0.9217613751702934, 0.00823001227830619, 0.07064093872212814, 0.9039586360686358, 0.09462927870690953, 0.933326596822669, 0.0663018893917743, 0.9137024953249098, 0.07424779812756314, 0.010606828303937593, 0.7289286073920783, 0.20987977621477338, 0.0613494730473953, 0.998138256926481, 0.0024953456423162023, 0.997512369799344, 0.8404255637422627, 0.1594303237451447, 0.9676147768369981, 0.03092832620026935, 0.7210014410192, 0.18450824278050396, 0.09367341556548663, 0.22196571499829076, 0.2845196892250818, 0.49236031326893587, 0.4741299514979043, 0.22770066277757983, 0.297686580774152, 0.9980419050593221, 0.9975398063638338, 0.39744990893074633, 0.34925021818566576, 0.2536409955601781, 0.6585542042653353, 0.3188389231025255, 0.022141591882119824, 0.9871198340142329, 0.9602688514363904, 0.03705217433195075, 0.9643051460291818, 0.016625950793606584, 0.018704194642807405, 0.9695524626268359, 0.029986158637943378], \"Term\": [\"abnormal\", \"abnormalities\", \"accuracy\", \"accuracy\", \"acetylation\", \"across\", \"across\", \"across\", \"activity\", \"activity\", \"activity\", \"ad\", \"ad\", \"adhd\", \"age\", \"alcohol\", \"alcoholics\", \"alcoholism\", \"algorithm\", \"also\", \"also\", \"also\", \"alzheimer\", \"amplitude\", \"amplitude\", \"amplitudes\", \"amplitudes\", \"analysis\", \"analysis\", \"analysis\", \"applications\", \"approach\", \"approach\", \"attention\", \"attention\", \"attention\", \"attentional\", \"attentional\", \"auditory\", \"auditory\", \"based\", \"based\", \"based\", \"bci\", \"bcis\", \"binding\", \"brain\", \"brain\", \"brain\", \"button\", \"button\", \"cancer\", \"cell\", \"cells\", \"children\", \"children\", \"chromatin\", \"chronic\", \"chronic\", \"classification\", \"classification\", \"classification\", \"classifier\", \"clinical\", \"clinical\", \"cognitive\", \"cognitive\", \"cognitive\", \"communication\", \"compared\", \"compared\", \"compared\", \"component\", \"component\", \"component\", \"components\", \"components\", \"components\", \"condition\", \"condition\", \"conditions\", \"conditions\", \"conditions\", \"control\", \"control\", \"control\", \"controls\", \"controls\", \"data\", \"data\", \"data\", \"deficits\", \"dementia\", \"depression\", \"deviant\", \"different\", \"different\", \"different\", \"disease\", \"disease\", \"disorder\", \"disorders\", \"disorders\", \"dna\", \"dysfunction\", \"dysfunction\", \"eeg\", \"eeg\", \"eeg\", \"effects\", \"effects\", \"effects\", \"elicited\", \"elicited\", \"emotional\", \"emotional\", \"encephalopathy\", \"erp\", \"erp\", \"erp\", \"erps\", \"erps\", \"evoked\", \"evoked\", \"evoked\", \"experiment\", \"experiment\", \"expression\", \"expression\", \"face\", \"faces\", \"feedback\", \"feedback\", \"frn\", \"function\", \"function\", \"function\", \"genes\", \"group\", \"group\", \"group\", \"groups\", \"groups\", \"hat\", \"healthy\", \"healthy\", \"healthy\", \"histone\", \"history\", \"history\", \"hz\", \"hz\", \"hz\", \"impairment\", \"impairment\", \"information\", \"information\", \"information\", \"instructed\", \"interface\", \"interfaces\", \"irrelevant\", \"larger\", \"larger\", \"late\", \"late\", \"late\", \"latencies\", \"latencies\", \"latency\", \"latency\", \"manipulated\", \"matrix\", \"may\", \"may\", \"may\", \"method\", \"method\", \"method\", \"methods\", \"methods\", \"methods\", \"mg\", \"mice\", \"mild\", \"months\", \"n400\", \"negativity\", \"negativity\", \"neuropsychological\", \"neutral\", \"nicotine\", \"nicotine\", \"nontarget\", \"normal\", \"normal\", \"normal\", \"nuclear\", \"object\", \"ocd\", \"p\", \"p\", \"p\", \"p300\", \"p300\", \"p300\", \"p53\", \"paper\", \"paper\", \"paper\", \"parkinson\", \"participants\", \"participants\", \"participants\", \"passive\", \"passive\", \"patient\", \"patient\", \"patients\", \"patients\", \"pcaf\", \"pd\", \"perceptual\", \"performance\", \"performance\", \"performance\", \"phosphorylation\", \"pictures\", \"placebo\", \"positive\", \"positive\", \"positive\", \"positivity\", \"potential\", \"potential\", \"potential\", \"potentials\", \"potentials\", \"potentials\", \"presented\", \"presented\", \"presented\", \"press\", \"priming\", \"probability\", \"processing\", \"processing\", \"prolongation\", \"prolonged\", \"prolonged\", \"proposed\", \"proposed\", \"proposed\", \"proteins\", \"psychiatric\", \"rare\", \"recorded\", \"recorded\", \"recorded\", \"response\", \"response\", \"response\", \"responses\", \"responses\", \"responses\", \"results\", \"results\", \"results\", \"reward\", \"rt\", \"rt\", \"rts\", \"s1\", \"s2\", \"schizophrenia\", \"schizophrenic\", \"schizophrenics\", \"semantic\", \"severity\", \"show\", \"show\", \"show\", \"showed\", \"showed\", \"showed\", \"signaling\", \"significant\", \"significant\", \"significant\", \"significantly\", \"significantly\", \"significantly\", \"speller\", \"spelling\", \"startle\", \"stimuli\", \"stimuli\", \"stimulus\", \"stimulus\", \"study\", \"study\", \"study\", \"subjects\", \"subjects\", \"subjects\", \"symptoms\", \"system\", \"system\", \"system\", \"target\", \"target\", \"target\", \"targets\", \"targets\", \"task\", \"task\", \"tasks\", \"tasks\", \"tasks\", \"time\", \"time\", \"time\", \"tones\", \"tones\", \"transcriptional\", \"treatment\", \"treatment\", \"trials\", \"trials\", \"two\", \"two\", \"two\", \"use\", \"use\", \"use\", \"used\", \"used\", \"used\", \"user\", \"users\", \"using\", \"using\", \"using\", \"visual\", \"visual\", \"visual\", \"wm\", \"word\", \"word\", \"words\", \"words\", \"words\", \"years\", \"years\"]}, \"mdsDat\": {\"y\": [0.12121680255989334, -0.10440250406920087, -0.016814298490692502], \"cluster\": [1, 1, 1], \"Freq\": [46.09148439270784, 35.02575229625574, 18.88276331103642], \"topics\": [1, 2, 3], \"x\": [-0.07628873934826567, -0.12022416283621265, 0.1965129021844783]}, \"R\": 30, \"lambda.step\": 0.01, \"tinfo\": {\"Category\": [\"Default\", \"Default\", \"Default\", \"Default\", \"Default\", \"Default\", \"Default\", \"Default\", \"Default\", \"Default\", \"Default\", \"Default\", \"Default\", \"Default\", \"Default\", \"Default\", \"Default\", \"Default\", \"Default\", \"Default\", \"Default\", \"Default\", \"Default\", \"Default\", \"Default\", \"Default\", \"Default\", \"Default\", \"Default\", \"Default\", \"Topic1\", \"Topic1\", \"Topic1\", \"Topic1\", \"Topic1\", \"Topic1\", \"Topic1\", \"Topic1\", \"Topic1\", \"Topic1\", \"Topic1\", \"Topic1\", \"Topic1\", \"Topic1\", \"Topic1\", \"Topic1\", \"Topic1\", \"Topic1\", \"Topic1\", \"Topic1\", \"Topic1\", \"Topic1\", \"Topic1\", \"Topic1\", \"Topic1\", \"Topic1\", \"Topic1\", \"Topic1\", \"Topic1\", \"Topic1\", \"Topic1\", \"Topic1\", \"Topic1\", \"Topic1\", \"Topic1\", \"Topic1\", \"Topic1\", \"Topic1\", \"Topic1\", \"Topic1\", \"Topic1\", \"Topic1\", \"Topic1\", \"Topic1\", \"Topic1\", \"Topic1\", \"Topic1\", \"Topic1\", \"Topic1\", \"Topic1\", \"Topic1\", \"Topic1\", \"Topic1\", \"Topic1\", \"Topic1\", \"Topic1\", \"Topic1\", \"Topic1\", \"Topic1\", \"Topic1\", \"Topic1\", \"Topic1\", \"Topic1\", \"Topic1\", \"Topic1\", \"Topic1\", \"Topic1\", \"Topic1\", \"Topic1\", \"Topic1\", \"Topic1\", \"Topic1\", \"Topic1\", \"Topic1\", \"Topic1\", \"Topic1\", \"Topic1\", \"Topic1\", \"Topic2\", \"Topic2\", \"Topic2\", \"Topic2\", \"Topic2\", \"Topic2\", \"Topic2\", \"Topic2\", \"Topic2\", \"Topic2\", \"Topic2\", \"Topic2\", \"Topic2\", \"Topic2\", \"Topic2\", \"Topic2\", \"Topic2\", \"Topic2\", \"Topic2\", \"Topic2\", \"Topic2\", \"Topic2\", \"Topic2\", \"Topic2\", \"Topic2\", \"Topic2\", \"Topic2\", \"Topic2\", \"Topic2\", \"Topic2\", \"Topic2\", \"Topic2\", \"Topic2\", \"Topic2\", \"Topic2\", \"Topic2\", \"Topic2\", \"Topic2\", \"Topic2\", \"Topic2\", \"Topic2\", \"Topic2\", \"Topic2\", \"Topic2\", \"Topic2\", \"Topic2\", \"Topic2\", \"Topic2\", \"Topic2\", \"Topic2\", \"Topic2\", \"Topic2\", \"Topic2\", \"Topic2\", \"Topic2\", \"Topic2\", \"Topic2\", \"Topic2\", \"Topic2\", \"Topic2\", \"Topic2\", \"Topic2\", \"Topic2\", \"Topic2\", \"Topic2\", \"Topic2\", \"Topic2\", \"Topic2\", \"Topic2\", \"Topic2\", \"Topic3\", \"Topic3\", \"Topic3\", \"Topic3\", \"Topic3\", \"Topic3\", \"Topic3\", \"Topic3\", \"Topic3\", \"Topic3\", \"Topic3\", \"Topic3\", \"Topic3\", \"Topic3\", \"Topic3\", \"Topic3\", \"Topic3\", \"Topic3\", \"Topic3\", \"Topic3\", \"Topic3\", \"Topic3\", \"Topic3\", \"Topic3\", \"Topic3\", \"Topic3\", \"Topic3\", \"Topic3\", \"Topic3\", \"Topic3\", \"Topic3\", \"Topic3\", \"Topic3\", \"Topic3\", \"Topic3\", \"Topic3\", \"Topic3\", \"Topic3\", \"Topic3\", \"Topic3\", \"Topic3\", \"Topic3\", \"Topic3\", \"Topic3\", \"Topic3\", \"Topic3\", \"Topic3\", \"Topic3\", \"Topic3\", \"Topic3\", \"Topic3\", \"Topic3\", \"Topic3\", \"Topic3\", \"Topic3\", \"Topic3\", \"Topic3\", \"Topic3\"], \"Term\": [\"patients\", \"stimuli\", \"stimulus\", \"controls\", \"bci\", \"task\", \"latency\", \"cognitive\", \"age\", \"schizophrenia\", \"group\", \"amplitude\", \"auditory\", \"target\", \"processing\", \"cells\", \"normal\", \"p\", \"system\", \"latencies\", \"expression\", \"cell\", \"condition\", \"p300\", \"disorder\", \"accuracy\", \"years\", \"interface\", \"significant\", \"method\", \"stimulus\", \"probability\", \"feedback\", \"rare\", \"tones\", \"neutral\", \"faces\", \"n400\", \"deviant\", \"perceptual\", \"nontarget\", \"button\", \"frn\", \"irrelevant\", \"pictures\", \"priming\", \"semantic\", \"positivity\", \"face\", \"emotional\", \"press\", \"instructed\", \"rts\", \"s1\", \"startle\", \"s2\", \"reward\", \"wm\", \"object\", \"manipulated\", \"stimuli\", \"hz\", \"condition\", \"passive\", \"experiment\", \"trials\", \"words\", \"task\", \"target\", \"word\", \"presented\", \"larger\", \"tasks\", \"processing\", \"elicited\", \"conditions\", \"late\", \"response\", \"across\", \"participants\", \"components\", \"rt\", \"negativity\", \"targets\", \"attentional\", \"component\", \"information\", \"responses\", \"positive\", \"erp\", \"two\", \"time\", \"p300\", \"amplitude\", \"visual\", \"erps\", \"subjects\", \"recorded\", \"results\", \"attention\", \"potentials\", \"potential\", \"auditory\", \"brain\", \"latency\", \"study\", \"different\", \"effects\", \"age\", \"schizophrenia\", \"patients\", \"disorder\", \"dementia\", \"schizophrenic\", \"abnormalities\", \"symptoms\", \"alcoholism\", \"alzheimer\", \"schizophrenics\", \"deficits\", \"neuropsychological\", \"alcohol\", \"depression\", \"pd\", \"abnormal\", \"alcoholics\", \"placebo\", \"mg\", \"controls\", \"parkinson\", \"psychiatric\", \"severity\", \"adhd\", \"prolongation\", \"months\", \"mild\", \"ocd\", \"encephalopathy\", \"chronic\", \"history\", \"patient\", \"dysfunction\", \"years\", \"ad\", \"impairment\", \"disease\", \"p\", \"clinical\", \"normal\", \"children\", \"group\", \"cognitive\", \"prolonged\", \"latency\", \"significant\", \"latencies\", \"p300\", \"groups\", \"significantly\", \"disorders\", \"auditory\", \"treatment\", \"amplitude\", \"potentials\", \"compared\", \"healthy\", \"subjects\", \"study\", \"evoked\", \"function\", \"may\", \"potential\", \"brain\", \"showed\", \"erp\", \"control\", \"amplitudes\", \"results\", \"bci\", \"cells\", \"cell\", \"interface\", \"acetylation\", \"histone\", \"speller\", \"communication\", \"p53\", \"bcis\", \"dna\", \"user\", \"transcriptional\", \"binding\", \"cancer\", \"users\", \"matrix\", \"applications\", \"proteins\", \"signaling\", \"hat\", \"phosphorylation\", \"classifier\", \"genes\", \"interfaces\", \"mice\", \"algorithm\", \"spelling\", \"chromatin\", \"pcaf\", \"nuclear\", \"nicotine\", \"expression\", \"classification\", \"approach\", \"paper\", \"method\", \"system\", \"accuracy\", \"based\", \"methods\", \"proposed\", \"eeg\", \"use\", \"activity\", \"data\", \"p300\", \"used\", \"using\", \"control\", \"analysis\", \"results\", \"performance\", \"study\", \"brain\", \"also\", \"show\", \"potential\"], \"loglift\": [30.0, 29.0, 28.0, 27.0, 26.0, 25.0, 24.0, 23.0, 22.0, 21.0, 20.0, 19.0, 18.0, 17.0, 16.0, 15.0, 14.0, 13.0, 12.0, 11.0, 10.0, 9.0, 8.0, 7.0, 6.0, 5.0, 4.0, 3.0, 2.0, 1.0, 0.7739, 0.7727, 0.7724, 0.7719, 0.7718, 0.7707, 0.7704, 0.7701, 0.77, 0.7699, 0.7698, 0.7698, 0.7698, 0.7697, 0.7697, 0.7693, 0.7692, 0.769, 0.769, 0.7689, 0.7684, 0.7684, 0.7681, 0.7671, 0.7669, 0.7668, 0.7666, 0.7666, 0.7665, 0.7663, 0.7531, 0.7591, 0.7503, 0.7631, 0.749, 0.741, 0.7379, 0.7057, 0.6928, 0.7347, 0.7003, 0.6983, 0.6851, 0.6235, 0.6507, 0.6546, 0.6752, 0.5557, 0.707, 0.6586, 0.5509, 0.6692, 0.6791, 0.6729, 0.6659, 0.4708, 0.5179, 0.5046, 0.5505, 0.3923, 0.4479, 0.4583, -0.0893, 0.1979, 0.3571, 0.3699, 0.1859, 0.3807, 0.195, 0.4274, 0.0633, 0.102, -0.0661, 0.031, -0.2893, -0.0845, 0.2928, 0.1308, 1.0481, 1.048, 1.0476, 1.0473, 1.0472, 1.0471, 1.0466, 1.0466, 1.046, 1.0459, 1.0458, 1.0457, 1.0456, 1.0455, 1.0454, 1.0453, 1.0452, 1.0451, 1.0447, 1.0444, 1.0443, 1.0437, 1.0432, 1.0429, 1.0428, 1.0427, 1.0426, 1.0425, 1.0414, 1.0413, 1.0373, 1.0394, 1.0327, 1.0312, 1.0173, 1.0332, 1.0121, 0.9778, 0.9582, 0.9694, 0.889, 0.9386, 0.8295, 0.7787, 0.9842, 0.6255, 0.7393, 0.7817, 0.3063, 0.7829, 0.655, 0.9539, 0.4841, 0.8748, 0.2238, 0.3053, 0.4641, 0.6195, 0.1445, 0.2196, 0.3926, 0.6152, 0.3323, 0.0783, 0.0622, 0.2769, -0.1165, 0.317, 0.3082, -0.2313, 1.666, 1.6652, 1.6646, 1.6645, 1.6644, 1.6644, 1.6633, 1.6629, 1.6627, 1.6627, 1.6626, 1.6624, 1.6622, 1.6621, 1.6621, 1.6616, 1.6613, 1.6612, 1.6611, 1.661, 1.661, 1.6608, 1.6607, 1.6605, 1.6605, 1.6597, 1.6595, 1.6593, 1.6591, 1.6591, 1.6591, 1.6554, 1.6304, 1.5212, 1.4866, 1.4582, 1.264, 1.1051, 1.2342, 1.1761, 1.3135, 1.3609, 0.6277, 0.9604, 0.58, 0.5879, -0.6093, 0.4554, 0.2943, 0.35, 0.4722, -0.1536, 0.3494, -0.2981, -0.2182, 0.1047, 0.801, -0.5328], \"Freq\": [3449.0, 2560.0, 1750.0, 1136.0, 683.0, 2156.0, 2804.0, 1949.0, 797.0, 688.0, 1394.0, 3137.0, 2226.0, 1458.0, 1727.0, 365.0, 1043.0, 697.0, 721.0, 935.0, 301.0, 280.0, 698.0, 9907.0, 423.0, 423.0, 500.0, 256.0, 1229.0, 454.0, 1749.8718849647134, 410.6136572942092, 368.3868896964258, 311.4584715256822, 399.6596681021745, 181.39081595512667, 169.96993648489752, 174.46311604591736, 161.1577472845909, 154.89649793988616, 153.60056756949947, 175.5153605351245, 146.53386469407542, 148.0426829256802, 156.6203260427076, 131.58699025171225, 137.18717962935008, 131.01355882731704, 134.92727577018707, 295.52564096458457, 119.86094226535883, 115.71211282323034, 115.25265740333452, 94.122550874643, 96.26331389919014, 90.0422044679409, 93.52718591181124, 90.45568723681973, 91.69281625808469, 95.27513650467621, 2505.9932869706627, 291.1586752630622, 681.6225847186114, 168.63685075806842, 357.1854317969114, 437.7325305948896, 463.86893632599816, 2013.281910737541, 1343.6505239699613, 311.2250081142479, 687.2984246035655, 545.6766667746025, 603.4707941845973, 1485.2321085865676, 676.0975468911712, 644.7797756193961, 465.24044363116263, 1372.5201370905713, 296.2963474754303, 474.1810910896966, 1082.0807349815136, 393.05917820803063, 347.54793954447297, 362.76690444511956, 357.0735475761338, 1067.573255244786, 777.0764213848271, 826.5035732185383, 645.2065889562792, 1312.6877500449489, 1016.4802115204175, 902.9555003099653, 4176.447037641534, 1762.42055496445, 1041.2432382804768, 996.9106517755203, 1492.220367427283, 837.3221381777413, 1094.003093276468, 710.8872084406269, 1194.8832997661582, 937.4451102589933, 960.37079366933, 858.9228871198269, 967.8910107333601, 864.3427364729828, 704.8015257934117, 693.9544518826052, 796.3551499589308, 688.2464637633142, 3444.007153414485, 423.21897587488695, 376.5231341750346, 363.85134634267285, 300.4358099395872, 290.0428334929384, 241.08123580960893, 227.79715016693473, 228.5614236849818, 271.2350242293217, 223.1269788346764, 211.11678858479064, 207.6337031029278, 192.36598181624382, 209.61700791839255, 181.74350751301873, 173.6003423793839, 161.4181033665352, 1131.1046616282615, 133.74967968915456, 129.21461121031723, 120.45033676319265, 126.2556807971136, 138.22168180526248, 120.30242996581764, 123.47292619006342, 93.16133833594961, 91.247794986007, 226.20822296027785, 175.1318278528581, 267.2712367989805, 245.68048313879117, 484.56965423293246, 182.41147412804156, 290.7606775872741, 472.8104782031536, 637.3414293694036, 504.1778457216216, 889.0080033094006, 498.1536024306173, 1119.7706759080172, 1487.7651572342024, 286.8285461127674, 1836.145760764461, 902.1932811036689, 716.3514671647944, 4713.558690886562, 595.2723665101189, 837.0826182034651, 309.8570163865055, 1265.1735869701884, 368.8445840266288, 1374.4809390671162, 1156.594172583851, 706.6702120718192, 538.5673481241942, 1087.9838330636073, 890.3131965370719, 644.5598337673533, 481.95113914631827, 597.8349913984849, 695.7096017477609, 673.4076912493065, 560.0672254154481, 599.7588161585918, 531.7525900171901, 525.8526618484165, 542.7941269055976, 682.9710187753858, 365.35157854522197, 279.59525531181737, 255.99061405748932, 243.19001325735698, 237.0849601076319, 166.9190658440355, 164.92873735687456, 143.78668462164055, 144.48457957524369, 139.9996815314084, 137.64981798060523, 127.71237707097642, 128.88566291523279, 133.42044565721514, 163.5397409720804, 115.96882535663745, 119.71648540956765, 104.60385574318268, 107.15277541818305, 101.28469865465065, 99.16606201457097, 97.99863180957718, 99.90175003939984, 94.39992413696784, 84.9715075598111, 96.7271899543535, 80.75949361864478, 77.40313930012157, 76.8869919160837, 82.26600561043168, 97.8767320826256, 290.7375678954894, 224.7795330836014, 185.82669228852558, 183.46655967792714, 303.4552177918854, 411.52620185250333, 274.7393231703072, 296.1179664583661, 209.60053068045562, 168.51023199629736, 416.0742415734605, 244.48353898243573, 380.10741083317106, 367.14170670101595, 1017.147015879367, 302.0670185937221, 320.756626131796, 296.2825654933334, 254.46446147150334, 316.26984132561284, 238.4480739771568, 286.0066601307747, 274.2493698142522, 236.97770108321083, 201.1948782802365, 203.56115065595174], \"Total\": [3449.0, 2560.0, 1750.0, 1136.0, 683.0, 2156.0, 2804.0, 1949.0, 797.0, 688.0, 1394.0, 3137.0, 2226.0, 1458.0, 1727.0, 365.0, 1043.0, 697.0, 721.0, 935.0, 301.0, 280.0, 698.0, 9907.0, 423.0, 423.0, 500.0, 256.0, 1229.0, 454.0, 1750.9756403891702, 411.3728409023944, 369.18523509147263, 312.2964635225837, 400.7460862503164, 182.08738131454697, 170.67318739052055, 175.23680457349045, 161.8911683338947, 155.61991417742036, 154.32440155003763, 176.34642529771727, 147.229373053235, 148.75706626905497, 157.38692756586903, 132.27783736977048, 137.91768165728632, 131.73656431650076, 135.6765250571296, 297.20739995200756, 120.59439411488529, 116.42678077645304, 116.0003591229696, 94.8234452541224, 97.00440495963052, 90.73781239036578, 94.26977991917357, 91.17434064110024, 92.43156269399826, 96.06030557838808, 2560.3558716131133, 295.68159525217817, 698.3645746243668, 170.57711131839793, 366.43084856663194, 452.6594782189693, 481.17548880731414, 2156.8012814087497, 1458.0780191095541, 323.8676330433916, 740.2720766818935, 588.9258071358175, 659.9522307155078, 1727.4630139736666, 765.244469386096, 726.95099706631, 513.8451690570259, 1708.310211825871, 316.98871225272006, 532.480756173241, 1353.2789913496204, 436.7160101099295, 382.3708494058112, 401.56704689354626, 398.03701947819695, 1446.518677819136, 1004.392580782908, 1082.6760501065376, 807.2702667216532, 1923.9005224030798, 1409.1511364579148, 1238.8044464748132, 9907.152744407464, 3137.310844377198, 1580.7354857924117, 1494.2073656022308, 2688.2692751792065, 1241.4210712579595, 1953.0670615076785, 1005.8991243077493, 2433.3609111552314, 1836.7158626627058, 2226.0108775042804, 1806.5799481833856, 2804.4456717669273, 2040.6625931408294, 1140.9532529207047, 1321.0196752109096, 797.1352474462341, 688.9881597551649, 3449.13597157264, 423.9721708609793, 377.23784716805915, 364.5848993904847, 301.16964349384415, 290.7749922498874, 241.82385439941874, 228.53130479910124, 229.31639181775012, 272.1644046254877, 223.91631131679472, 211.87865872173725, 208.3996569969602, 193.0914170837479, 210.42827179682402, 182.4744708738298, 174.37013330570062, 162.17530811689429, 1136.4947303719784, 134.47558095843831, 129.9822099071068, 121.20172342433932, 127.05067963507149, 139.11062933530502, 121.0799529533962, 124.28409374068426, 93.88083070546477, 91.96364899170933, 228.88852271690016, 176.84262554062383, 271.69685444677873, 250.10635959658384, 500.2307958519086, 185.32334472595468, 301.7155616414735, 507.75499717045045, 697.9625662009147, 545.994829341456, 1043.384530034756, 556.328963008118, 1394.7796990429408, 1949.6281704486, 306.0589213490778, 2804.4456717669273, 1229.8310751740528, 935.9487284843153, 9907.152744407464, 776.8053002679715, 1241.407069974717, 340.7886263193407, 2226.0108775042804, 439.063274511677, 3137.310844377198, 2433.3609111552314, 1268.4492272335128, 827.5518100821722, 2688.2692751792065, 2040.6625931408294, 1242.6827810829916, 743.8006680089928, 1224.2919205031103, 1836.7158626627058, 1806.5799481833856, 1212.3072125753558, 1923.9005224030798, 1105.717677914839, 1103.0985691307478, 1953.0670615076785, 683.5833286091696, 365.9752045963705, 280.2453025137351, 256.60571642701814, 243.7961847286585, 237.6918175902986, 167.52990334245024, 165.59601396180713, 144.39261368707338, 145.09715116999703, 140.610899896478, 138.27074725063522, 128.31921074397104, 129.50687720982452, 134.06523133093236, 164.40446682303534, 116.62211333656862, 120.40715952347105, 105.21327035978342, 107.79007035428012, 101.89069086538228, 99.77192466523665, 98.60932862280815, 100.54131360703948, 95.0122950915324, 85.58497461398534, 97.44336748497643, 81.37893013978442, 78.0094025243776, 77.49358968142651, 82.91602829437853, 99.01356513011876, 301.5661917025083, 260.0542822886061, 222.55693020345998, 226.04800987609144, 454.0329885561507, 721.7443622063479, 423.51688772599834, 483.74133548498537, 298.4601586430605, 228.8404891969984, 1176.1988037505628, 495.57203012567527, 1127.1133612948727, 1080.0137924347373, 9907.152744407464, 1014.4898006978706, 1265.568285958886, 1105.717677914839, 840.3912984573085, 1953.0670615076785, 890.3988647887284, 2040.6625931408294, 1806.5799481833856, 1130.2587200916635, 478.2959085298247, 1836.7158626627058], \"logprob\": [30.0, 29.0, 28.0, 27.0, 26.0, 25.0, 24.0, 23.0, 22.0, 21.0, 20.0, 19.0, 18.0, 17.0, 16.0, 15.0, 14.0, 13.0, 12.0, 11.0, 10.0, 9.0, 8.0, 7.0, 6.0, 5.0, 4.0, 3.0, 2.0, 1.0, -4.7592, -6.2089, -6.3174, -6.4852, -6.2359, -7.0259, -7.0909, -7.0648, -7.1441, -7.1837, -7.1921, -7.0588, -7.2392, -7.229, -7.1727, -7.3468, -7.3052, -7.3512, -7.3218, -6.5377, -7.4402, -7.4754, -7.4794, -7.6819, -7.6594, -7.7262, -7.6883, -7.7216, -7.7081, -7.6697, -4.4001, -6.5526, -5.702, -7.0988, -6.3483, -6.1449, -6.0869, -4.619, -5.0234, -6.486, -5.6937, -5.9245, -5.8238, -4.9232, -5.7102, -5.7576, -6.084, -5.0021, -6.5351, -6.0649, -5.2399, -6.2525, -6.3756, -6.3327, -6.3486, -5.2534, -5.571, -5.5093, -5.7569, -5.0467, -5.3024, -5.4208, -3.8893, -4.7521, -5.2783, -5.3218, -4.9185, -5.4963, -5.2289, -5.66, -5.1407, -5.3833, -5.3592, -5.4708, -5.3514, -5.4645, -5.6686, -5.6841, -5.2719, -5.4178, -3.8076, -5.9041, -6.021, -6.0552, -6.2467, -6.2819, -6.4668, -6.5235, -6.5202, -6.349, -6.5442, -6.5995, -6.6162, -6.6926, -6.6067, -6.7494, -6.7952, -6.868, -4.921, -7.056, -7.0905, -7.1607, -7.1137, -7.0231, -7.162, -7.1359, -7.4176, -7.4384, -6.5305, -6.7864, -6.3637, -6.4479, -5.7687, -6.7457, -6.2795, -5.7933, -5.4947, -5.729, -5.1619, -5.7411, -4.9311, -4.6469, -6.2931, -4.4365, -5.1471, -5.3778, -3.4938, -5.5629, -5.222, -6.2158, -4.809, -6.0416, -4.7261, -4.8987, -5.3914, -5.663, -4.9599, -5.1604, -5.4834, -5.7741, -5.5586, -5.407, -5.4396, -5.6239, -5.5554, -5.6758, -5.6869, -5.6552, -4.8077, -5.4333, -5.7008, -5.789, -5.8403, -5.8657, -6.2166, -6.2286, -6.3658, -6.361, -6.3925, -6.4094, -6.4843, -6.4752, -6.4406, -6.2371, -6.5808, -6.549, -6.6839, -6.6599, -6.7162, -6.7373, -6.7492, -6.7299, -6.7866, -6.8918, -6.7622, -6.9427, -6.9851, -6.9918, -6.9242, -6.7504, -5.6617, -5.919, -6.1093, -6.1221, -5.6189, -5.3143, -5.7183, -5.6434, -5.9889, -6.2071, -5.3033, -5.835, -5.3937, -5.4284, -4.4094, -5.6235, -5.5634, -5.6428, -5.795, -5.5775, -5.86, -5.6781, -5.7201, -5.8662, -6.0299, -6.0182]}};\n",
       "\n",
       "function LDAvis_load_lib(url, callback){\n",
       "  var s = document.createElement('script');\n",
       "  s.src = url;\n",
       "  s.async = true;\n",
       "  s.onreadystatechange = s.onload = callback;\n",
       "  s.onerror = function(){console.warn(\"failed to load library \" + url);};\n",
       "  document.getElementsByTagName(\"head\")[0].appendChild(s);\n",
       "}\n",
       "\n",
       "if(typeof(LDAvis) !== \"undefined\"){\n",
       "   // already loaded: just create the visualization\n",
       "   !function(LDAvis){\n",
       "       new LDAvis(\"#\" + \"ldavis_el1911648463583524387668685\", ldavis_el1911648463583524387668685_data);\n",
       "   }(LDAvis);\n",
       "}else if(typeof define === \"function\" && define.amd){\n",
       "   // require.js is available: use it to load d3/LDAvis\n",
       "   require.config({paths: {d3: \"https://cdnjs.cloudflare.com/ajax/libs/d3/3.5.5/d3.min\"}});\n",
       "   require([\"d3\"], function(d3){\n",
       "      window.d3 = d3;\n",
       "      LDAvis_load_lib(\"https://cdn.rawgit.com/bmabey/pyLDAvis/files/ldavis.v1.0.0.js\", function(){\n",
       "        new LDAvis(\"#\" + \"ldavis_el1911648463583524387668685\", ldavis_el1911648463583524387668685_data);\n",
       "      });\n",
       "    });\n",
       "}else{\n",
       "    // require.js not available: dynamically load d3 & LDAvis\n",
       "    LDAvis_load_lib(\"https://cdnjs.cloudflare.com/ajax/libs/d3/3.5.5/d3.min.js\", function(){\n",
       "         LDAvis_load_lib(\"https://cdn.rawgit.com/bmabey/pyLDAvis/files/ldavis.v1.0.0.js\", function(){\n",
       "                 new LDAvis(\"#\" + \"ldavis_el1911648463583524387668685\", ldavis_el1911648463583524387668685_data);\n",
       "            })\n",
       "         });\n",
       "}\n",
       "</script>"
      ],
      "text/plain": [
       "PreparedData(topic_coordinates=            Freq  cluster  topics         x         y\n",
       "topic                                                \n",
       "2      46.091484        1       1 -0.076289  0.121217\n",
       "1      35.025752        1       2 -0.120224 -0.104403\n",
       "0      18.882763        1       3  0.196513 -0.016814, topic_info=      Category         Freq            Term        Total  loglift  logprob\n",
       "term                                                                      \n",
       "17956  Default  3449.000000        patients  3449.000000  30.0000  30.0000\n",
       "9994   Default  2560.000000         stimuli  2560.000000  29.0000  29.0000\n",
       "16252  Default  1750.000000        stimulus  1750.000000  28.0000  28.0000\n",
       "13180  Default  1136.000000        controls  1136.000000  27.0000  27.0000\n",
       "18572  Default   683.000000             bci   683.000000  26.0000  26.0000\n",
       "455    Default  2156.000000            task  2156.000000  25.0000  25.0000\n",
       "5006   Default  2804.000000         latency  2804.000000  24.0000  24.0000\n",
       "12777  Default  1949.000000       cognitive  1949.000000  23.0000  23.0000\n",
       "12896  Default   797.000000             age   797.000000  22.0000  22.0000\n",
       "7480   Default   688.000000   schizophrenia   688.000000  21.0000  21.0000\n",
       "8660   Default  1394.000000           group  1394.000000  20.0000  20.0000\n",
       "5188   Default  3137.000000       amplitude  3137.000000  19.0000  19.0000\n",
       "287    Default  2226.000000        auditory  2226.000000  18.0000  18.0000\n",
       "4976   Default  1458.000000          target  1458.000000  17.0000  17.0000\n",
       "7777   Default  1727.000000      processing  1727.000000  16.0000  16.0000\n",
       "9050   Default   365.000000           cells   365.000000  15.0000  15.0000\n",
       "10106  Default  1043.000000          normal  1043.000000  14.0000  14.0000\n",
       "16599  Default   697.000000               p   697.000000  13.0000  13.0000\n",
       "3831   Default   721.000000          system   721.000000  12.0000  12.0000\n",
       "11198  Default   935.000000       latencies   935.000000  11.0000  11.0000\n",
       "1783   Default   301.000000      expression   301.000000  10.0000  10.0000\n",
       "8047   Default   280.000000            cell   280.000000   9.0000   9.0000\n",
       "4449   Default   698.000000       condition   698.000000   8.0000   8.0000\n",
       "14518  Default  9907.000000            p300  9907.000000   7.0000   7.0000\n",
       "938    Default   423.000000        disorder   423.000000   6.0000   6.0000\n",
       "3909   Default   423.000000        accuracy   423.000000   5.0000   5.0000\n",
       "1373   Default   500.000000           years   500.000000   4.0000   4.0000\n",
       "2933   Default   256.000000       interface   256.000000   3.0000   3.0000\n",
       "17264  Default  1229.000000     significant  1229.000000   2.0000   2.0000\n",
       "2350   Default   454.000000          method   454.000000   1.0000   1.0000\n",
       "...        ...          ...             ...          ...      ...      ...\n",
       "1406    Topic3    77.403139       chromatin    78.009403   1.6591  -6.9851\n",
       "8645    Topic3    76.886992            pcaf    77.493590   1.6591  -6.9918\n",
       "4033    Topic3    82.266006         nuclear    82.916028   1.6591  -6.9242\n",
       "16576   Topic3    97.876732        nicotine    99.013565   1.6554  -6.7504\n",
       "1783    Topic3   290.737568      expression   301.566192   1.6304  -5.6617\n",
       "142     Topic3   224.779533  classification   260.054282   1.5212  -5.9190\n",
       "14478   Topic3   185.826692        approach   222.556930   1.4866  -6.1093\n",
       "2542    Topic3   183.466560           paper   226.048010   1.4582  -6.1221\n",
       "2350    Topic3   303.455218          method   454.032989   1.2640  -5.6189\n",
       "3831    Topic3   411.526202          system   721.744362   1.1051  -5.3143\n",
       "3909    Topic3   274.739323        accuracy   423.516888   1.2342  -5.7183\n",
       "8548    Topic3   296.117966           based   483.741335   1.1761  -5.6434\n",
       "3167    Topic3   209.600531         methods   298.460159   1.3135  -5.9889\n",
       "14647   Topic3   168.510232        proposed   228.840489   1.3609  -6.2071\n",
       "7741    Topic3   416.074242             eeg  1176.198804   0.6277  -5.3033\n",
       "17580   Topic3   244.483539             use   495.572030   0.9604  -5.8350\n",
       "16877   Topic3   380.107411        activity  1127.113361   0.5800  -5.3937\n",
       "1335    Topic3   367.141707            data  1080.013792   0.5879  -5.4284\n",
       "14518   Topic3  1017.147016            p300  9907.152744  -0.6093  -4.4094\n",
       "7644    Topic3   302.067019            used  1014.489801   0.4554  -5.6235\n",
       "3098    Topic3   320.756626           using  1265.568286   0.2943  -5.5634\n",
       "8158    Topic3   296.282565         control  1105.717678   0.3500  -5.6428\n",
       "17111   Topic3   254.464461        analysis   840.391298   0.4722  -5.7950\n",
       "3385    Topic3   316.269841         results  1953.067062  -0.1536  -5.5775\n",
       "10829   Topic3   238.448074     performance   890.398865   0.3494  -5.8600\n",
       "4644    Topic3   286.006660           study  2040.662593  -0.2981  -5.6781\n",
       "5966    Topic3   274.249370           brain  1806.579948  -0.2182  -5.7201\n",
       "17145   Topic3   236.977701            also  1130.258720   0.1047  -5.8662\n",
       "2701    Topic3   201.194878            show   478.295909   0.8010  -6.0299\n",
       "10826   Topic3   203.561151       potential  1836.715863  -0.5328  -6.0182\n",
       "\n",
       "[236 rows x 6 columns], token_table=       Topic      Freq             Term\n",
       "term                                   \n",
       "10676      2  0.997965         abnormal\n",
       "6210       2  0.996116    abnormalities\n",
       "3909       1  0.349455         accuracy\n",
       "3909       3  0.649325         accuracy\n",
       "4574       3  0.996734      acetylation\n",
       "9213       1  0.933787           across\n",
       "9213       2  0.050475           across\n",
       "9213       3  0.015773           across\n",
       "16877      1  0.498619         activity\n",
       "16877      2  0.164136         activity\n",
       "16877      3  0.337144         activity\n",
       "2142       2  0.982067               ad\n",
       "2142       3  0.016188               ad\n",
       "14294      2  0.991730             adhd\n",
       "12896      2  0.998576              age\n",
       "6791       2  0.995853          alcohol\n",
       "1128       2  0.997400       alcoholics\n",
       "6282       2  0.996593       alcoholism\n",
       "3358       3  0.995450        algorithm\n",
       "17145      1  0.443261             also\n",
       "17145      2  0.346823             also\n",
       "17145      3  0.209687             also\n",
       "16621      2  0.997675        alzheimer\n",
       "5188       1  0.561627        amplitude\n",
       "5188       2  0.437955        amplitude\n",
       "4741       1  0.523072       amplitudes\n",
       "4741       2  0.476839       amplitudes\n",
       "17111      1  0.427182         analysis\n",
       "17111      2  0.270112         analysis\n",
       "17111      3  0.302240         analysis\n",
       "...      ...       ...              ...\n",
       "3304       3  0.997512  transcriptional\n",
       "6550       2  0.840426        treatment\n",
       "6550       3  0.159430        treatment\n",
       "4469       1  0.967615           trials\n",
       "4469       3  0.030928           trials\n",
       "11580      1  0.721001              two\n",
       "11580      2  0.184508              two\n",
       "11580      3  0.093673              two\n",
       "17580      1  0.221966              use\n",
       "17580      2  0.284520              use\n",
       "17580      3  0.492360              use\n",
       "7644       1  0.474130             used\n",
       "7644       2  0.227701             used\n",
       "7644       3  0.297687             used\n",
       "7654       3  0.998042             user\n",
       "17381      3  0.997540            users\n",
       "3098       1  0.397450            using\n",
       "3098       2  0.349250            using\n",
       "3098       3  0.253641            using\n",
       "7933       1  0.658554           visual\n",
       "7933       2  0.318839           visual\n",
       "7933       3  0.022142           visual\n",
       "5191       1  0.987120               wm\n",
       "2721       1  0.960269             word\n",
       "2721       3  0.037052             word\n",
       "15288      1  0.964305            words\n",
       "15288      2  0.016626            words\n",
       "15288      3  0.018704            words\n",
       "1373       2  0.969552            years\n",
       "1373       3  0.029986            years\n",
       "\n",
       "[354 rows x 3 columns], R=30, lambda_step=0.01, plot_opts={'xlab': 'PC1', 'ylab': 'PC2'}, topic_order=[3, 2, 1])"
      ]
     },
     "execution_count": 34,
     "metadata": {},
     "output_type": "execute_result"
    }
   ],
   "source": [
    "data"
   ]
  },
  {
   "cell_type": "code",
   "execution_count": null,
   "metadata": {
    "collapsed": true
   },
   "outputs": [],
   "source": []
  }
 ],
 "metadata": {
  "kernelspec": {
   "display_name": "Python 2",
   "language": "python",
   "name": "python2"
  },
  "language_info": {
   "codemirror_mode": {
    "name": "ipython",
    "version": 2
   },
   "file_extension": ".py",
   "mimetype": "text/x-python",
   "name": "python",
   "nbconvert_exporter": "python",
   "pygments_lexer": "ipython2",
   "version": "2.7.13"
  }
 },
 "nbformat": 4,
 "nbformat_minor": 2
}
